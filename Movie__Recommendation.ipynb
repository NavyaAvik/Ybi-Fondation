{
  "nbformat": 4,
  "nbformat_minor": 0,
  "metadata": {
    "colab": {
      "provenance": []
    },
    "kernelspec": {
      "name": "python3",
      "display_name": "Python 3"
    },
    "language_info": {
      "name": "python"
    }
  },
  "cells": [
    {
      "cell_type": "markdown",
      "source": [
        "**Movie Recommendation System**\n",
        "\n",
        "\n",
        "\n"
      ],
      "metadata": {
        "id": "ceG6MrTNQqnD"
      }
    },
    {
      "cell_type": "code",
      "execution_count": 1,
      "metadata": {
        "id": "6RfAFJUr5iql"
      },
      "outputs": [],
      "source": [
        "import pandas as pd"
      ]
    },
    {
      "cell_type": "code",
      "source": [
        "df = pd.read_csv('https://github.com/YBI-Foundation/Dataset/raw/main/Movies%20Recommendation.csv')"
      ],
      "metadata": {
        "id": "YWp_iR-G5q4O"
      },
      "execution_count": 2,
      "outputs": []
    },
    {
      "cell_type": "code",
      "source": [
        "df.head()"
      ],
      "metadata": {
        "colab": {
          "base_uri": "https://localhost:8080/",
          "height": 672
        },
        "id": "jvSVol8N6QXF",
        "outputId": "201ae9b1-2292-4261-f1df-7fffc5c8dad0"
      },
      "execution_count": 4,
      "outputs": [
        {
          "output_type": "execute_result",
          "data": {
            "text/plain": [
              "   Movie_ID      Movie_Title                       Movie_Genre Movie_Language  \\\n",
              "0         1       Four Rooms                      Crime Comedy             en   \n",
              "1         2        Star Wars  Adventure Action Science Fiction             en   \n",
              "2         3     Finding Nemo                  Animation Family             en   \n",
              "3         4     Forrest Gump              Comedy Drama Romance             en   \n",
              "4         5  American Beauty                             Drama             en   \n",
              "\n",
              "   Movie_Budget  Movie_Popularity Movie_Release_Date  Movie_Revenue  \\\n",
              "0       4000000         22.876230         09-12-1995        4300000   \n",
              "1      11000000        126.393695         25-05-1977      775398007   \n",
              "2      94000000         85.688789         30-05-2003      940335536   \n",
              "3      55000000        138.133331         06-07-1994      677945399   \n",
              "4      15000000         80.878605         15-09-1999      356296601   \n",
              "\n",
              "   Movie_Runtime  Movie_Vote  ...  \\\n",
              "0           98.0         6.5  ...   \n",
              "1          121.0         8.1  ...   \n",
              "2          100.0         7.6  ...   \n",
              "3          142.0         8.2  ...   \n",
              "4          122.0         7.9  ...   \n",
              "\n",
              "                                      Movie_Homepage  \\\n",
              "0                                                NaN   \n",
              "1  http://www.starwars.com/films/star-wars-episod...   \n",
              "2              http://movies.disney.com/finding-nemo   \n",
              "3                                                NaN   \n",
              "4                      http://www.dreamworks.com/ab/   \n",
              "\n",
              "                                      Movie_Keywords  \\\n",
              "0          hotel new year's eve witch bet hotel room   \n",
              "1        android galaxy hermit death star lightsaber   \n",
              "2  father son relationship harbor underwater fish...   \n",
              "3  vietnam veteran hippie mentally disabled runni...   \n",
              "4  male nudity female nudity adultery midlife cri...   \n",
              "\n",
              "                                      Movie_Overview  \\\n",
              "0  It's Ted the Bellhop's first night on the job....   \n",
              "1  Princess Leia is captured and held hostage by ...   \n",
              "2  Nemo, an adventurous young clownfish, is unexp...   \n",
              "3  A man with a low IQ has accomplished great thi...   \n",
              "4  Lester Burnham, a depressed suburban father in...   \n",
              "\n",
              "                              Movie_Production_House  \\\n",
              "0  [{\"name\": \"Miramax Films\", \"id\": 14}, {\"name\":...   \n",
              "1  [{\"name\": \"Lucasfilm\", \"id\": 1}, {\"name\": \"Twe...   \n",
              "2     [{\"name\": \"Pixar Animation Studios\", \"id\": 3}]   \n",
              "3          [{\"name\": \"Paramount Pictures\", \"id\": 4}]   \n",
              "4  [{\"name\": \"DreamWorks SKG\", \"id\": 27}, {\"name\"...   \n",
              "\n",
              "                            Movie_Production_Country  \\\n",
              "0  [{\"iso_3166_1\": \"US\", \"name\": \"United States o...   \n",
              "1  [{\"iso_3166_1\": \"US\", \"name\": \"United States o...   \n",
              "2  [{\"iso_3166_1\": \"US\", \"name\": \"United States o...   \n",
              "3  [{\"iso_3166_1\": \"US\", \"name\": \"United States o...   \n",
              "4  [{\"iso_3166_1\": \"US\", \"name\": \"United States o...   \n",
              "\n",
              "                      Movie_Spoken_Language  \\\n",
              "0  [{\"iso_639_1\": \"en\", \"name\": \"English\"}]   \n",
              "1  [{\"iso_639_1\": \"en\", \"name\": \"English\"}]   \n",
              "2  [{\"iso_639_1\": \"en\", \"name\": \"English\"}]   \n",
              "3  [{\"iso_639_1\": \"en\", \"name\": \"English\"}]   \n",
              "4  [{\"iso_639_1\": \"en\", \"name\": \"English\"}]   \n",
              "\n",
              "                                       Movie_Tagline  \\\n",
              "0  Twelve outrageous guests. Four scandalous requ...   \n",
              "1       A long time ago in a galaxy far, far away...   \n",
              "2  There are 3.7 trillion fish in the ocean, they...   \n",
              "3  The world will never be the same, once you've ...   \n",
              "4                                       Look closer.   \n",
              "\n",
              "                                          Movie_Cast  \\\n",
              "0  Tim Roth Antonio Banderas Jennifer Beals Madon...   \n",
              "1  Mark Hamill Harrison Ford Carrie Fisher Peter ...   \n",
              "2  Albert Brooks Ellen DeGeneres Alexander Gould ...   \n",
              "3  Tom Hanks Robin Wright Gary Sinise Mykelti Wil...   \n",
              "4  Kevin Spacey Annette Bening Thora Birch Wes Be...   \n",
              "\n",
              "                                          Movie_Crew   Movie_Director  \n",
              "0  [{'name': 'Allison Anders', 'gender': 1, 'depa...   Allison Anders  \n",
              "1  [{'name': 'George Lucas', 'gender': 2, 'depart...     George Lucas  \n",
              "2  [{'name': 'Andrew Stanton', 'gender': 2, 'depa...   Andrew Stanton  \n",
              "3  [{'name': 'Alan Silvestri', 'gender': 2, 'depa...  Robert Zemeckis  \n",
              "4  [{'name': 'Thomas Newman', 'gender': 2, 'depar...       Sam Mendes  \n",
              "\n",
              "[5 rows x 21 columns]"
            ],
            "text/html": [
              "\n",
              "  <div id=\"df-744f0d26-e20b-40a0-9ed1-d555fbd3ce76\" class=\"colab-df-container\">\n",
              "    <div>\n",
              "<style scoped>\n",
              "    .dataframe tbody tr th:only-of-type {\n",
              "        vertical-align: middle;\n",
              "    }\n",
              "\n",
              "    .dataframe tbody tr th {\n",
              "        vertical-align: top;\n",
              "    }\n",
              "\n",
              "    .dataframe thead th {\n",
              "        text-align: right;\n",
              "    }\n",
              "</style>\n",
              "<table border=\"1\" class=\"dataframe\">\n",
              "  <thead>\n",
              "    <tr style=\"text-align: right;\">\n",
              "      <th></th>\n",
              "      <th>Movie_ID</th>\n",
              "      <th>Movie_Title</th>\n",
              "      <th>Movie_Genre</th>\n",
              "      <th>Movie_Language</th>\n",
              "      <th>Movie_Budget</th>\n",
              "      <th>Movie_Popularity</th>\n",
              "      <th>Movie_Release_Date</th>\n",
              "      <th>Movie_Revenue</th>\n",
              "      <th>Movie_Runtime</th>\n",
              "      <th>Movie_Vote</th>\n",
              "      <th>...</th>\n",
              "      <th>Movie_Homepage</th>\n",
              "      <th>Movie_Keywords</th>\n",
              "      <th>Movie_Overview</th>\n",
              "      <th>Movie_Production_House</th>\n",
              "      <th>Movie_Production_Country</th>\n",
              "      <th>Movie_Spoken_Language</th>\n",
              "      <th>Movie_Tagline</th>\n",
              "      <th>Movie_Cast</th>\n",
              "      <th>Movie_Crew</th>\n",
              "      <th>Movie_Director</th>\n",
              "    </tr>\n",
              "  </thead>\n",
              "  <tbody>\n",
              "    <tr>\n",
              "      <th>0</th>\n",
              "      <td>1</td>\n",
              "      <td>Four Rooms</td>\n",
              "      <td>Crime Comedy</td>\n",
              "      <td>en</td>\n",
              "      <td>4000000</td>\n",
              "      <td>22.876230</td>\n",
              "      <td>09-12-1995</td>\n",
              "      <td>4300000</td>\n",
              "      <td>98.0</td>\n",
              "      <td>6.5</td>\n",
              "      <td>...</td>\n",
              "      <td>NaN</td>\n",
              "      <td>hotel new year's eve witch bet hotel room</td>\n",
              "      <td>It's Ted the Bellhop's first night on the job....</td>\n",
              "      <td>[{\"name\": \"Miramax Films\", \"id\": 14}, {\"name\":...</td>\n",
              "      <td>[{\"iso_3166_1\": \"US\", \"name\": \"United States o...</td>\n",
              "      <td>[{\"iso_639_1\": \"en\", \"name\": \"English\"}]</td>\n",
              "      <td>Twelve outrageous guests. Four scandalous requ...</td>\n",
              "      <td>Tim Roth Antonio Banderas Jennifer Beals Madon...</td>\n",
              "      <td>[{'name': 'Allison Anders', 'gender': 1, 'depa...</td>\n",
              "      <td>Allison Anders</td>\n",
              "    </tr>\n",
              "    <tr>\n",
              "      <th>1</th>\n",
              "      <td>2</td>\n",
              "      <td>Star Wars</td>\n",
              "      <td>Adventure Action Science Fiction</td>\n",
              "      <td>en</td>\n",
              "      <td>11000000</td>\n",
              "      <td>126.393695</td>\n",
              "      <td>25-05-1977</td>\n",
              "      <td>775398007</td>\n",
              "      <td>121.0</td>\n",
              "      <td>8.1</td>\n",
              "      <td>...</td>\n",
              "      <td>http://www.starwars.com/films/star-wars-episod...</td>\n",
              "      <td>android galaxy hermit death star lightsaber</td>\n",
              "      <td>Princess Leia is captured and held hostage by ...</td>\n",
              "      <td>[{\"name\": \"Lucasfilm\", \"id\": 1}, {\"name\": \"Twe...</td>\n",
              "      <td>[{\"iso_3166_1\": \"US\", \"name\": \"United States o...</td>\n",
              "      <td>[{\"iso_639_1\": \"en\", \"name\": \"English\"}]</td>\n",
              "      <td>A long time ago in a galaxy far, far away...</td>\n",
              "      <td>Mark Hamill Harrison Ford Carrie Fisher Peter ...</td>\n",
              "      <td>[{'name': 'George Lucas', 'gender': 2, 'depart...</td>\n",
              "      <td>George Lucas</td>\n",
              "    </tr>\n",
              "    <tr>\n",
              "      <th>2</th>\n",
              "      <td>3</td>\n",
              "      <td>Finding Nemo</td>\n",
              "      <td>Animation Family</td>\n",
              "      <td>en</td>\n",
              "      <td>94000000</td>\n",
              "      <td>85.688789</td>\n",
              "      <td>30-05-2003</td>\n",
              "      <td>940335536</td>\n",
              "      <td>100.0</td>\n",
              "      <td>7.6</td>\n",
              "      <td>...</td>\n",
              "      <td>http://movies.disney.com/finding-nemo</td>\n",
              "      <td>father son relationship harbor underwater fish...</td>\n",
              "      <td>Nemo, an adventurous young clownfish, is unexp...</td>\n",
              "      <td>[{\"name\": \"Pixar Animation Studios\", \"id\": 3}]</td>\n",
              "      <td>[{\"iso_3166_1\": \"US\", \"name\": \"United States o...</td>\n",
              "      <td>[{\"iso_639_1\": \"en\", \"name\": \"English\"}]</td>\n",
              "      <td>There are 3.7 trillion fish in the ocean, they...</td>\n",
              "      <td>Albert Brooks Ellen DeGeneres Alexander Gould ...</td>\n",
              "      <td>[{'name': 'Andrew Stanton', 'gender': 2, 'depa...</td>\n",
              "      <td>Andrew Stanton</td>\n",
              "    </tr>\n",
              "    <tr>\n",
              "      <th>3</th>\n",
              "      <td>4</td>\n",
              "      <td>Forrest Gump</td>\n",
              "      <td>Comedy Drama Romance</td>\n",
              "      <td>en</td>\n",
              "      <td>55000000</td>\n",
              "      <td>138.133331</td>\n",
              "      <td>06-07-1994</td>\n",
              "      <td>677945399</td>\n",
              "      <td>142.0</td>\n",
              "      <td>8.2</td>\n",
              "      <td>...</td>\n",
              "      <td>NaN</td>\n",
              "      <td>vietnam veteran hippie mentally disabled runni...</td>\n",
              "      <td>A man with a low IQ has accomplished great thi...</td>\n",
              "      <td>[{\"name\": \"Paramount Pictures\", \"id\": 4}]</td>\n",
              "      <td>[{\"iso_3166_1\": \"US\", \"name\": \"United States o...</td>\n",
              "      <td>[{\"iso_639_1\": \"en\", \"name\": \"English\"}]</td>\n",
              "      <td>The world will never be the same, once you've ...</td>\n",
              "      <td>Tom Hanks Robin Wright Gary Sinise Mykelti Wil...</td>\n",
              "      <td>[{'name': 'Alan Silvestri', 'gender': 2, 'depa...</td>\n",
              "      <td>Robert Zemeckis</td>\n",
              "    </tr>\n",
              "    <tr>\n",
              "      <th>4</th>\n",
              "      <td>5</td>\n",
              "      <td>American Beauty</td>\n",
              "      <td>Drama</td>\n",
              "      <td>en</td>\n",
              "      <td>15000000</td>\n",
              "      <td>80.878605</td>\n",
              "      <td>15-09-1999</td>\n",
              "      <td>356296601</td>\n",
              "      <td>122.0</td>\n",
              "      <td>7.9</td>\n",
              "      <td>...</td>\n",
              "      <td>http://www.dreamworks.com/ab/</td>\n",
              "      <td>male nudity female nudity adultery midlife cri...</td>\n",
              "      <td>Lester Burnham, a depressed suburban father in...</td>\n",
              "      <td>[{\"name\": \"DreamWorks SKG\", \"id\": 27}, {\"name\"...</td>\n",
              "      <td>[{\"iso_3166_1\": \"US\", \"name\": \"United States o...</td>\n",
              "      <td>[{\"iso_639_1\": \"en\", \"name\": \"English\"}]</td>\n",
              "      <td>Look closer.</td>\n",
              "      <td>Kevin Spacey Annette Bening Thora Birch Wes Be...</td>\n",
              "      <td>[{'name': 'Thomas Newman', 'gender': 2, 'depar...</td>\n",
              "      <td>Sam Mendes</td>\n",
              "    </tr>\n",
              "  </tbody>\n",
              "</table>\n",
              "<p>5 rows × 21 columns</p>\n",
              "</div>\n",
              "    <div class=\"colab-df-buttons\">\n",
              "\n",
              "  <div class=\"colab-df-container\">\n",
              "    <button class=\"colab-df-convert\" onclick=\"convertToInteractive('df-744f0d26-e20b-40a0-9ed1-d555fbd3ce76')\"\n",
              "            title=\"Convert this dataframe to an interactive table.\"\n",
              "            style=\"display:none;\">\n",
              "\n",
              "  <svg xmlns=\"http://www.w3.org/2000/svg\" height=\"24px\" viewBox=\"0 -960 960 960\">\n",
              "    <path d=\"M120-120v-720h720v720H120Zm60-500h600v-160H180v160Zm220 220h160v-160H400v160Zm0 220h160v-160H400v160ZM180-400h160v-160H180v160Zm440 0h160v-160H620v160ZM180-180h160v-160H180v160Zm440 0h160v-160H620v160Z\"/>\n",
              "  </svg>\n",
              "    </button>\n",
              "\n",
              "  <style>\n",
              "    .colab-df-container {\n",
              "      display:flex;\n",
              "      gap: 12px;\n",
              "    }\n",
              "\n",
              "    .colab-df-convert {\n",
              "      background-color: #E8F0FE;\n",
              "      border: none;\n",
              "      border-radius: 50%;\n",
              "      cursor: pointer;\n",
              "      display: none;\n",
              "      fill: #1967D2;\n",
              "      height: 32px;\n",
              "      padding: 0 0 0 0;\n",
              "      width: 32px;\n",
              "    }\n",
              "\n",
              "    .colab-df-convert:hover {\n",
              "      background-color: #E2EBFA;\n",
              "      box-shadow: 0px 1px 2px rgba(60, 64, 67, 0.3), 0px 1px 3px 1px rgba(60, 64, 67, 0.15);\n",
              "      fill: #174EA6;\n",
              "    }\n",
              "\n",
              "    .colab-df-buttons div {\n",
              "      margin-bottom: 4px;\n",
              "    }\n",
              "\n",
              "    [theme=dark] .colab-df-convert {\n",
              "      background-color: #3B4455;\n",
              "      fill: #D2E3FC;\n",
              "    }\n",
              "\n",
              "    [theme=dark] .colab-df-convert:hover {\n",
              "      background-color: #434B5C;\n",
              "      box-shadow: 0px 1px 3px 1px rgba(0, 0, 0, 0.15);\n",
              "      filter: drop-shadow(0px 1px 2px rgba(0, 0, 0, 0.3));\n",
              "      fill: #FFFFFF;\n",
              "    }\n",
              "  </style>\n",
              "\n",
              "    <script>\n",
              "      const buttonEl =\n",
              "        document.querySelector('#df-744f0d26-e20b-40a0-9ed1-d555fbd3ce76 button.colab-df-convert');\n",
              "      buttonEl.style.display =\n",
              "        google.colab.kernel.accessAllowed ? 'block' : 'none';\n",
              "\n",
              "      async function convertToInteractive(key) {\n",
              "        const element = document.querySelector('#df-744f0d26-e20b-40a0-9ed1-d555fbd3ce76');\n",
              "        const dataTable =\n",
              "          await google.colab.kernel.invokeFunction('convertToInteractive',\n",
              "                                                    [key], {});\n",
              "        if (!dataTable) return;\n",
              "\n",
              "        const docLinkHtml = 'Like what you see? Visit the ' +\n",
              "          '<a target=\"_blank\" href=https://colab.research.google.com/notebooks/data_table.ipynb>data table notebook</a>'\n",
              "          + ' to learn more about interactive tables.';\n",
              "        element.innerHTML = '';\n",
              "        dataTable['output_type'] = 'display_data';\n",
              "        await google.colab.output.renderOutput(dataTable, element);\n",
              "        const docLink = document.createElement('div');\n",
              "        docLink.innerHTML = docLinkHtml;\n",
              "        element.appendChild(docLink);\n",
              "      }\n",
              "    </script>\n",
              "  </div>\n",
              "\n",
              "\n",
              "<div id=\"df-7dfe5f50-9e41-4bc2-bef2-4d5a45ee6ed7\">\n",
              "  <button class=\"colab-df-quickchart\" onclick=\"quickchart('df-7dfe5f50-9e41-4bc2-bef2-4d5a45ee6ed7')\"\n",
              "            title=\"Suggest charts\"\n",
              "            style=\"display:none;\">\n",
              "\n",
              "<svg xmlns=\"http://www.w3.org/2000/svg\" height=\"24px\"viewBox=\"0 0 24 24\"\n",
              "     width=\"24px\">\n",
              "    <g>\n",
              "        <path d=\"M19 3H5c-1.1 0-2 .9-2 2v14c0 1.1.9 2 2 2h14c1.1 0 2-.9 2-2V5c0-1.1-.9-2-2-2zM9 17H7v-7h2v7zm4 0h-2V7h2v10zm4 0h-2v-4h2v4z\"/>\n",
              "    </g>\n",
              "</svg>\n",
              "  </button>\n",
              "\n",
              "<style>\n",
              "  .colab-df-quickchart {\n",
              "      --bg-color: #E8F0FE;\n",
              "      --fill-color: #1967D2;\n",
              "      --hover-bg-color: #E2EBFA;\n",
              "      --hover-fill-color: #174EA6;\n",
              "      --disabled-fill-color: #AAA;\n",
              "      --disabled-bg-color: #DDD;\n",
              "  }\n",
              "\n",
              "  [theme=dark] .colab-df-quickchart {\n",
              "      --bg-color: #3B4455;\n",
              "      --fill-color: #D2E3FC;\n",
              "      --hover-bg-color: #434B5C;\n",
              "      --hover-fill-color: #FFFFFF;\n",
              "      --disabled-bg-color: #3B4455;\n",
              "      --disabled-fill-color: #666;\n",
              "  }\n",
              "\n",
              "  .colab-df-quickchart {\n",
              "    background-color: var(--bg-color);\n",
              "    border: none;\n",
              "    border-radius: 50%;\n",
              "    cursor: pointer;\n",
              "    display: none;\n",
              "    fill: var(--fill-color);\n",
              "    height: 32px;\n",
              "    padding: 0;\n",
              "    width: 32px;\n",
              "  }\n",
              "\n",
              "  .colab-df-quickchart:hover {\n",
              "    background-color: var(--hover-bg-color);\n",
              "    box-shadow: 0 1px 2px rgba(60, 64, 67, 0.3), 0 1px 3px 1px rgba(60, 64, 67, 0.15);\n",
              "    fill: var(--button-hover-fill-color);\n",
              "  }\n",
              "\n",
              "  .colab-df-quickchart-complete:disabled,\n",
              "  .colab-df-quickchart-complete:disabled:hover {\n",
              "    background-color: var(--disabled-bg-color);\n",
              "    fill: var(--disabled-fill-color);\n",
              "    box-shadow: none;\n",
              "  }\n",
              "\n",
              "  .colab-df-spinner {\n",
              "    border: 2px solid var(--fill-color);\n",
              "    border-color: transparent;\n",
              "    border-bottom-color: var(--fill-color);\n",
              "    animation:\n",
              "      spin 1s steps(1) infinite;\n",
              "  }\n",
              "\n",
              "  @keyframes spin {\n",
              "    0% {\n",
              "      border-color: transparent;\n",
              "      border-bottom-color: var(--fill-color);\n",
              "      border-left-color: var(--fill-color);\n",
              "    }\n",
              "    20% {\n",
              "      border-color: transparent;\n",
              "      border-left-color: var(--fill-color);\n",
              "      border-top-color: var(--fill-color);\n",
              "    }\n",
              "    30% {\n",
              "      border-color: transparent;\n",
              "      border-left-color: var(--fill-color);\n",
              "      border-top-color: var(--fill-color);\n",
              "      border-right-color: var(--fill-color);\n",
              "    }\n",
              "    40% {\n",
              "      border-color: transparent;\n",
              "      border-right-color: var(--fill-color);\n",
              "      border-top-color: var(--fill-color);\n",
              "    }\n",
              "    60% {\n",
              "      border-color: transparent;\n",
              "      border-right-color: var(--fill-color);\n",
              "    }\n",
              "    80% {\n",
              "      border-color: transparent;\n",
              "      border-right-color: var(--fill-color);\n",
              "      border-bottom-color: var(--fill-color);\n",
              "    }\n",
              "    90% {\n",
              "      border-color: transparent;\n",
              "      border-bottom-color: var(--fill-color);\n",
              "    }\n",
              "  }\n",
              "</style>\n",
              "\n",
              "  <script>\n",
              "    async function quickchart(key) {\n",
              "      const quickchartButtonEl =\n",
              "        document.querySelector('#' + key + ' button');\n",
              "      quickchartButtonEl.disabled = true;  // To prevent multiple clicks.\n",
              "      quickchartButtonEl.classList.add('colab-df-spinner');\n",
              "      try {\n",
              "        const charts = await google.colab.kernel.invokeFunction(\n",
              "            'suggestCharts', [key], {});\n",
              "      } catch (error) {\n",
              "        console.error('Error during call to suggestCharts:', error);\n",
              "      }\n",
              "      quickchartButtonEl.classList.remove('colab-df-spinner');\n",
              "      quickchartButtonEl.classList.add('colab-df-quickchart-complete');\n",
              "    }\n",
              "    (() => {\n",
              "      let quickchartButtonEl =\n",
              "        document.querySelector('#df-7dfe5f50-9e41-4bc2-bef2-4d5a45ee6ed7 button');\n",
              "      quickchartButtonEl.style.display =\n",
              "        google.colab.kernel.accessAllowed ? 'block' : 'none';\n",
              "    })();\n",
              "  </script>\n",
              "</div>\n",
              "\n",
              "    </div>\n",
              "  </div>\n"
            ],
            "application/vnd.google.colaboratory.intrinsic+json": {
              "type": "dataframe",
              "variable_name": "df"
            }
          },
          "metadata": {},
          "execution_count": 4
        }
      ]
    },
    {
      "cell_type": "code",
      "source": [
        "df.info()"
      ],
      "metadata": {
        "colab": {
          "base_uri": "https://localhost:8080/"
        },
        "id": "uavDhaYm6SOc",
        "outputId": "0e707347-13bb-4a89-e285-1e3a96c6f574"
      },
      "execution_count": 5,
      "outputs": [
        {
          "output_type": "stream",
          "name": "stdout",
          "text": [
            "<class 'pandas.core.frame.DataFrame'>\n",
            "RangeIndex: 4760 entries, 0 to 4759\n",
            "Data columns (total 21 columns):\n",
            " #   Column                    Non-Null Count  Dtype  \n",
            "---  ------                    --------------  -----  \n",
            " 0   Movie_ID                  4760 non-null   int64  \n",
            " 1   Movie_Title               4760 non-null   object \n",
            " 2   Movie_Genre               4760 non-null   object \n",
            " 3   Movie_Language            4760 non-null   object \n",
            " 4   Movie_Budget              4760 non-null   int64  \n",
            " 5   Movie_Popularity          4760 non-null   float64\n",
            " 6   Movie_Release_Date        4760 non-null   object \n",
            " 7   Movie_Revenue             4760 non-null   int64  \n",
            " 8   Movie_Runtime             4758 non-null   float64\n",
            " 9   Movie_Vote                4760 non-null   float64\n",
            " 10  Movie_Vote_Count          4760 non-null   int64  \n",
            " 11  Movie_Homepage            1699 non-null   object \n",
            " 12  Movie_Keywords            4373 non-null   object \n",
            " 13  Movie_Overview            4757 non-null   object \n",
            " 14  Movie_Production_House    4760 non-null   object \n",
            " 15  Movie_Production_Country  4760 non-null   object \n",
            " 16  Movie_Spoken_Language     4760 non-null   object \n",
            " 17  Movie_Tagline             3942 non-null   object \n",
            " 18  Movie_Cast                4733 non-null   object \n",
            " 19  Movie_Crew                4760 non-null   object \n",
            " 20  Movie_Director            4738 non-null   object \n",
            "dtypes: float64(3), int64(4), object(14)\n",
            "memory usage: 781.1+ KB\n"
          ]
        }
      ]
    },
    {
      "cell_type": "code",
      "source": [
        "df.shape"
      ],
      "metadata": {
        "colab": {
          "base_uri": "https://localhost:8080/"
        },
        "id": "CymAst8l697t",
        "outputId": "07120027-0ae5-42b3-8315-b32a5ac65e9f"
      },
      "execution_count": 9,
      "outputs": [
        {
          "output_type": "execute_result",
          "data": {
            "text/plain": [
              "(4760, 21)"
            ]
          },
          "metadata": {},
          "execution_count": 9
        }
      ]
    },
    {
      "cell_type": "code",
      "source": [
        "df.columns"
      ],
      "metadata": {
        "colab": {
          "base_uri": "https://localhost:8080/"
        },
        "id": "2Cf_w6MN6_kc",
        "outputId": "38de9ed4-c21e-4053-bbcd-1acef558c119"
      },
      "execution_count": 10,
      "outputs": [
        {
          "output_type": "execute_result",
          "data": {
            "text/plain": [
              "Index(['Movie_ID', 'Movie_Title', 'Movie_Genre', 'Movie_Language',\n",
              "       'Movie_Budget', 'Movie_Popularity', 'Movie_Release_Date',\n",
              "       'Movie_Revenue', 'Movie_Runtime', 'Movie_Vote', 'Movie_Vote_Count',\n",
              "       'Movie_Homepage', 'Movie_Keywords', 'Movie_Overview',\n",
              "       'Movie_Production_House', 'Movie_Production_Country',\n",
              "       'Movie_Spoken_Language', 'Movie_Tagline', 'Movie_Cast', 'Movie_Crew',\n",
              "       'Movie_Director'],\n",
              "      dtype='object')"
            ]
          },
          "metadata": {},
          "execution_count": 10
        }
      ]
    },
    {
      "cell_type": "markdown",
      "source": [
        "# Get Feature Selection"
      ],
      "metadata": {
        "id": "K4Yu5pR5RD2r"
      }
    },
    {
      "cell_type": "code",
      "source": [
        "#Get Feature Selection\n",
        "df_features = df[['Movie_Genre','Movie_Keywords','Movie_Tagline', 'Movie_Cast','Movie_Director']].fillna('')"
      ],
      "metadata": {
        "id": "oWkaGRxK7FFo"
      },
      "execution_count": 12,
      "outputs": []
    },
    {
      "cell_type": "code",
      "source": [
        "df_features.shape"
      ],
      "metadata": {
        "colab": {
          "base_uri": "https://localhost:8080/"
        },
        "id": "3oLnyIBQ_xuJ",
        "outputId": "ba85d1b2-789e-4565-c2f0-adf08f2660c5"
      },
      "execution_count": 13,
      "outputs": [
        {
          "output_type": "execute_result",
          "data": {
            "text/plain": [
              "(4760, 5)"
            ]
          },
          "metadata": {},
          "execution_count": 13
        }
      ]
    },
    {
      "cell_type": "code",
      "source": [
        "df_features"
      ],
      "metadata": {
        "colab": {
          "base_uri": "https://localhost:8080/",
          "height": 580
        },
        "id": "Ix_D0kK3_71G",
        "outputId": "29093c12-7081-4646-e370-b4bc723388d0"
      },
      "execution_count": 14,
      "outputs": [
        {
          "output_type": "execute_result",
          "data": {
            "text/plain": [
              "                           Movie_Genre  \\\n",
              "0                         Crime Comedy   \n",
              "1     Adventure Action Science Fiction   \n",
              "2                     Animation Family   \n",
              "3                 Comedy Drama Romance   \n",
              "4                                Drama   \n",
              "...                                ...   \n",
              "4755                            Horror   \n",
              "4756               Comedy Family Drama   \n",
              "4757                    Thriller Drama   \n",
              "4758                            Family   \n",
              "4759                       Documentary   \n",
              "\n",
              "                                         Movie_Keywords  \\\n",
              "0             hotel new year's eve witch bet hotel room   \n",
              "1           android galaxy hermit death star lightsaber   \n",
              "2     father son relationship harbor underwater fish...   \n",
              "3     vietnam veteran hippie mentally disabled runni...   \n",
              "4     male nudity female nudity adultery midlife cri...   \n",
              "...                                                 ...   \n",
              "4755                                                      \n",
              "4756                                                      \n",
              "4757                     christian film sex trafficking   \n",
              "4758                                                      \n",
              "4759  music actors legendary perfomer classic hollyw...   \n",
              "\n",
              "                                          Movie_Tagline  \\\n",
              "0     Twelve outrageous guests. Four scandalous requ...   \n",
              "1          A long time ago in a galaxy far, far away...   \n",
              "2     There are 3.7 trillion fish in the ocean, they...   \n",
              "3     The world will never be the same, once you've ...   \n",
              "4                                          Look closer.   \n",
              "...                                                 ...   \n",
              "4755                The hot spot where Satan's waitin'.   \n",
              "4756           It’s better to stand out than to fit in.   \n",
              "4757           She never knew it could happen to her...   \n",
              "4758                                                      \n",
              "4759                                                      \n",
              "\n",
              "                                             Movie_Cast     Movie_Director  \n",
              "0     Tim Roth Antonio Banderas Jennifer Beals Madon...     Allison Anders  \n",
              "1     Mark Hamill Harrison Ford Carrie Fisher Peter ...       George Lucas  \n",
              "2     Albert Brooks Ellen DeGeneres Alexander Gould ...     Andrew Stanton  \n",
              "3     Tom Hanks Robin Wright Gary Sinise Mykelti Wil...    Robert Zemeckis  \n",
              "4     Kevin Spacey Annette Bening Thora Birch Wes Be...         Sam Mendes  \n",
              "...                                                 ...                ...  \n",
              "4755  Lisa Hart Carroll Michael Des Barres Paul Drak...         Pece Dingo  \n",
              "4756  Roni Akurati Brighton Sharbino Jason Lee Anjul...       Frank Lotito  \n",
              "4757  Nicole Smolen Kim Baldwin Ariana Stephens Brys...       Jaco Booyens  \n",
              "4758                                                                        \n",
              "4759                                    Tony Oppedisano  Simon Napier-Bell  \n",
              "\n",
              "[4760 rows x 5 columns]"
            ],
            "text/html": [
              "\n",
              "  <div id=\"df-636f93f9-5ee0-4687-b661-2d145c6edb9e\" class=\"colab-df-container\">\n",
              "    <div>\n",
              "<style scoped>\n",
              "    .dataframe tbody tr th:only-of-type {\n",
              "        vertical-align: middle;\n",
              "    }\n",
              "\n",
              "    .dataframe tbody tr th {\n",
              "        vertical-align: top;\n",
              "    }\n",
              "\n",
              "    .dataframe thead th {\n",
              "        text-align: right;\n",
              "    }\n",
              "</style>\n",
              "<table border=\"1\" class=\"dataframe\">\n",
              "  <thead>\n",
              "    <tr style=\"text-align: right;\">\n",
              "      <th></th>\n",
              "      <th>Movie_Genre</th>\n",
              "      <th>Movie_Keywords</th>\n",
              "      <th>Movie_Tagline</th>\n",
              "      <th>Movie_Cast</th>\n",
              "      <th>Movie_Director</th>\n",
              "    </tr>\n",
              "  </thead>\n",
              "  <tbody>\n",
              "    <tr>\n",
              "      <th>0</th>\n",
              "      <td>Crime Comedy</td>\n",
              "      <td>hotel new year's eve witch bet hotel room</td>\n",
              "      <td>Twelve outrageous guests. Four scandalous requ...</td>\n",
              "      <td>Tim Roth Antonio Banderas Jennifer Beals Madon...</td>\n",
              "      <td>Allison Anders</td>\n",
              "    </tr>\n",
              "    <tr>\n",
              "      <th>1</th>\n",
              "      <td>Adventure Action Science Fiction</td>\n",
              "      <td>android galaxy hermit death star lightsaber</td>\n",
              "      <td>A long time ago in a galaxy far, far away...</td>\n",
              "      <td>Mark Hamill Harrison Ford Carrie Fisher Peter ...</td>\n",
              "      <td>George Lucas</td>\n",
              "    </tr>\n",
              "    <tr>\n",
              "      <th>2</th>\n",
              "      <td>Animation Family</td>\n",
              "      <td>father son relationship harbor underwater fish...</td>\n",
              "      <td>There are 3.7 trillion fish in the ocean, they...</td>\n",
              "      <td>Albert Brooks Ellen DeGeneres Alexander Gould ...</td>\n",
              "      <td>Andrew Stanton</td>\n",
              "    </tr>\n",
              "    <tr>\n",
              "      <th>3</th>\n",
              "      <td>Comedy Drama Romance</td>\n",
              "      <td>vietnam veteran hippie mentally disabled runni...</td>\n",
              "      <td>The world will never be the same, once you've ...</td>\n",
              "      <td>Tom Hanks Robin Wright Gary Sinise Mykelti Wil...</td>\n",
              "      <td>Robert Zemeckis</td>\n",
              "    </tr>\n",
              "    <tr>\n",
              "      <th>4</th>\n",
              "      <td>Drama</td>\n",
              "      <td>male nudity female nudity adultery midlife cri...</td>\n",
              "      <td>Look closer.</td>\n",
              "      <td>Kevin Spacey Annette Bening Thora Birch Wes Be...</td>\n",
              "      <td>Sam Mendes</td>\n",
              "    </tr>\n",
              "    <tr>\n",
              "      <th>...</th>\n",
              "      <td>...</td>\n",
              "      <td>...</td>\n",
              "      <td>...</td>\n",
              "      <td>...</td>\n",
              "      <td>...</td>\n",
              "    </tr>\n",
              "    <tr>\n",
              "      <th>4755</th>\n",
              "      <td>Horror</td>\n",
              "      <td></td>\n",
              "      <td>The hot spot where Satan's waitin'.</td>\n",
              "      <td>Lisa Hart Carroll Michael Des Barres Paul Drak...</td>\n",
              "      <td>Pece Dingo</td>\n",
              "    </tr>\n",
              "    <tr>\n",
              "      <th>4756</th>\n",
              "      <td>Comedy Family Drama</td>\n",
              "      <td></td>\n",
              "      <td>It’s better to stand out than to fit in.</td>\n",
              "      <td>Roni Akurati Brighton Sharbino Jason Lee Anjul...</td>\n",
              "      <td>Frank Lotito</td>\n",
              "    </tr>\n",
              "    <tr>\n",
              "      <th>4757</th>\n",
              "      <td>Thriller Drama</td>\n",
              "      <td>christian film sex trafficking</td>\n",
              "      <td>She never knew it could happen to her...</td>\n",
              "      <td>Nicole Smolen Kim Baldwin Ariana Stephens Brys...</td>\n",
              "      <td>Jaco Booyens</td>\n",
              "    </tr>\n",
              "    <tr>\n",
              "      <th>4758</th>\n",
              "      <td>Family</td>\n",
              "      <td></td>\n",
              "      <td></td>\n",
              "      <td></td>\n",
              "      <td></td>\n",
              "    </tr>\n",
              "    <tr>\n",
              "      <th>4759</th>\n",
              "      <td>Documentary</td>\n",
              "      <td>music actors legendary perfomer classic hollyw...</td>\n",
              "      <td></td>\n",
              "      <td>Tony Oppedisano</td>\n",
              "      <td>Simon Napier-Bell</td>\n",
              "    </tr>\n",
              "  </tbody>\n",
              "</table>\n",
              "<p>4760 rows × 5 columns</p>\n",
              "</div>\n",
              "    <div class=\"colab-df-buttons\">\n",
              "\n",
              "  <div class=\"colab-df-container\">\n",
              "    <button class=\"colab-df-convert\" onclick=\"convertToInteractive('df-636f93f9-5ee0-4687-b661-2d145c6edb9e')\"\n",
              "            title=\"Convert this dataframe to an interactive table.\"\n",
              "            style=\"display:none;\">\n",
              "\n",
              "  <svg xmlns=\"http://www.w3.org/2000/svg\" height=\"24px\" viewBox=\"0 -960 960 960\">\n",
              "    <path d=\"M120-120v-720h720v720H120Zm60-500h600v-160H180v160Zm220 220h160v-160H400v160Zm0 220h160v-160H400v160ZM180-400h160v-160H180v160Zm440 0h160v-160H620v160ZM180-180h160v-160H180v160Zm440 0h160v-160H620v160Z\"/>\n",
              "  </svg>\n",
              "    </button>\n",
              "\n",
              "  <style>\n",
              "    .colab-df-container {\n",
              "      display:flex;\n",
              "      gap: 12px;\n",
              "    }\n",
              "\n",
              "    .colab-df-convert {\n",
              "      background-color: #E8F0FE;\n",
              "      border: none;\n",
              "      border-radius: 50%;\n",
              "      cursor: pointer;\n",
              "      display: none;\n",
              "      fill: #1967D2;\n",
              "      height: 32px;\n",
              "      padding: 0 0 0 0;\n",
              "      width: 32px;\n",
              "    }\n",
              "\n",
              "    .colab-df-convert:hover {\n",
              "      background-color: #E2EBFA;\n",
              "      box-shadow: 0px 1px 2px rgba(60, 64, 67, 0.3), 0px 1px 3px 1px rgba(60, 64, 67, 0.15);\n",
              "      fill: #174EA6;\n",
              "    }\n",
              "\n",
              "    .colab-df-buttons div {\n",
              "      margin-bottom: 4px;\n",
              "    }\n",
              "\n",
              "    [theme=dark] .colab-df-convert {\n",
              "      background-color: #3B4455;\n",
              "      fill: #D2E3FC;\n",
              "    }\n",
              "\n",
              "    [theme=dark] .colab-df-convert:hover {\n",
              "      background-color: #434B5C;\n",
              "      box-shadow: 0px 1px 3px 1px rgba(0, 0, 0, 0.15);\n",
              "      filter: drop-shadow(0px 1px 2px rgba(0, 0, 0, 0.3));\n",
              "      fill: #FFFFFF;\n",
              "    }\n",
              "  </style>\n",
              "\n",
              "    <script>\n",
              "      const buttonEl =\n",
              "        document.querySelector('#df-636f93f9-5ee0-4687-b661-2d145c6edb9e button.colab-df-convert');\n",
              "      buttonEl.style.display =\n",
              "        google.colab.kernel.accessAllowed ? 'block' : 'none';\n",
              "\n",
              "      async function convertToInteractive(key) {\n",
              "        const element = document.querySelector('#df-636f93f9-5ee0-4687-b661-2d145c6edb9e');\n",
              "        const dataTable =\n",
              "          await google.colab.kernel.invokeFunction('convertToInteractive',\n",
              "                                                    [key], {});\n",
              "        if (!dataTable) return;\n",
              "\n",
              "        const docLinkHtml = 'Like what you see? Visit the ' +\n",
              "          '<a target=\"_blank\" href=https://colab.research.google.com/notebooks/data_table.ipynb>data table notebook</a>'\n",
              "          + ' to learn more about interactive tables.';\n",
              "        element.innerHTML = '';\n",
              "        dataTable['output_type'] = 'display_data';\n",
              "        await google.colab.output.renderOutput(dataTable, element);\n",
              "        const docLink = document.createElement('div');\n",
              "        docLink.innerHTML = docLinkHtml;\n",
              "        element.appendChild(docLink);\n",
              "      }\n",
              "    </script>\n",
              "  </div>\n",
              "\n",
              "\n",
              "<div id=\"df-ce70bb35-5bf6-47fc-9069-f2f9c873268e\">\n",
              "  <button class=\"colab-df-quickchart\" onclick=\"quickchart('df-ce70bb35-5bf6-47fc-9069-f2f9c873268e')\"\n",
              "            title=\"Suggest charts\"\n",
              "            style=\"display:none;\">\n",
              "\n",
              "<svg xmlns=\"http://www.w3.org/2000/svg\" height=\"24px\"viewBox=\"0 0 24 24\"\n",
              "     width=\"24px\">\n",
              "    <g>\n",
              "        <path d=\"M19 3H5c-1.1 0-2 .9-2 2v14c0 1.1.9 2 2 2h14c1.1 0 2-.9 2-2V5c0-1.1-.9-2-2-2zM9 17H7v-7h2v7zm4 0h-2V7h2v10zm4 0h-2v-4h2v4z\"/>\n",
              "    </g>\n",
              "</svg>\n",
              "  </button>\n",
              "\n",
              "<style>\n",
              "  .colab-df-quickchart {\n",
              "      --bg-color: #E8F0FE;\n",
              "      --fill-color: #1967D2;\n",
              "      --hover-bg-color: #E2EBFA;\n",
              "      --hover-fill-color: #174EA6;\n",
              "      --disabled-fill-color: #AAA;\n",
              "      --disabled-bg-color: #DDD;\n",
              "  }\n",
              "\n",
              "  [theme=dark] .colab-df-quickchart {\n",
              "      --bg-color: #3B4455;\n",
              "      --fill-color: #D2E3FC;\n",
              "      --hover-bg-color: #434B5C;\n",
              "      --hover-fill-color: #FFFFFF;\n",
              "      --disabled-bg-color: #3B4455;\n",
              "      --disabled-fill-color: #666;\n",
              "  }\n",
              "\n",
              "  .colab-df-quickchart {\n",
              "    background-color: var(--bg-color);\n",
              "    border: none;\n",
              "    border-radius: 50%;\n",
              "    cursor: pointer;\n",
              "    display: none;\n",
              "    fill: var(--fill-color);\n",
              "    height: 32px;\n",
              "    padding: 0;\n",
              "    width: 32px;\n",
              "  }\n",
              "\n",
              "  .colab-df-quickchart:hover {\n",
              "    background-color: var(--hover-bg-color);\n",
              "    box-shadow: 0 1px 2px rgba(60, 64, 67, 0.3), 0 1px 3px 1px rgba(60, 64, 67, 0.15);\n",
              "    fill: var(--button-hover-fill-color);\n",
              "  }\n",
              "\n",
              "  .colab-df-quickchart-complete:disabled,\n",
              "  .colab-df-quickchart-complete:disabled:hover {\n",
              "    background-color: var(--disabled-bg-color);\n",
              "    fill: var(--disabled-fill-color);\n",
              "    box-shadow: none;\n",
              "  }\n",
              "\n",
              "  .colab-df-spinner {\n",
              "    border: 2px solid var(--fill-color);\n",
              "    border-color: transparent;\n",
              "    border-bottom-color: var(--fill-color);\n",
              "    animation:\n",
              "      spin 1s steps(1) infinite;\n",
              "  }\n",
              "\n",
              "  @keyframes spin {\n",
              "    0% {\n",
              "      border-color: transparent;\n",
              "      border-bottom-color: var(--fill-color);\n",
              "      border-left-color: var(--fill-color);\n",
              "    }\n",
              "    20% {\n",
              "      border-color: transparent;\n",
              "      border-left-color: var(--fill-color);\n",
              "      border-top-color: var(--fill-color);\n",
              "    }\n",
              "    30% {\n",
              "      border-color: transparent;\n",
              "      border-left-color: var(--fill-color);\n",
              "      border-top-color: var(--fill-color);\n",
              "      border-right-color: var(--fill-color);\n",
              "    }\n",
              "    40% {\n",
              "      border-color: transparent;\n",
              "      border-right-color: var(--fill-color);\n",
              "      border-top-color: var(--fill-color);\n",
              "    }\n",
              "    60% {\n",
              "      border-color: transparent;\n",
              "      border-right-color: var(--fill-color);\n",
              "    }\n",
              "    80% {\n",
              "      border-color: transparent;\n",
              "      border-right-color: var(--fill-color);\n",
              "      border-bottom-color: var(--fill-color);\n",
              "    }\n",
              "    90% {\n",
              "      border-color: transparent;\n",
              "      border-bottom-color: var(--fill-color);\n",
              "    }\n",
              "  }\n",
              "</style>\n",
              "\n",
              "  <script>\n",
              "    async function quickchart(key) {\n",
              "      const quickchartButtonEl =\n",
              "        document.querySelector('#' + key + ' button');\n",
              "      quickchartButtonEl.disabled = true;  // To prevent multiple clicks.\n",
              "      quickchartButtonEl.classList.add('colab-df-spinner');\n",
              "      try {\n",
              "        const charts = await google.colab.kernel.invokeFunction(\n",
              "            'suggestCharts', [key], {});\n",
              "      } catch (error) {\n",
              "        console.error('Error during call to suggestCharts:', error);\n",
              "      }\n",
              "      quickchartButtonEl.classList.remove('colab-df-spinner');\n",
              "      quickchartButtonEl.classList.add('colab-df-quickchart-complete');\n",
              "    }\n",
              "    (() => {\n",
              "      let quickchartButtonEl =\n",
              "        document.querySelector('#df-ce70bb35-5bf6-47fc-9069-f2f9c873268e button');\n",
              "      quickchartButtonEl.style.display =\n",
              "        google.colab.kernel.accessAllowed ? 'block' : 'none';\n",
              "    })();\n",
              "  </script>\n",
              "</div>\n",
              "\n",
              "  <div id=\"id_7511992c-59d2-41a0-a38b-f90c16b84b35\">\n",
              "    <style>\n",
              "      .colab-df-generate {\n",
              "        background-color: #E8F0FE;\n",
              "        border: none;\n",
              "        border-radius: 50%;\n",
              "        cursor: pointer;\n",
              "        display: none;\n",
              "        fill: #1967D2;\n",
              "        height: 32px;\n",
              "        padding: 0 0 0 0;\n",
              "        width: 32px;\n",
              "      }\n",
              "\n",
              "      .colab-df-generate:hover {\n",
              "        background-color: #E2EBFA;\n",
              "        box-shadow: 0px 1px 2px rgba(60, 64, 67, 0.3), 0px 1px 3px 1px rgba(60, 64, 67, 0.15);\n",
              "        fill: #174EA6;\n",
              "      }\n",
              "\n",
              "      [theme=dark] .colab-df-generate {\n",
              "        background-color: #3B4455;\n",
              "        fill: #D2E3FC;\n",
              "      }\n",
              "\n",
              "      [theme=dark] .colab-df-generate:hover {\n",
              "        background-color: #434B5C;\n",
              "        box-shadow: 0px 1px 3px 1px rgba(0, 0, 0, 0.15);\n",
              "        filter: drop-shadow(0px 1px 2px rgba(0, 0, 0, 0.3));\n",
              "        fill: #FFFFFF;\n",
              "      }\n",
              "    </style>\n",
              "    <button class=\"colab-df-generate\" onclick=\"generateWithVariable('df_features')\"\n",
              "            title=\"Generate code using this dataframe.\"\n",
              "            style=\"display:none;\">\n",
              "\n",
              "  <svg xmlns=\"http://www.w3.org/2000/svg\" height=\"24px\"viewBox=\"0 0 24 24\"\n",
              "       width=\"24px\">\n",
              "    <path d=\"M7,19H8.4L18.45,9,17,7.55,7,17.6ZM5,21V16.75L18.45,3.32a2,2,0,0,1,2.83,0l1.4,1.43a1.91,1.91,0,0,1,.58,1.4,1.91,1.91,0,0,1-.58,1.4L9.25,21ZM18.45,9,17,7.55Zm-12,3A5.31,5.31,0,0,0,4.9,8.1,5.31,5.31,0,0,0,1,6.5,5.31,5.31,0,0,0,4.9,4.9,5.31,5.31,0,0,0,6.5,1,5.31,5.31,0,0,0,8.1,4.9,5.31,5.31,0,0,0,12,6.5,5.46,5.46,0,0,0,6.5,12Z\"/>\n",
              "  </svg>\n",
              "    </button>\n",
              "    <script>\n",
              "      (() => {\n",
              "      const buttonEl =\n",
              "        document.querySelector('#id_7511992c-59d2-41a0-a38b-f90c16b84b35 button.colab-df-generate');\n",
              "      buttonEl.style.display =\n",
              "        google.colab.kernel.accessAllowed ? 'block' : 'none';\n",
              "\n",
              "      buttonEl.onclick = () => {\n",
              "        google.colab.notebook.generateWithVariable('df_features');\n",
              "      }\n",
              "      })();\n",
              "    </script>\n",
              "  </div>\n",
              "\n",
              "    </div>\n",
              "  </div>\n"
            ],
            "application/vnd.google.colaboratory.intrinsic+json": {
              "type": "dataframe",
              "variable_name": "df_features",
              "summary": "{\n  \"name\": \"df_features\",\n  \"rows\": 4760,\n  \"fields\": [\n    {\n      \"column\": \"Movie_Genre\",\n      \"properties\": {\n        \"dtype\": \"category\",\n        \"num_unique_values\": 1164,\n        \"samples\": [\n          \"Family Animation Adventure\",\n          \"Adventure Science Fiction Action\",\n          \"Action Crime Drama Romance Thriller\"\n        ],\n        \"semantic_type\": \"\",\n        \"description\": \"\"\n      }\n    },\n    {\n      \"column\": \"Movie_Keywords\",\n      \"properties\": {\n        \"dtype\": \"string\",\n        \"num_unique_values\": 4203,\n        \"samples\": [\n          \"canada nazis sequel spin off ancient evil\",\n          \"sex professor wedding woman director columbia university\",\n          \"prophecy sea beach gold small town\"\n        ],\n        \"semantic_type\": \"\",\n        \"description\": \"\"\n      }\n    },\n    {\n      \"column\": \"Movie_Tagline\",\n      \"properties\": {\n        \"dtype\": \"string\",\n        \"num_unique_values\": 3928,\n        \"samples\": [\n          \"The messenger must be silenced.\",\n          \"It's not the house that's haunted.\",\n          \"The final hunt begins.\"\n        ],\n        \"semantic_type\": \"\",\n        \"description\": \"\"\n      }\n    },\n    {\n      \"column\": \"Movie_Cast\",\n      \"properties\": {\n        \"dtype\": \"string\",\n        \"num_unique_values\": 4715,\n        \"samples\": [\n          \"Robin Tunney Fairuza Balk Neve Campbell Rachel True Skeet Ulrich\",\n          \"Peter Sellers Christopher Plummer Herbert Lom Catherine Schell Peter Arne\",\n          \"John Wayne Laraine Day Cedric Hardwicke Judith Anderson Anthony Quinn\"\n        ],\n        \"semantic_type\": \"\",\n        \"description\": \"\"\n      }\n    },\n    {\n      \"column\": \"Movie_Director\",\n      \"properties\": {\n        \"dtype\": \"category\",\n        \"num_unique_values\": 2332,\n        \"samples\": [\n          \"Rob McKittrick\",\n          \"Terron R. Parsons\",\n          \"Cyrus Nowrasteh\"\n        ],\n        \"semantic_type\": \"\",\n        \"description\": \"\"\n      }\n    }\n  ]\n}"
            }
          },
          "metadata": {},
          "execution_count": 14
        }
      ]
    },
    {
      "cell_type": "code",
      "source": [
        "X = df_features['Movie_Genre'] + ' ' +df_features['Movie_Keywords']+ ' ' +df_features['Movie_Tagline']+ ' ' +df_features['Movie_Cast']+ ' ' +df_features['Movie_Director']"
      ],
      "metadata": {
        "id": "AYzL_DagARs0"
      },
      "execution_count": 16,
      "outputs": []
    },
    {
      "cell_type": "code",
      "source": [
        "X"
      ],
      "metadata": {
        "colab": {
          "base_uri": "https://localhost:8080/",
          "height": 458
        },
        "id": "OfRwb2ATCjGd",
        "outputId": "a0f980db-e092-4f1e-b65f-fc3b7fa217f8"
      },
      "execution_count": 18,
      "outputs": [
        {
          "output_type": "execute_result",
          "data": {
            "text/plain": [
              "0       Crime Comedy hotel new year's eve witch bet ho...\n",
              "1       Adventure Action Science Fiction android galax...\n",
              "2       Animation Family father son relationship harbo...\n",
              "3       Comedy Drama Romance vietnam veteran hippie me...\n",
              "4       Drama male nudity female nudity adultery midli...\n",
              "                              ...                        \n",
              "4755    Horror  The hot spot where Satan's waitin'. Li...\n",
              "4756    Comedy Family Drama  It’s better to stand out ...\n",
              "4757    Thriller Drama christian film sex trafficking ...\n",
              "4758                                           Family    \n",
              "4759    Documentary music actors legendary perfomer cl...\n",
              "Length: 4760, dtype: object"
            ],
            "text/html": [
              "<div>\n",
              "<style scoped>\n",
              "    .dataframe tbody tr th:only-of-type {\n",
              "        vertical-align: middle;\n",
              "    }\n",
              "\n",
              "    .dataframe tbody tr th {\n",
              "        vertical-align: top;\n",
              "    }\n",
              "\n",
              "    .dataframe thead th {\n",
              "        text-align: right;\n",
              "    }\n",
              "</style>\n",
              "<table border=\"1\" class=\"dataframe\">\n",
              "  <thead>\n",
              "    <tr style=\"text-align: right;\">\n",
              "      <th></th>\n",
              "      <th>0</th>\n",
              "    </tr>\n",
              "  </thead>\n",
              "  <tbody>\n",
              "    <tr>\n",
              "      <th>0</th>\n",
              "      <td>Crime Comedy hotel new year's eve witch bet ho...</td>\n",
              "    </tr>\n",
              "    <tr>\n",
              "      <th>1</th>\n",
              "      <td>Adventure Action Science Fiction android galax...</td>\n",
              "    </tr>\n",
              "    <tr>\n",
              "      <th>2</th>\n",
              "      <td>Animation Family father son relationship harbo...</td>\n",
              "    </tr>\n",
              "    <tr>\n",
              "      <th>3</th>\n",
              "      <td>Comedy Drama Romance vietnam veteran hippie me...</td>\n",
              "    </tr>\n",
              "    <tr>\n",
              "      <th>4</th>\n",
              "      <td>Drama male nudity female nudity adultery midli...</td>\n",
              "    </tr>\n",
              "    <tr>\n",
              "      <th>...</th>\n",
              "      <td>...</td>\n",
              "    </tr>\n",
              "    <tr>\n",
              "      <th>4755</th>\n",
              "      <td>Horror  The hot spot where Satan's waitin'. Li...</td>\n",
              "    </tr>\n",
              "    <tr>\n",
              "      <th>4756</th>\n",
              "      <td>Comedy Family Drama  It’s better to stand out ...</td>\n",
              "    </tr>\n",
              "    <tr>\n",
              "      <th>4757</th>\n",
              "      <td>Thriller Drama christian film sex trafficking ...</td>\n",
              "    </tr>\n",
              "    <tr>\n",
              "      <th>4758</th>\n",
              "      <td>Family</td>\n",
              "    </tr>\n",
              "    <tr>\n",
              "      <th>4759</th>\n",
              "      <td>Documentary music actors legendary perfomer cl...</td>\n",
              "    </tr>\n",
              "  </tbody>\n",
              "</table>\n",
              "<p>4760 rows × 1 columns</p>\n",
              "</div><br><label><b>dtype:</b> object</label>"
            ]
          },
          "metadata": {},
          "execution_count": 18
        }
      ]
    },
    {
      "cell_type": "code",
      "source": [
        "X.shape"
      ],
      "metadata": {
        "colab": {
          "base_uri": "https://localhost:8080/"
        },
        "id": "5aloLDQJCygW",
        "outputId": "51512a2f-03ee-4f6b-8f3d-6947948ca289"
      },
      "execution_count": 19,
      "outputs": [
        {
          "output_type": "execute_result",
          "data": {
            "text/plain": [
              "(4760,)"
            ]
          },
          "metadata": {},
          "execution_count": 19
        }
      ]
    },
    {
      "cell_type": "markdown",
      "source": [
        "# Get Feature to text conversion to token"
      ],
      "metadata": {
        "id": "RB7OrWQoRV97"
      }
    },
    {
      "cell_type": "code",
      "source": [
        "\n",
        "from sklearn.feature_extraction.text import TfidfVectorizer"
      ],
      "metadata": {
        "id": "XKN-HzA6C46E"
      },
      "execution_count": 20,
      "outputs": []
    },
    {
      "cell_type": "code",
      "source": [
        "tfidf = TfidfVectorizer()"
      ],
      "metadata": {
        "id": "7QqU6UqtDGgg"
      },
      "execution_count": 21,
      "outputs": []
    },
    {
      "cell_type": "code",
      "source": [
        "X = tfidf.fit_transform(X)"
      ],
      "metadata": {
        "id": "pYdHa7-EDMP4"
      },
      "execution_count": 22,
      "outputs": []
    },
    {
      "cell_type": "code",
      "source": [
        "X.shape"
      ],
      "metadata": {
        "colab": {
          "base_uri": "https://localhost:8080/"
        },
        "id": "tSRJmwhvDeCu",
        "outputId": "7ec5402e-720d-4a3e-f576-bca85e95c385"
      },
      "execution_count": 24,
      "outputs": [
        {
          "output_type": "execute_result",
          "data": {
            "text/plain": [
              "(4760, 17258)"
            ]
          },
          "metadata": {},
          "execution_count": 24
        }
      ]
    },
    {
      "cell_type": "code",
      "source": [
        "print(X)"
      ],
      "metadata": {
        "colab": {
          "base_uri": "https://localhost:8080/"
        },
        "id": "Xv5smtVTDfa0",
        "outputId": "b1e7b23e-cf0c-452d-e0ce-abffdc8a723f"
      },
      "execution_count": 25,
      "outputs": [
        {
          "output_type": "stream",
          "name": "stdout",
          "text": [
            "  (0, 617)\t0.1633382144407513\n",
            "  (0, 492)\t0.1432591540388685\n",
            "  (0, 15413)\t0.1465525095337543\n",
            "  (0, 9675)\t0.14226057295252661\n",
            "  (0, 9465)\t0.1659841367820977\n",
            "  (0, 1390)\t0.16898383612799558\n",
            "  (0, 7825)\t0.09799561597509843\n",
            "  (0, 1214)\t0.13865857545144072\n",
            "  (0, 729)\t0.13415063359531618\n",
            "  (0, 13093)\t0.1432591540388685\n",
            "  (0, 15355)\t0.10477815972666779\n",
            "  (0, 9048)\t0.0866842116160778\n",
            "  (0, 11161)\t0.06250380151644369\n",
            "  (0, 16773)\t0.17654247479915475\n",
            "  (0, 5612)\t0.08603537588547631\n",
            "  (0, 16735)\t0.10690083751525419\n",
            "  (0, 7904)\t0.13348000542112332\n",
            "  (0, 15219)\t0.09800472886453934\n",
            "  (0, 11242)\t0.07277788238484746\n",
            "  (0, 3878)\t0.11998399582562203\n",
            "  (0, 5499)\t0.11454057510303811\n",
            "  (0, 7071)\t0.19822417598406614\n",
            "  (0, 7454)\t0.14745635785412262\n",
            "  (0, 1495)\t0.19712637387361423\n",
            "  (0, 9206)\t0.15186283580984414\n",
            "  :\t:\n",
            "  (4757, 5455)\t0.12491480594769522\n",
            "  (4757, 2967)\t0.16273475835631626\n",
            "  (4757, 8464)\t0.23522565554066333\n",
            "  (4757, 6938)\t0.17088173678136628\n",
            "  (4757, 8379)\t0.17480603856721913\n",
            "  (4757, 15303)\t0.07654356007668191\n",
            "  (4757, 15384)\t0.09754322497537371\n",
            "  (4757, 7649)\t0.11479421494340192\n",
            "  (4757, 10896)\t0.14546473055066447\n",
            "  (4757, 4494)\t0.05675298448720501\n",
            "  (4758, 5238)\t1.0\n",
            "  (4759, 11264)\t0.33947721804318337\n",
            "  (4759, 11708)\t0.33947721804318337\n",
            "  (4759, 205)\t0.3237911628497312\n",
            "  (4759, 8902)\t0.3040290704566037\n",
            "  (4759, 14062)\t0.3237911628497312\n",
            "  (4759, 3058)\t0.2812896191863103\n",
            "  (4759, 7130)\t0.26419662449963793\n",
            "  (4759, 10761)\t0.3126617295732147\n",
            "  (4759, 4358)\t0.18306542312175342\n",
            "  (4759, 14051)\t0.20084315377640435\n",
            "  (4759, 5690)\t0.19534291014627303\n",
            "  (4759, 15431)\t0.19628653185946862\n",
            "  (4759, 1490)\t0.21197258705292082\n",
            "  (4759, 10666)\t0.15888268987343043\n"
          ]
        }
      ]
    },
    {
      "cell_type": "markdown",
      "source": [
        "# Get a similarity score  using Cosine Similarity"
      ],
      "metadata": {
        "id": "j_f2FphBRbkV"
      }
    },
    {
      "cell_type": "code",
      "source": [
        "\n",
        "from sklearn.metrics.pairwise import cosine_similarity"
      ],
      "metadata": {
        "id": "4vks5eKtDl3W"
      },
      "execution_count": 26,
      "outputs": []
    },
    {
      "cell_type": "code",
      "source": [
        "Similarity_Score = cosine_similarity(X)"
      ],
      "metadata": {
        "id": "QJTDLKHoEhm2"
      },
      "execution_count": 27,
      "outputs": []
    },
    {
      "cell_type": "code",
      "source": [
        "Similarity_Score"
      ],
      "metadata": {
        "colab": {
          "base_uri": "https://localhost:8080/"
        },
        "id": "U9lSCR-vEprS",
        "outputId": "8ff705a1-ed1e-48bc-a424-dfbe39145a88"
      },
      "execution_count": 28,
      "outputs": [
        {
          "output_type": "execute_result",
          "data": {
            "text/plain": [
              "array([[1.        , 0.01351235, 0.03570468, ..., 0.        , 0.        ,\n",
              "        0.        ],\n",
              "       [0.01351235, 1.        , 0.00806674, ..., 0.        , 0.        ,\n",
              "        0.        ],\n",
              "       [0.03570468, 0.00806674, 1.        , ..., 0.        , 0.08014876,\n",
              "        0.        ],\n",
              "       ...,\n",
              "       [0.        , 0.        , 0.        , ..., 1.        , 0.        ,\n",
              "        0.        ],\n",
              "       [0.        , 0.        , 0.08014876, ..., 0.        , 1.        ,\n",
              "        0.        ],\n",
              "       [0.        , 0.        , 0.        , ..., 0.        , 0.        ,\n",
              "        1.        ]])"
            ]
          },
          "metadata": {},
          "execution_count": 28
        }
      ]
    },
    {
      "cell_type": "code",
      "source": [
        "Similarity_Score.shape"
      ],
      "metadata": {
        "colab": {
          "base_uri": "https://localhost:8080/"
        },
        "id": "oznf2nf7EsSJ",
        "outputId": "24b7a364-4f2a-4716-c4f3-7b1c72d9810a"
      },
      "execution_count": 29,
      "outputs": [
        {
          "output_type": "execute_result",
          "data": {
            "text/plain": [
              "(4760, 4760)"
            ]
          },
          "metadata": {},
          "execution_count": 29
        }
      ]
    },
    {
      "cell_type": "markdown",
      "source": [
        "# Get a Movie Name as Input from user and validate for Closest Spelling"
      ],
      "metadata": {
        "id": "tcZ_BI66RjuP"
      }
    },
    {
      "cell_type": "code",
      "source": [
        "Favourite_Movie_Name = input(' Enter your Favourite Movie Name : ')"
      ],
      "metadata": {
        "colab": {
          "base_uri": "https://localhost:8080/"
        },
        "id": "0TXdwwg-E2fD",
        "outputId": "989f11f4-dab4-44e4-cefc-1f4fd6af3ce8"
      },
      "execution_count": 43,
      "outputs": [
        {
          "name": "stdout",
          "output_type": "stream",
          "text": [
            " Enter your Favourite Movie Name : Avatar\n"
          ]
        }
      ]
    },
    {
      "cell_type": "code",
      "source": [],
      "metadata": {
        "id": "jxOkOgCNRk_R"
      },
      "execution_count": null,
      "outputs": []
    },
    {
      "cell_type": "code",
      "source": [
        "ALL_Movies_Title_List = df['Movie_Title'].tolist()"
      ],
      "metadata": {
        "id": "tpJrU9bGFT2-"
      },
      "execution_count": null,
      "outputs": []
    },
    {
      "cell_type": "code",
      "source": [
        "import difflib"
      ],
      "metadata": {
        "id": "eB3S8ZY5FkRw"
      },
      "execution_count": 34,
      "outputs": []
    },
    {
      "cell_type": "code",
      "source": [
        "Movie_Recommendation = difflib.get_close_matches(Favourite_Movie_Name, ALL_Movies_Title_List)\n",
        "print(Movie_Recommendation)"
      ],
      "metadata": {
        "colab": {
          "base_uri": "https://localhost:8080/"
        },
        "id": "0vwUnjbaFqO2",
        "outputId": "722140c6-ce6d-42ca-dc6e-967eab1cedc4"
      },
      "execution_count": 35,
      "outputs": [
        {
          "output_type": "stream",
          "name": "stdout",
          "text": [
            "['Poseidon']\n"
          ]
        }
      ]
    },
    {
      "cell_type": "code",
      "source": [
        "Close_Match = Movie_Recommendation[0]\n",
        "print(Close_Match)"
      ],
      "metadata": {
        "colab": {
          "base_uri": "https://localhost:8080/"
        },
        "id": "vJH4MkbPGBUJ",
        "outputId": "650409a2-eff2-4a4f-cd44-388959619d8a"
      },
      "execution_count": 39,
      "outputs": [
        {
          "output_type": "stream",
          "name": "stdout",
          "text": [
            "Poseidon\n",
            "Poseidon\n"
          ]
        }
      ]
    },
    {
      "cell_type": "code",
      "source": [
        "Index_of_Close_Match_Movie = df[df.Movie_Title == Close_Match]['Movie_ID'].values[0]\n",
        "print(Index_of_Close_Match_Movie)"
      ],
      "metadata": {
        "colab": {
          "base_uri": "https://localhost:8080/"
        },
        "id": "sFsplRgHIe2M",
        "outputId": "984585be-42fe-423e-ce9b-98941fdf4222"
      },
      "execution_count": 41,
      "outputs": [
        {
          "output_type": "stream",
          "name": "stdout",
          "text": [
            "209\n"
          ]
        }
      ]
    },
    {
      "cell_type": "code",
      "source": [
        "#Getting a list of similar movies\n",
        "Recommendation_Score = list(enumerate(Similarity_Score[Index_of_Close_Match_Movie]))\n",
        "print(Recommendation_Score)"
      ],
      "metadata": {
        "colab": {
          "base_uri": "https://localhost:8080/"
        },
        "id": "aIGfcMUvJYNr",
        "outputId": "3227d717-3204-42df-af37-c6c4c1fd2561"
      },
      "execution_count": 45,
      "outputs": [
        {
          "output_type": "stream",
          "name": "stdout",
          "text": [
            "[(0, 0.036558289454277956), (1, 0.0), (2, 0.0040256331161363694), (3, 0.02167449201371437), (4, 0.10255098410041187), (5, 0.011201693094361052), (6, 0.023667242865204906), (7, 0.012227938588198014), (8, 0.00320059388379123), (9, 0.01140537016443007), (10, 0.013761074233253127), (11, 0.007910199587376), (12, 0.008157245550242987), (13, 0.027221195840758154), (14, 0.004293102523379411), (15, 0.00975883200855809), (16, 0.002456368116538512), (17, 0.0), (18, 0.015208045045812852), (19, 0.010208053770724985), (20, 0.003082559894628423), (21, 0.04600960657912624), (22, 0.007579076634539004), (23, 0.003071125752838578), (24, 0.0019248279451037718), (25, 0.012632848669223817), (26, 0.0028835787082056117), (27, 0.0), (28, 0.0047634442589543765), (29, 0.014543170474587145), (30, 0.0), (31, 0.002771658965977769), (32, 0.009278213868954685), (33, 0.006750680231789736), (34, 0.03794687205582402), (35, 0.020030538818182172), (36, 0.0), (37, 0.012848727043282198), (38, 0.014757061301130135), (39, 0.03150914556858285), (40, 0.017784808595723504), (41, 0.003279294909869337), (42, 0.008409344151127972), (43, 0.017257512732994487), (44, 0.008807268271807408), (45, 0.004452693613122179), (46, 0.03204041670721522), (47, 0.007297350121850604), (48, 0.017475439240889443), (49, 0.031385061538718804), (50, 0.008119033387055222), (51, 0.011750533782199568), (52, 0.01067866683401322), (53, 0.0), (54, 0.0), (55, 0.0), (56, 0.01732506375764584), (57, 0.024198465411727273), (58, 0.003933868328522062), (59, 0.0), (60, 0.013063945335599797), (61, 0.002909614232920617), (62, 0.039852203034918585), (63, 0.02265282478934285), (64, 0.003929422665676334), (65, 0.004652489649924071), (66, 0.002941347646115784), (67, 0.026606289356884468), (68, 0.020563909136370656), (69, 0.0), (70, 0.008992164663353126), (71, 0.02927986056206585), (72, 0.012523414506491599), (73, 0.0), (74, 0.013113769733227823), (75, 0.015762222635884376), (76, 0.0), (77, 0.0), (78, 0.01035999401816056), (79, 0.015224217534089778), (80, 0.004298792605679339), (81, 0.008145702771077885), (82, 0.02094175595029093), (83, 0.020820475002351624), (84, 0.0045936674067230876), (85, 0.018087342596042638), (86, 0.017669811851555275), (87, 0.03201629129813849), (88, 0.010650532227191048), (89, 0.00926974533340936), (90, 0.0), (91, 0.0041534788533185785), (92, 0.002593559435486613), (93, 0.0), (94, 0.00430842945103196), (95, 0.0), (96, 0.01467890142062883), (97, 0.006703497700533027), (98, 0.002885774268997571), (99, 0.027444774498416438), (100, 0.06590765438731325), (101, 0.010403905166988227), (102, 0.00512566027039653), (103, 0.1206308390935962), (104, 0.037504214268626344), (105, 0.047323061134325856), (106, 0.023960572960048908), (107, 0.0033424902308097134), (108, 0.061258262145942405), (109, 0.0524969020049987), (110, 0.004794948937365916), (111, 0.010374882364695482), (112, 0.01526904842418134), (113, 0.00870041368733555), (114, 0.0029498993041446445), (115, 0.0030134697265856414), (116, 0.0027814811315099667), (117, 0.0), (118, 0.0), (119, 0.019585965058818246), (120, 0.047070842505094634), (121, 0.0027086304025830243), (122, 0.01621702343365199), (123, 0.026346958198913077), (124, 0.1118684962836), (125, 0.008738479896669104), (126, 0.0105375210622122), (127, 0.00286956332665731), (128, 0.0), (129, 0.00205795643414246), (130, 0.05793250113056611), (131, 0.012486686921817078), (132, 0.0026128087677275546), (133, 0.0), (134, 0.0), (135, 0.035786300245218186), (136, 0.0263929385292756), (137, 0.021153331660810168), (138, 0.0803162327876752), (139, 0.009224186101803637), (140, 0.10062120255899977), (141, 0.024161275355874257), (142, 0.07723512204369376), (143, 0.008624373208575096), (144, 0.015066755033221826), (145, 0.04370963740824045), (146, 0.0), (147, 0.10665034842608188), (148, 0.01171807607890931), (149, 0.009222762812174786), (150, 0.046354693766535386), (151, 0.0), (152, 0.004556136418548177), (153, 0.005514143304861373), (154, 0.0027663192169014813), (155, 0.005695944399649907), (156, 0.012406183425652069), (157, 0.059033818947461375), (158, 0.03451001577378308), (159, 0.01562440552587966), (160, 0.0), (161, 0.016371104173496662), (162, 0.024488790168850326), (163, 0.0), (164, 0.010067499229241345), (165, 0.010659106150950353), (166, 0.037061010699886744), (167, 0.020122978006273037), (168, 0.009686364592453409), (169, 0.00750499909411287), (170, 0.01595081288388629), (171, 0.004453453077355663), (172, 0.011203876278370892), (173, 0.019705025836779168), (174, 0.010450602740427967), (175, 0.031470049867980285), (176, 0.0030282635642700033), (177, 0.014506146782904787), (178, 0.0031002318614652387), (179, 0.004509596353225601), (180, 0.027895059308048177), (181, 0.016333280585839122), (182, 0.02012264999232919), (183, 0.00970327474277273), (184, 0.006726531289576605), (185, 0.007216348985205807), (186, 0.01887826874747162), (187, 0.0), (188, 0.0), (189, 0.004858369655766982), (190, 0.009530735753799348), (191, 0.008371959078562462), (192, 0.07100682277943504), (193, 0.011186362372781445), (194, 0.0023645268566030624), (195, 0.006420590826193431), (196, 0.0024753860501168542), (197, 0.009989945399949003), (198, 0.002990178315305439), (199, 0.06467398166351977), (200, 0.002604072699328415), (201, 0.013472525849429122), (202, 0.030710786530164066), (203, 0.0027885291658807138), (204, 0.04019322320691533), (205, 0.05918336471087861), (206, 0.01184731314879197), (207, 0.009286164317834024), (208, 0.011232621409510358), (209, 1.0), (210, 0.10779382818040022), (211, 0.13328936078453002), (212, 0.02032058445546207), (213, 0.002742927875546717), (214, 0.04188945264105472), (215, 0.007504477285221995), (216, 0.05218169403602596), (217, 0.008013244928043636), (218, 0.002690562710064086), (219, 0.0), (220, 0.009920186784460784), (221, 0.011723497766395502), (222, 0.02841879396861742), (223, 0.04999052050246903), (224, 0.008544978678034568), (225, 0.02596228059256419), (226, 0.0029466923140039234), (227, 0.003149605079665191), (228, 0.03544636338365561), (229, 0.002747558256982234), (230, 0.007433504701955565), (231, 0.016008564852006125), (232, 0.013269743845409711), (233, 0.021710364246374066), (234, 0.004037841029486814), (235, 0.0033264061694725463), (236, 0.09701802744753749), (237, 0.0038062133545596565), (238, 0.003005830129563722), (239, 0.0049763928877536), (240, 0.004342576120362802), (241, 0.0), (242, 0.009160389924446925), (243, 0.014054885353054849), (244, 0.008042702605807361), (245, 0.0), (246, 0.03701206202889281), (247, 0.002913941584835044), (248, 0.007061484638673075), (249, 0.014928179103793699), (250, 0.005249888161430951), (251, 0.02415726978597567), (252, 0.016133074435162514), (253, 0.0032221242287336447), (254, 0.012309936592200501), (255, 0.003086098818380061), (256, 0.02590950754049507), (257, 0.0), (258, 0.0), (259, 0.009329520160681982), (260, 0.0044499630234449755), (261, 0.004526518226960176), (262, 0.0030960147774486105), (263, 0.03746585510512169), (264, 0.022605569907583514), (265, 0.0), (266, 0.0189704187278146), (267, 0.002497494446018811), (268, 0.002628520309761876), (269, 0.04080492350964639), (270, 0.11820310250603569), (271, 0.008108458024659804), (272, 0.004690221107988089), (273, 0.0074072457989778516), (274, 0.03335679946231251), (275, 0.0), (276, 0.010530618181558326), (277, 0.014957687151897294), (278, 0.0025382263785618687), (279, 0.0071510544906919086), (280, 0.02343177818231604), (281, 0.012608057923589662), (282, 0.018522499781677262), (283, 0.03143797478633569), (284, 0.021528839339914927), (285, 0.010115020936711284), (286, 0.002528959144339765), (287, 0.04762841840542442), (288, 0.014450963290118687), (289, 0.0), (290, 0.0), (291, 0.011770294273857954), (292, 0.014816972732318193), (293, 0.0054313357131444105), (294, 0.0037355740342774097), (295, 0.0), (296, 0.013650503253856871), (297, 0.009927010074410008), (298, 0.004900914489305541), (299, 0.0046908665487708345), (300, 0.007272090515742097), (301, 0.01303724448467845), (302, 0.0), (303, 0.0), (304, 0.02785980497316645), (305, 0.004687070365055174), (306, 0.02512182262496581), (307, 0.00992418620348898), (308, 0.05891500488451659), (309, 0.13186718008421935), (310, 0.009015251657136835), (311, 0.007716657327066368), (312, 0.0), (313, 0.007910582693535596), (314, 0.0), (315, 0.0), (316, 0.0), (317, 0.043841755038575805), (318, 0.003220682734013694), (319, 0.02869159847220014), (320, 0.0), (321, 0.007408761832695484), (322, 0.007516428869126846), (323, 0.0), (324, 0.007040482163437466), (325, 0.02700770944309252), (326, 0.003609166600954339), (327, 0.01105599969387201), (328, 0.02393992834391547), (329, 0.07244831130900688), (330, 0.02961646995352757), (331, 0.0), (332, 0.011430848627221985), (333, 0.007312745699966011), (334, 0.046232811668588815), (335, 0.0043373251518856884), (336, 0.012203917376114858), (337, 0.02422318887509257), (338, 0.028629854121992895), (339, 0.021286863259950252), (340, 0.008201300222827116), (341, 0.018322101400448064), (342, 0.02559256694837251), (343, 0.023078654066299532), (344, 0.004934393720218799), (345, 0.012515140856009679), (346, 0.015175091271390693), (347, 0.004707509650722713), (348, 0.007561686574648644), (349, 0.020202438831668126), (350, 0.003208387098771474), (351, 0.0022484526376784202), (352, 0.02051752206106904), (353, 0.04154452657980029), (354, 0.02764388747134912), (355, 0.05078377489854814), (356, 0.04845324132447097), (357, 0.010640316663571037), (358, 0.05226469321226604), (359, 0.002704567229684583), (360, 0.007801036574629828), (361, 0.0049802357010926045), (362, 0.0), (363, 0.008340893413236624), (364, 0.0581622423515514), (365, 0.0), (366, 0.0), (367, 0.007875878343025368), (368, 0.015499970558432993), (369, 0.009882632028049794), (370, 0.11545168186411552), (371, 0.028083703348867433), (372, 0.011488728116908112), (373, 0.0027930268522342247), (374, 0.01796975114081193), (375, 0.0), (376, 0.022266959434970788), (377, 0.029447784367068547), (378, 0.002959718162634565), (379, 0.0), (380, 0.00538975846938098), (381, 0.003831906519021176), (382, 0.0), (383, 0.0), (384, 0.0), (385, 0.009101106323969944), (386, 0.007948221760105938), (387, 0.007204213255601878), (388, 0.007211100117454031), (389, 0.0), (390, 0.0), (391, 0.0), (392, 0.004983623376445747), (393, 0.0), (394, 0.0), (395, 0.003161935374846006), (396, 0.033327023004984316), (397, 0.0), (398, 0.0), (399, 0.03224859445175253), (400, 0.0029200377214058464), (401, 0.0), (402, 0.012897920080650034), (403, 0.01692084215992099), (404, 0.0), (405, 0.0), (406, 0.010794635856045807), (407, 0.0259069724858019), (408, 0.014994972887011664), (409, 0.004319400502391649), (410, 0.0071066181141769295), (411, 0.004306290700073637), (412, 0.030919473389300896), (413, 0.008150838892958371), (414, 0.005732072080880807), (415, 0.0), (416, 0.006999917545501918), (417, 0.011994494296781903), (418, 0.01862133951619207), (419, 0.003319206179042918), (420, 0.1256183539746784), (421, 0.0036284455851787003), (422, 0.007767844488502374), (423, 0.0), (424, 0.00532702742599223), (425, 0.005322405637223493), (426, 0.004388258179597994), (427, 0.004500123768958541), (428, 0.01802370287004791), (429, 0.1036667035187438), (430, 0.003172040747149336), (431, 0.0034755831139416053), (432, 0.002507145898509234), (433, 0.014898394377857107), (434, 0.01056592821129175), (435, 0.006666476649896225), (436, 0.0032972950066665245), (437, 0.017281949427504273), (438, 0.0), (439, 0.0046640128449674705), (440, 0.01448795241148686), (441, 0.016497100514750597), (442, 0.00633381998402351), (443, 0.0034087145780157036), (444, 0.0032837077123442637), (445, 0.009057399367705854), (446, 0.010321079738369116), (447, 0.011597004993401305), (448, 0.008816968012482745), (449, 0.00956886564771347), (450, 0.07837928951542003), (451, 0.0), (452, 0.02431845529464171), (453, 0.0022535480108237644), (454, 0.00435425535846612), (455, 0.0020912654793098628), (456, 0.003122407835077917), (457, 0.0027048748007126927), (458, 0.012461834873509756), (459, 0.0), (460, 0.009339632272171243), (461, 0.009735870230676843), (462, 0.0), (463, 0.01742476015804682), (464, 0.010458023508799003), (465, 0.016627919775502067), (466, 0.002913634434429693), (467, 0.0), (468, 0.007142793845096162), (469, 0.028938308871969125), (470, 0.011158782752754793), (471, 0.019452187004564653), (472, 0.01572240246885694), (473, 0.00266626208856115), (474, 0.008638597279376404), (475, 0.0036987331545293425), (476, 0.0032350471238358665), (477, 0.013573515327038661), (478, 0.04354101879055728), (479, 0.011155274900096322), (480, 0.002586070887073845), (481, 0.012145786696773435), (482, 0.011043318468327493), (483, 0.12561692623239323), (484, 0.00625437575226077), (485, 0.03113288719517395), (486, 0.004505466745605028), (487, 0.033316130579937375), (488, 0.002850583137376641), (489, 0.0035254649091458743), (490, 0.0029183053078951763), (491, 0.005484806904065049), (492, 0.0043802847702449224), (493, 0.003129052722906032), (494, 0.008259105840985905), (495, 0.006756158635132379), (496, 0.027566044474232762), (497, 0.01149113225484075), (498, 0.004472742070278077), (499, 0.003207228378534204), (500, 0.01716554141899273), (501, 0.0073825756654826965), (502, 0.011692137358002805), (503, 0.007997461297852839), (504, 0.007684883706882322), (505, 0.02715100861325575), (506, 0.0), (507, 0.0071725442925045235), (508, 0.008783223511252398), (509, 0.003022305573947639), (510, 0.006105923309900486), (511, 0.01817637969117044), (512, 0.03172102458893229), (513, 0.02391214431854708), (514, 0.023854909754962288), (515, 0.01006711117530652), (516, 0.0), (517, 0.0), (518, 0.003454968098145587), (519, 0.009341768810662067), (520, 0.0), (521, 0.011866267731270388), (522, 0.002860746447436156), (523, 0.017887608740947913), (524, 0.011311544978671107), (525, 0.004666505289679253), (526, 0.0037059248342341425), (527, 0.014418854430048988), (528, 0.0), (529, 0.03051254842671672), (530, 0.08262185372080988), (531, 0.0), (532, 0.007634219857602105), (533, 0.012561712822559244), (534, 0.011030680888667266), (535, 0.017645118853714777), (536, 0.0), (537, 0.00868867993515091), (538, 0.020333213487767444), (539, 0.008045021667322476), (540, 0.00866011788906198), (541, 0.002850584634902228), (542, 0.007831841948150975), (543, 0.04481041734198833), (544, 0.011333654768819123), (545, 0.004121422884532359), (546, 0.0), (547, 0.01980734004105944), (548, 0.0043995435347496436), (549, 0.004352907106885986), (550, 0.0), (551, 0.02378778875296544), (552, 0.0), (553, 0.028386176804036503), (554, 0.0), (555, 0.04270115808452936), (556, 0.0), (557, 0.0), (558, 0.010298639771022241), (559, 0.0), (560, 0.012952042218982756), (561, 0.0361137007226158), (562, 0.05151251581399148), (563, 0.0026574587131750404), (564, 0.0030875226035171973), (565, 0.0), (566, 0.05549144823706599), (567, 0.0), (568, 0.01578217446733857), (569, 0.008597570979085672), (570, 0.0), (571, 0.002272257110751541), (572, 0.01833265393749432), (573, 0.0), (574, 0.0), (575, 0.003935845097459856), (576, 0.0033222174932045372), (577, 0.004201906861323857), (578, 0.0027814550554442746), (579, 0.0029874720950183076), (580, 0.1452039048784959), (581, 0.002655805694310205), (582, 0.008992433357344157), (583, 0.011173053594197773), (584, 0.011556254365458794), (585, 0.004513287730525487), (586, 0.0), (587, 0.0032411631461085927), (588, 0.007937598276964273), (589, 0.00273128382049349), (590, 0.007040330301140296), (591, 0.0), (592, 0.0), (593, 0.0030059444557088864), (594, 0.08125760077346587), (595, 0.0), (596, 0.02333896862057806), (597, 0.022162995939949713), (598, 0.0027458757952806543), (599, 0.004935781415552257), (600, 0.01296859367017852), (601, 0.021867458709473323), (602, 0.0), (603, 0.004990114437860101), (604, 0.01027153461143464), (605, 0.0025932031295881216), (606, 0.021509518592561956), (607, 0.02722136284574106), (608, 0.0026714601360566547), (609, 0.03306358180451553), (610, 0.004664665580585743), (611, 0.004734935548854356), (612, 0.08596969048915204), (613, 0.01272801299823797), (614, 0.029282306993033237), (615, 0.012766995549935326), (616, 0.030178475210099642), (617, 0.0024882047971050117), (618, 0.012032019293882302), (619, 0.0), (620, 0.017493265110066165), (621, 0.026849430782755312), (622, 0.03995566186926936), (623, 0.003130050086866143), (624, 0.0026956318528204484), (625, 0.015389259800428374), (626, 0.002497530719932409), (627, 0.07457521785303776), (628, 0.002971328673888123), (629, 0.013690573138298457), (630, 0.044452278737439836), (631, 0.01570233307515327), (632, 0.007430381128309056), (633, 0.02303412562715036), (634, 0.0), (635, 0.01857809024114557), (636, 0.0029763328024924804), (637, 0.0030518475105014847), (638, 0.002716225151118177), (639, 0.003961691559047469), (640, 0.007855227186517582), (641, 0.0075764715331347226), (642, 0.0025455951795832544), (643, 0.022765544074424524), (644, 0.0072564570377075845), (645, 0.06699347595304217), (646, 0.0028340825972146258), (647, 0.04401869926954302), (648, 0.014267165077820696), (649, 0.0), (650, 0.0), (651, 0.01021468143931292), (652, 0.03392327480019077), (653, 0.02196304888675269), (654, 0.03245785081954723), (655, 0.002752081955648394), (656, 0.023109835901802562), (657, 0.021894222832931524), (658, 0.0), (659, 0.002745195437373203), (660, 0.052405967807995314), (661, 0.004401166594927459), (662, 0.0), (663, 0.0), (664, 0.03813533389010459), (665, 0.0), (666, 0.005279398348549121), (667, 0.08301077398483372), (668, 0.010215962515326846), (669, 0.021616392488393064), (670, 0.003631961752990535), (671, 0.03435058638403381), (672, 0.0026279288995704605), (673, 0.012187715064842822), (674, 0.0), (675, 0.017295995691934768), (676, 0.010827563973557415), (677, 0.005141641465404229), (678, 0.03294318867728796), (679, 0.04437904678673308), (680, 0.00812364800386159), (681, 0.0053116254437711756), (682, 0.04566258521656903), (683, 0.017904872379179784), (684, 0.024124284068639975), (685, 0.08979028096749742), (686, 0.0), (687, 0.0052051866647211875), (688, 0.0032647055847584185), (689, 0.0794928589391959), (690, 0.004365116683589351), (691, 0.01613488940660956), (692, 0.040824819496997525), (693, 0.00286838709493548), (694, 0.0027713673111331794), (695, 0.09437986984506087), (696, 0.002966417029179535), (697, 0.02858207450602419), (698, 0.0027883218058153427), (699, 0.008438215890369674), (700, 0.005147377164769223), (701, 0.017704243838032038), (702, 0.0), (703, 0.0026178367959140626), (704, 0.005072950717085296), (705, 0.054753368885098866), (706, 0.03777085842042247), (707, 0.002478807258974822), (708, 0.0), (709, 0.014974604164718583), (710, 0.0070911824830252115), (711, 0.0), (712, 0.002603740129317969), (713, 0.0), (714, 0.0), (715, 0.011675180277848207), (716, 0.0030904338490539925), (717, 0.007965909477353497), (718, 0.0), (719, 0.019807369101441506), (720, 0.0), (721, 0.0033767467971671477), (722, 0.006863700943954514), (723, 0.01191503961750086), (724, 0.0), (725, 0.003991066816743618), (726, 0.007845848186164909), (727, 0.012114327829726042), (728, 0.003178636780757785), (729, 0.0032863446159583027), (730, 0.022649808060477866), (731, 0.016282749813121226), (732, 0.025408996418047527), (733, 0.01778189697777807), (734, 0.009908679592327633), (735, 0.004024264801286427), (736, 0.004723081559163603), (737, 0.017225007922282036), (738, 0.007729907861251382), (739, 0.0033629034996262687), (740, 0.001977032426340089), (741, 0.0), (742, 0.014355489885921016), (743, 0.035763232815217774), (744, 0.0070641789167719335), (745, 0.024135428779878038), (746, 0.0), (747, 0.005230690790140803), (748, 0.013078071308814991), (749, 0.10664131135062535), (750, 0.0030024292011087235), (751, 0.0), (752, 0.00798773775335516), (753, 0.2963946351008442), (754, 0.0), (755, 0.002864070454453085), (756, 0.00411978138531488), (757, 0.032358440400725164), (758, 0.007692328769559805), (759, 0.002683243885856208), (760, 0.09893956530511534), (761, 0.002947534021740998), (762, 0.02136565307156621), (763, 0.016064570037918585), (764, 0.0), (765, 0.004958396492284037), (766, 0.03974948953871237), (767, 0.007246117829474356), (768, 0.009572303894458649), (769, 0.08454181282474778), (770, 0.0725798301765449), (771, 0.0), (772, 0.02459123949590423), (773, 0.004538573879252003), (774, 0.0030536236876889493), (775, 0.01885771061931897), (776, 0.004282086809631996), (777, 0.0035420805195195315), (778, 0.01268365169004989), (779, 0.004010439809704559), (780, 0.008927452898024064), (781, 0.004940896151029398), (782, 0.014654576526342047), (783, 0.003104522878754585), (784, 0.0), (785, 0.03503749092198549), (786, 0.0), (787, 0.012211068323125442), (788, 0.05538788342423089), (789, 0.007572378306678784), (790, 0.03530455132696508), (791, 0.0031659837058675812), (792, 0.053540241088167684), (793, 0.0), (794, 0.01968311702786869), (795, 0.045433510264790936), (796, 0.002446742719927226), (797, 0.022957099463068398), (798, 0.01176685344848996), (799, 0.04245256964704004), (800, 0.009509842096991242), (801, 0.06273177517942966), (802, 0.0), (803, 0.012579725262887986), (804, 0.0026506831928227222), (805, 0.007063723110834622), (806, 0.03578970788137575), (807, 0.003725017254627717), (808, 0.03865457871116019), (809, 0.007836402115393309), (810, 0.004383337304302083), (811, 0.0), (812, 0.007217387968592657), (813, 0.013848729747592029), (814, 0.0156821032916501), (815, 0.00263291942252321), (816, 0.009090129769566791), (817, 0.010238656964519654), (818, 0.0027841410402860757), (819, 0.0), (820, 0.0041442923648026715), (821, 0.01128745400594373), (822, 0.0), (823, 0.003396974715492511), (824, 0.014505311340727425), (825, 0.007973628630226517), (826, 0.0031430524561752125), (827, 0.0077993815659213), (828, 0.010550259644240615), (829, 0.014569531140263398), (830, 0.0030979692704833834), (831, 0.0020805246754841207), (832, 0.007766924622720894), (833, 0.07123510987094701), (834, 0.00757097094404525), (835, 0.007217104018764552), (836, 0.019392117529375235), (837, 0.0), (838, 0.009838115688412166), (839, 0.0), (840, 0.013626784964086062), (841, 0.019635982354772014), (842, 0.06779376736731992), (843, 0.008700841431747635), (844, 0.014580461788549515), (845, 0.0030853373595543703), (846, 0.0), (847, 0.01751271285307708), (848, 0.002972153166644828), (849, 0.0), (850, 0.015547279833081865), (851, 0.009783978179091291), (852, 0.016282798556621576), (853, 0.01816440532180686), (854, 0.040189053309927884), (855, 0.0), (856, 0.002630623942362534), (857, 0.003254423854028742), (858, 0.0019898726133009224), (859, 0.0), (860, 0.012940218226494219), (861, 0.017937213845418364), (862, 0.015336783435573867), (863, 0.0026938911494831528), (864, 0.023739111100078918), (865, 0.02138818567966058), (866, 0.014744210541572407), (867, 0.01795006133222651), (868, 0.038489011189826096), (869, 0.00842932118942335), (870, 0.04045829637431611), (871, 0.003028086684117795), (872, 0.003155036154495989), (873, 0.0), (874, 0.024305911523728282), (875, 0.03316618089885573), (876, 0.012747834457754372), (877, 0.0), (878, 0.0149800557640225), (879, 0.011651879500046963), (880, 0.0029047766953479324), (881, 0.014803778285823896), (882, 0.0041588187966696), (883, 0.03178330784323345), (884, 0.003066178184688689), (885, 0.0068515746605544055), (886, 0.002762921247759345), (887, 0.11196132257629428), (888, 0.012378025961079576), (889, 0.003792816337883673), (890, 0.007966684653376343), (891, 0.004942012888020664), (892, 0.0), (893, 0.0), (894, 0.01571109805502075), (895, 0.030081594390953884), (896, 0.012200729644782441), (897, 0.015387982568910255), (898, 0.03226547685021774), (899, 0.04474346525749488), (900, 0.009892338800472604), (901, 0.002441007992827055), (902, 0.027115931284973985), (903, 0.002762513895252858), (904, 0.015200536683800545), (905, 0.009510352326482882), (906, 0.015202454935125755), (907, 0.007024652079171497), (908, 0.013191781587271134), (909, 0.0), (910, 0.0026977643413241678), (911, 0.011681565720311366), (912, 0.0), (913, 0.0049765532267613865), (914, 0.0), (915, 0.029633491486598024), (916, 0.01903796443462676), (917, 0.0026379239930717246), (918, 0.013363294121733617), (919, 0.022940929004937976), (920, 0.0), (921, 0.042909732252780095), (922, 0.0033064521077920757), (923, 0.0028381194582813418), (924, 0.013302485322356486), (925, 0.003388666824272535), (926, 0.0), (927, 0.0), (928, 0.013475378170276494), (929, 0.008894674458783934), (930, 0.013087576823147417), (931, 0.07751885997090513), (932, 0.0), (933, 0.0030098003183789634), (934, 0.02515094836603827), (935, 0.037701980011045036), (936, 0.009519746814981585), (937, 0.013048401531536368), (938, 0.004702745692787024), (939, 0.010534241746330768), (940, 0.007404633029296187), (941, 0.0027602486207676915), (942, 0.009079586199752146), (943, 0.0), (944, 0.0027457507826733527), (945, 0.00475056036770085), (946, 0.0), (947, 0.015065479876266094), (948, 0.016259029543682225), (949, 0.012584748034712408), (950, 0.0), (951, 0.002487903376637483), (952, 0.04727089031273993), (953, 0.0023728716599693968), (954, 0.0), (955, 0.0), (956, 0.0), (957, 0.02091494163768365), (958, 0.027082554835229325), (959, 0.002862526306274636), (960, 0.0), (961, 0.018502276531660766), (962, 0.018929676217830316), (963, 0.01866096963124756), (964, 0.0), (965, 0.0), (966, 0.014419314739543845), (967, 0.003253759103218133), (968, 0.0164985771241846), (969, 0.0030080496500773245), (970, 0.010413030706606213), (971, 0.0048291269764464155), (972, 0.0), (973, 0.012148035204765322), (974, 0.004391957542990474), (975, 0.0027589339689042948), (976, 0.008665315003770616), (977, 0.0), (978, 0.0043395223587591675), (979, 0.006749649312572005), (980, 0.003045900410781072), (981, 0.011100724535494488), (982, 0.038519862515846236), (983, 0.0), (984, 0.002803295295897593), (985, 0.0033712598080869213), (986, 0.01115993729334545), (987, 0.0030567701262908726), (988, 0.1110138779804104), (989, 0.02857417666593419), (990, 0.0), (991, 0.0031634914734830744), (992, 0.0), (993, 0.0076948997268556935), (994, 0.011349853918649089), (995, 0.01378825891175091), (996, 0.0), (997, 0.0), (998, 0.0033409231197434296), (999, 0.003338188807019406), (1000, 0.014265189961474665), (1001, 0.032716687473179566), (1002, 0.03617177964965711), (1003, 0.12036702137815904), (1004, 0.0026415363906861513), (1005, 0.02154299901660159), (1006, 0.015955171196516856), (1007, 0.0031025593681574862), (1008, 0.0), (1009, 0.009385985598548958), (1010, 0.003968130866313021), (1011, 0.005298467759525301), (1012, 0.007561626164933208), (1013, 0.0), (1014, 0.09988396156077371), (1015, 0.020323984675070926), (1016, 0.0), (1017, 0.01827476388830402), (1018, 0.017916753558448194), (1019, 0.012836536925628427), (1020, 0.010150540255332238), (1021, 0.010538774645980567), (1022, 0.036901516751128384), (1023, 0.0118928871340976), (1024, 0.00856281711407101), (1025, 0.023783161770188625), (1026, 0.0028919098002074223), (1027, 0.0028181087867915856), (1028, 0.08945170196834282), (1029, 0.008879410502779721), (1030, 0.002852762682272895), (1031, 0.004988239621274919), (1032, 0.00278355215921689), (1033, 0.03376856907409644), (1034, 0.06474377283252779), (1035, 0.01540768087223936), (1036, 0.0768925512447752), (1037, 0.008606618307297007), (1038, 0.0), (1039, 0.039004398275562846), (1040, 0.002301808764966734), (1041, 0.011574182715752272), (1042, 0.002461367480319381), (1043, 0.05150085181373597), (1044, 0.002854914782298225), (1045, 0.0), (1046, 0.003984888979774077), (1047, 0.013453850181524927), (1048, 0.015869949606269897), (1049, 0.003494579495921012), (1050, 0.03998442140787522), (1051, 0.0), (1052, 0.050789159894765346), (1053, 0.06867891309185718), (1054, 0.012193292706094599), (1055, 0.0755573048656023), (1056, 0.005104544161115332), (1057, 0.0), (1058, 0.08393897943167007), (1059, 0.033727588660325214), (1060, 0.011896691676652754), (1061, 0.061652938222099045), (1062, 0.0), (1063, 0.007943489014629669), (1064, 0.013530972444982145), (1065, 0.04585462002836248), (1066, 0.09697299865146917), (1067, 0.0), (1068, 0.01900103244625026), (1069, 0.008540240327402731), (1070, 0.0), (1071, 0.02317174512920943), (1072, 0.04105887523415301), (1073, 0.0), (1074, 0.01590318311528247), (1075, 0.011145511528772727), (1076, 0.033405620464953795), (1077, 0.015601910322037707), (1078, 0.030648036638171436), (1079, 0.01915510830562381), (1080, 0.002653072205674115), (1081, 0.0), (1082, 0.0), (1083, 0.003066331110779248), (1084, 0.0028877701859307153), (1085, 0.0), (1086, 0.0), (1087, 0.020295894483352003), (1088, 0.0025192948881226124), (1089, 0.0), (1090, 0.025741177236941484), (1091, 0.0), (1092, 0.00685253571526505), (1093, 0.0), (1094, 0.007470042363294258), (1095, 0.015207052329541632), (1096, 0.010293096567377182), (1097, 0.02305869549461468), (1098, 0.002403183993965442), (1099, 0.008093965300165203), (1100, 0.0028983218406350405), (1101, 0.0), (1102, 0.0029249342783970143), (1103, 0.0), (1104, 0.013591525386525992), (1105, 0.009522571517813681), (1106, 0.035508757022495646), (1107, 0.010391224048648853), (1108, 0.0), (1109, 0.013672545323777202), (1110, 0.0028968067005950135), (1111, 0.017388770099861357), (1112, 0.0029353125491791213), (1113, 0.009058229824353078), (1114, 0.02109690548628057), (1115, 0.013212062884367564), (1116, 0.016796144035985262), (1117, 0.0028311424136972917), (1118, 0.020857647831302995), (1119, 0.011924192984795426), (1120, 0.003999921919752507), (1121, 0.0036922491110589566), (1122, 0.0030004092379278756), (1123, 0.002800892445210943), (1124, 0.010969007859872716), (1125, 0.007900308282158637), (1126, 0.0), (1127, 0.0), (1128, 0.01553526189298775), (1129, 0.024658788730180257), (1130, 0.037443620426276636), (1131, 0.002956931605791715), (1132, 0.022886166121893432), (1133, 0.0), (1134, 0.019828023164994126), (1135, 0.0), (1136, 0.0458882291015322), (1137, 0.024810317145649588), (1138, 0.0029811938556833116), (1139, 0.044416459428255305), (1140, 0.008178964345387152), (1141, 0.0436004072487477), (1142, 0.08232252071116924), (1143, 0.0), (1144, 0.012175729719212713), (1145, 0.004075271595426265), (1146, 0.09574268577296303), (1147, 0.0), (1148, 0.012609933198986043), (1149, 0.0), (1150, 0.0050603284577978936), (1151, 0.0), (1152, 0.0), (1153, 0.0), (1154, 0.0), (1155, 0.0048659586741497275), (1156, 0.0), (1157, 0.018311976707768254), (1158, 0.0), (1159, 0.0), (1160, 0.010600719308922878), (1161, 0.0026603194614296653), (1162, 0.025624678312493925), (1163, 0.0029419020742577806), (1164, 0.02149402545519815), (1165, 0.0), (1166, 0.0), (1167, 0.0), (1168, 0.009172796821664966), (1169, 0.029193717083596412), (1170, 0.007647302392439558), (1171, 0.004249838629032157), (1172, 0.0857617290029025), (1173, 0.018593487730302692), (1174, 0.003012817795521428), (1175, 0.002974209107314278), (1176, 0.0030083026523025067), (1177, 0.002776173277090363), (1178, 0.003985516477608141), (1179, 0.007637660606745382), (1180, 0.0), (1181, 0.03245549951374728), (1182, 0.010794686097290358), (1183, 0.010366558891757721), (1184, 0.053269730554243076), (1185, 0.01360445020692885), (1186, 0.006707260391686983), (1187, 0.0034625566178514405), (1188, 0.036529262321232214), (1189, 0.0), (1190, 0.0), (1191, 0.034462821363951346), (1192, 0.020916241066370245), (1193, 0.0), (1194, 0.017951175878421512), (1195, 0.012775501986541777), (1196, 0.0), (1197, 0.0), (1198, 0.0), (1199, 0.0025997660269270802), (1200, 0.0), (1201, 0.0), (1202, 0.0024997937266704284), (1203, 0.002767074841215232), (1204, 0.002990120518995247), (1205, 0.0), (1206, 0.034839523673288575), (1207, 0.02101481881601293), (1208, 0.009738679427106083), (1209, 0.002455889466315791), (1210, 0.013646223807043046), (1211, 0.03068128389079571), (1212, 0.0), (1213, 0.00722196427163284), (1214, 0.014761797021149374), (1215, 0.013072133837996696), (1216, 0.015435503569199625), (1217, 0.002558559250220901), (1218, 0.004475714740324902), (1219, 0.002643852773103021), (1220, 0.013783839291216776), (1221, 0.003900504093156966), (1222, 0.0), (1223, 0.007668265362549014), (1224, 0.011658409442868002), (1225, 0.0031090179890366997), (1226, 0.015694860254797775), (1227, 0.0), (1228, 0.0), (1229, 0.0030767534005615668), (1230, 0.00789116578041761), (1231, 0.007878141376372435), (1232, 0.011254616473044123), (1233, 0.0), (1234, 0.011826644686227562), (1235, 0.0), (1236, 0.007476754082397907), (1237, 0.010138268404351475), (1238, 0.08249314652609464), (1239, 0.019776559954641088), (1240, 0.02437882095987662), (1241, 0.010136498058769717), (1242, 0.0), (1243, 0.0032144684354875244), (1244, 0.02268959557881733), (1245, 0.002856725260875371), (1246, 0.005068369223599648), (1247, 0.0028464924092712488), (1248, 0.01073052393632519), (1249, 0.013235252430051213), (1250, 0.012561725574243964), (1251, 0.002607871549682405), (1252, 0.011065300379012582), (1253, 0.0), (1254, 0.028283310090733184), (1255, 0.010052820652881468), (1256, 0.0), (1257, 0.027193909516925165), (1258, 0.0), (1259, 0.02037879768616442), (1260, 0.009170874624582749), (1261, 0.002853376958686137), (1262, 0.012291889993420374), (1263, 0.0), (1264, 0.044330715825787306), (1265, 0.0), (1266, 0.012573922033013035), (1267, 0.03464364042932874), (1268, 0.0), (1269, 0.021961621913071792), (1270, 0.07277372311534214), (1271, 0.0), (1272, 0.026045240515465744), (1273, 0.03166576857090728), (1274, 0.004455559600841087), (1275, 0.012886764384501391), (1276, 0.006132151444817228), (1277, 0.024881130020946173), (1278, 0.043959927079823394), (1279, 0.03017255277123384), (1280, 0.0), (1281, 0.0), (1282, 0.013805009514200607), (1283, 0.0), (1284, 0.0028688550719963347), (1285, 0.0), (1286, 0.0028891848554705823), (1287, 0.0), (1288, 0.0042687319139428515), (1289, 0.0), (1290, 0.01717803694899577), (1291, 0.008691690231849509), (1292, 0.008084675663513697), (1293, 0.014673491309651428), (1294, 0.0030254012531540507), (1295, 0.021781467425148478), (1296, 0.014697960293277457), (1297, 0.0046955526433377845), (1298, 0.0029307691244789807), (1299, 0.0), (1300, 0.00695177027289298), (1301, 0.022296920632077534), (1302, 0.007741810883517639), (1303, 0.00900466435687181), (1304, 0.012334440647551452), (1305, 0.010193640244542371), (1306, 0.014553068235531326), (1307, 0.016013437424899073), (1308, 0.014011309203752955), (1309, 0.028688450054376397), (1310, 0.013778551868451422), (1311, 0.0), (1312, 0.012887868542278556), (1313, 0.03687359575364146), (1314, 0.012702732041605344), (1315, 0.0), (1316, 0.00686845296937272), (1317, 0.07890143823011087), (1318, 0.072213782384772), (1319, 0.0342451228392723), (1320, 0.0064537861672479425), (1321, 0.00539956565872118), (1322, 0.004775937892159577), (1323, 0.0), (1324, 0.003143683534459971), (1325, 0.07742162892483506), (1326, 0.0), (1327, 0.0072585301610277415), (1328, 0.0), (1329, 0.016791989644981457), (1330, 0.008070512551246254), (1331, 0.0), (1332, 0.019924569314152412), (1333, 0.0), (1334, 0.011465025733184961), (1335, 0.011279668646550365), (1336, 0.00492620076665913), (1337, 0.011397483855162557), (1338, 0.015599121385920026), (1339, 0.011871167421394938), (1340, 0.0025028020143555694), (1341, 0.013966091266612194), (1342, 0.0), (1343, 0.08698725136167026), (1344, 0.006647969422786696), (1345, 0.007616196477502776), (1346, 0.004718426476538309), (1347, 0.0045316367308137805), (1348, 0.007161209347755763), (1349, 0.008606885077754227), (1350, 0.0028707290534842065), (1351, 0.01882146378429471), (1352, 0.03577093050635136), (1353, 0.0), (1354, 0.008655956479675006), (1355, 0.0030179771257027223), (1356, 0.0024943874715382943), (1357, 0.02298724923466921), (1358, 0.026052078261106074), (1359, 0.011368981216012305), (1360, 0.03849255139195532), (1361, 0.0), (1362, 0.025617359914245505), (1363, 0.016971600986513402), (1364, 0.007931720927963877), (1365, 0.014374074009365186), (1366, 0.002658410243786888), (1367, 0.002461094616339255), (1368, 0.004526664012927844), (1369, 0.02547596915052114), (1370, 0.002541123612628559), (1371, 0.009132520631576171), (1372, 0.002764555594337065), (1373, 0.004545237736963832), (1374, 0.012333650161169864), (1375, 0.007260185325747732), (1376, 0.01449613363155766), (1377, 0.01895124853049667), (1378, 0.0029445933676032487), (1379, 0.0066160401015383785), (1380, 0.004947941047700743), (1381, 0.005383911721323732), (1382, 0.03362579047046822), (1383, 0.0033267663537176425), (1384, 0.020091555361404747), (1385, 0.01882522629817543), (1386, 0.0), (1387, 0.010082245237432919), (1388, 0.008257164431238645), (1389, 0.0), (1390, 0.005047547297672099), (1391, 0.0), (1392, 0.0067915810474347355), (1393, 0.0905590229047789), (1394, 0.006767741838097404), (1395, 0.003776493820992783), (1396, 0.01779535110406117), (1397, 0.0025485451257298195), (1398, 0.0034116089512009765), (1399, 0.0), (1400, 0.0031065659699937953), (1401, 0.05031149558928613), (1402, 0.008010043189329547), (1403, 0.01985819613259812), (1404, 0.007220623893244316), (1405, 0.0), (1406, 0.008035056075387225), (1407, 0.04373393322810058), (1408, 0.0028702638607069676), (1409, 0.003152870387086034), (1410, 0.0029785918500557897), (1411, 0.007548337598542131), (1412, 0.03128701907274278), (1413, 0.020260505709503558), (1414, 0.002629173236898135), (1415, 0.0024145808007217636), (1416, 0.10781942534953541), (1417, 0.01467641685495202), (1418, 0.01894713681600268), (1419, 0.07905005840911755), (1420, 0.04352718131158101), (1421, 0.05288791757876512), (1422, 0.007437471061177377), (1423, 0.0026155220405808736), (1424, 0.0), (1425, 0.012537847672476737), (1426, 0.0049706117641231335), (1427, 0.00241584918893345), (1428, 0.057124197308619194), (1429, 0.003542928485521057), (1430, 0.06039605929833351), (1431, 0.09275927702336142), (1432, 0.00856379450800503), (1433, 0.023206593329029645), (1434, 0.0026906918145594987), (1435, 0.0), (1436, 0.01366283851789632), (1437, 0.0), (1438, 0.036446476656183946), (1439, 0.0030857266993700705), (1440, 0.01134087775668681), (1441, 0.0), (1442, 0.010480102207316173), (1443, 0.02543148456126247), (1444, 0.0), (1445, 0.0), (1446, 0.09292310522519366), (1447, 0.004627546899056788), (1448, 0.002723137980440029), (1449, 0.0), (1450, 0.0025396887903475474), (1451, 0.03289169310819502), (1452, 0.0), (1453, 0.013691373136124597), (1454, 0.0032370009245223587), (1455, 0.008211376132749448), (1456, 0.007090171596757389), (1457, 0.0), (1458, 0.0), (1459, 0.00923613985676304), (1460, 0.01979729253487893), (1461, 0.05563429458497568), (1462, 0.002703137976557686), (1463, 0.007364936685283192), (1464, 0.010100307302800086), (1465, 0.02392567615967153), (1466, 0.09095830684047951), (1467, 0.007381729167192474), (1468, 0.004158598360438427), (1469, 0.0), (1470, 0.0), (1471, 0.026561186307116687), (1472, 0.0431513814479304), (1473, 0.0), (1474, 0.008518789946822827), (1475, 0.011029682045479333), (1476, 0.002985804826721064), (1477, 0.018413479481046942), (1478, 0.01069487985798601), (1479, 0.0032323383479677583), (1480, 0.024569734036492825), (1481, 0.010809541047317201), (1482, 0.004100872414461527), (1483, 0.03290831481376068), (1484, 0.0031174372797655573), (1485, 0.019846023128711553), (1486, 0.01357307869039967), (1487, 0.008896399194684762), (1488, 0.03541536138164923), (1489, 0.0033115473932627086), (1490, 0.0), (1491, 0.0), (1492, 0.006605627083142454), (1493, 0.019241180795509617), (1494, 0.020566174415873672), (1495, 0.03192574904073683), (1496, 0.008817374309556633), (1497, 0.003363430487973832), (1498, 0.003276434476911571), (1499, 0.003299054555075818), (1500, 0.024360487212092538), (1501, 0.06803147374925253), (1502, 0.004954419354679477), (1503, 0.011179523132121312), (1504, 0.008142626115529784), (1505, 0.0076552127117304565), (1506, 0.02814432101508651), (1507, 0.009414708829248986), (1508, 0.0), (1509, 0.01604935740182589), (1510, 0.04117680083616462), (1511, 0.030626155108255428), (1512, 0.06552927986774094), (1513, 0.011634218310748692), (1514, 0.009791647053878893), (1515, 0.01240504787756943), (1516, 0.003035102739430114), (1517, 0.009341993937681424), (1518, 0.0031740268361780204), (1519, 0.009783842917575914), (1520, 0.005036368342480102), (1521, 0.004051994701361884), (1522, 0.009475294540886558), (1523, 0.0), (1524, 0.00429684245312173), (1525, 0.004810325783892126), (1526, 0.04271964496800419), (1527, 0.010930262117142823), (1528, 0.002676794821058992), (1529, 0.0), (1530, 0.00384217450411847), (1531, 0.0), (1532, 0.07459061193751326), (1533, 0.0029894825467329006), (1534, 0.0), (1535, 0.003945098554281775), (1536, 0.10655456051693765), (1537, 0.008178249636027993), (1538, 0.009603555485341001), (1539, 0.04435649749260613), (1540, 0.07999969219648476), (1541, 0.0), (1542, 0.06637948779961511), (1543, 0.024377416901956307), (1544, 0.00789204781569441), (1545, 0.03305696739006092), (1546, 0.004036098860514459), (1547, 0.04053471606147075), (1548, 0.005938692090697701), (1549, 0.0), (1550, 0.0029060326759768303), (1551, 0.03809348558978771), (1552, 0.007298024648094176), (1553, 0.017618940921948004), (1554, 0.0), (1555, 0.007111089376053663), (1556, 0.0), (1557, 0.0), (1558, 0.09888610129239653), (1559, 0.004060411510395761), (1560, 0.0), (1561, 0.0171888205374074), (1562, 0.0), (1563, 0.0), (1564, 0.0048050084026656625), (1565, 0.0065292905741245215), (1566, 0.0), (1567, 0.06688738050117796), (1568, 0.0592735745971922), (1569, 0.0), (1570, 0.0030993799739290426), (1571, 0.01262619291970414), (1572, 0.028753615870817976), (1573, 0.0), (1574, 0.04249588447961261), (1575, 0.0), (1576, 0.0), (1577, 0.004732579832795204), (1578, 0.004941332773907865), (1579, 0.013229940807881046), (1580, 0.0032520087506429135), (1581, 0.0), (1582, 0.010722189241548403), (1583, 0.013502603395982391), (1584, 0.01285379745986192), (1585, 0.008412957289247543), (1586, 0.014992851963706815), (1587, 0.004775671904463881), (1588, 0.0), (1589, 0.0), (1590, 0.0), (1591, 0.00952156246302535), (1592, 0.0), (1593, 0.0035715141206634276), (1594, 0.013805342014301687), (1595, 0.014352904617163657), (1596, 0.035606706265948224), (1597, 0.007358300395814849), (1598, 0.08355389681137047), (1599, 0.0), (1600, 0.03719778366881699), (1601, 0.0), (1602, 0.018554090168452504), (1603, 0.0), (1604, 0.0), (1605, 0.0026624824485997683), (1606, 0.0), (1607, 0.0), (1608, 0.010883786892265107), (1609, 0.0), (1610, 0.0), (1611, 0.0), (1612, 0.010535684173309296), (1613, 0.004880020846286937), (1614, 0.02515300425967256), (1615, 0.0), (1616, 0.0025898807539927937), (1617, 0.007457386825230139), (1618, 0.02482058636921904), (1619, 0.016274988141541533), (1620, 0.014830086897519926), (1621, 0.01101011684029778), (1622, 0.0), (1623, 0.0), (1624, 0.002398192611703258), (1625, 0.00265006562568672), (1626, 0.08964850605450402), (1627, 0.0025192011675373026), (1628, 0.0026965789638123392), (1629, 0.037867422999943515), (1630, 0.01670413115776025), (1631, 0.0), (1632, 0.004498267571710636), (1633, 0.1125210420529762), (1634, 0.0029209289620116888), (1635, 0.0), (1636, 0.004833916675960141), (1637, 0.003161236354815497), (1638, 0.0), (1639, 0.0), (1640, 0.005067260870472939), (1641, 0.0027329031657176393), (1642, 0.03897458799319843), (1643, 0.00801956225310274), (1644, 0.0076244887593279785), (1645, 0.007379456804724294), (1646, 0.014388707368754802), (1647, 0.007215429817156041), (1648, 0.00920815620702634), (1649, 0.0), (1650, 0.01851174689314452), (1651, 0.0), (1652, 0.0), (1653, 0.024887875079508837), (1654, 0.014572165873226215), (1655, 0.012869976029498034), (1656, 0.003378818243841107), (1657, 0.0), (1658, 0.011713723783973668), (1659, 0.09240720715522135), (1660, 0.007981175542070227), (1661, 0.0), (1662, 0.01148687019660272), (1663, 0.0027763792669073784), (1664, 0.00722927405952267), (1665, 0.010457129340310282), (1666, 0.01215945608884192), (1667, 0.08271323979083084), (1668, 0.009034416505225967), (1669, 0.005772666314574949), (1670, 0.0031018483441134924), (1671, 0.07868016532540456), (1672, 0.0026978905690753043), (1673, 0.0), (1674, 0.008968345766726084), (1675, 0.015506961278494909), (1676, 0.0), (1677, 0.0023185946838100873), (1678, 0.0488460216148023), (1679, 0.010166811971716015), (1680, 0.11197902249272162), (1681, 0.014176830746928012), (1682, 0.021494365150821336), (1683, 0.0031536608018453705), (1684, 0.006686272629016321), (1685, 0.011194029504336608), (1686, 0.01828254826328461), (1687, 0.016815933380898117), (1688, 0.02035695717907285), (1689, 0.009844641244960612), (1690, 0.03262729372235309), (1691, 0.010520969341500817), (1692, 0.012194412296547578), (1693, 0.04710481122047371), (1694, 0.007299446287832327), (1695, 0.00997564324234893), (1696, 0.03340603118588512), (1697, 0.0), (1698, 0.016209924076155697), (1699, 0.0), (1700, 0.008942530370945077), (1701, 0.02084633794274747), (1702, 0.004876287332458398), (1703, 0.0030492372505649835), (1704, 0.004782465551371568), (1705, 0.008803724992751541), (1706, 0.0029739378420199853), (1707, 0.02911176270679068), (1708, 0.011363675417412691), (1709, 0.013194669353228024), (1710, 0.03673860976265316), (1711, 0.003695725493748634), (1712, 0.011309179504924544), (1713, 0.008667618565771841), (1714, 0.01824700489334581), (1715, 0.006836352355661955), (1716, 0.017786959509758733), (1717, 0.003035184225133715), (1718, 0.012918619385879784), (1719, 0.00689390508590571), (1720, 0.0), (1721, 0.02967158444277266), (1722, 0.002976046677909863), (1723, 0.02835761624618755), (1724, 0.0), (1725, 0.005186719337504788), (1726, 0.004814379148844602), (1727, 0.011612145885695892), (1728, 0.0), (1729, 0.0), (1730, 0.029700346620390474), (1731, 0.0), (1732, 0.01911305520488435), (1733, 0.008375545903718511), (1734, 0.0), (1735, 0.05335538321438243), (1736, 0.011691809644686257), (1737, 0.058514565775309085), (1738, 0.012258642255009325), (1739, 0.010042115347821411), (1740, 0.02963531244999243), (1741, 0.0), (1742, 0.007222642476178688), (1743, 0.03481819766042557), (1744, 0.002811471458648279), (1745, 0.0), (1746, 0.015881147537879323), (1747, 0.008233800455947791), (1748, 0.0034504436655130957), (1749, 0.0), (1750, 0.0), (1751, 0.004746762229907405), (1752, 0.0), (1753, 0.0), (1754, 0.012303072481785275), (1755, 0.008928970596437777), (1756, 0.02128788441412508), (1757, 0.0), (1758, 0.005425186463552961), (1759, 0.07750236883054056), (1760, 0.002724780828986303), (1761, 0.00780041681522466), (1762, 0.033247702738238696), (1763, 0.0025237338346918146), (1764, 0.017304563922976572), (1765, 0.0030480746250437954), (1766, 0.0), (1767, 0.0), (1768, 0.007853677536084548), (1769, 0.0), (1770, 0.008207635059695425), (1771, 0.0), (1772, 0.004071221433538833), (1773, 0.024999566395101206), (1774, 0.028010147607923752), (1775, 0.018659895726181593), (1776, 0.0098358603524347), (1777, 0.0), (1778, 0.07756258362121725), (1779, 0.011264387504213479), (1780, 0.0019224999570373684), (1781, 0.014979135908302984), (1782, 0.0069864586289767), (1783, 0.0), (1784, 0.0042602145190607475), (1785, 0.0), (1786, 0.0), (1787, 0.023346357183261324), (1788, 0.04635797187539502), (1789, 0.0075917210853033105), (1790, 0.009099384317430322), (1791, 0.0), (1792, 0.0034633509348609573), (1793, 0.0466237151193848), (1794, 0.004292984662408564), (1795, 0.016169832622954655), (1796, 0.010190185154799665), (1797, 0.007207633477655171), (1798, 0.0163948687759476), (1799, 0.01863706181922705), (1800, 0.0), (1801, 0.06187868751696884), (1802, 0.12201526517219288), (1803, 0.0), (1804, 0.004705863497825125), (1805, 0.028827987425633153), (1806, 0.02849881659696396), (1807, 0.0149798049679562), (1808, 0.006850647721734897), (1809, 0.01113846389679004), (1810, 0.0), (1811, 0.0029233965481237786), (1812, 0.10165462520981605), (1813, 0.0028611790417743047), (1814, 0.0027135468492432515), (1815, 0.009516957438949628), (1816, 0.07540248966879465), (1817, 0.008420743656560797), (1818, 0.016125116230630947), (1819, 0.0027456315154554584), (1820, 0.0), (1821, 0.011719819841552879), (1822, 0.0031110175541495923), (1823, 0.03313886126839183), (1824, 0.09300059068477093), (1825, 0.026082002457159636), (1826, 0.0026649475890645085), (1827, 0.0026650055317899825), (1828, 0.036336250846360545), (1829, 0.0), (1830, 0.0026113151741390906), (1831, 0.0029139418196552965), (1832, 0.032409918719518066), (1833, 0.009059709090762477), (1834, 0.0), (1835, 0.0), (1836, 0.0), (1837, 0.0), (1838, 0.05193246525782433), (1839, 0.0), (1840, 0.021392752748143385), (1841, 0.012818669662379361), (1842, 0.0), (1843, 0.020657756246691878), (1844, 0.0), (1845, 0.04295647330800449), (1846, 0.0), (1847, 0.00848828725961506), (1848, 0.0031725213069355445), (1849, 0.007514439332035242), (1850, 0.004046658653117231), (1851, 0.007952553954479268), (1852, 0.01215380453569584), (1853, 0.011821666834396805), (1854, 0.010663273105761269), (1855, 0.0), (1856, 0.0), (1857, 0.0046187211495058444), (1858, 0.017746676024995148), (1859, 0.03908977287009715), (1860, 0.010880845533879125), (1861, 0.008465594664953658), (1862, 0.003300627621159518), (1863, 0.006592287038258147), (1864, 0.010176252884535376), (1865, 0.0026735845537841003), (1866, 0.00321800219449831), (1867, 0.007538406762714899), (1868, 0.0), (1869, 0.0026683005600940724), (1870, 0.013644645083339839), (1871, 0.0023456403105181368), (1872, 0.0029807533584610014), (1873, 0.0076406724686285555), (1874, 0.012069890905988001), (1875, 0.014024109688939208), (1876, 0.010640993952293175), (1877, 0.007289186814993198), (1878, 0.002798242357756171), (1879, 0.0), (1880, 0.0), (1881, 0.004907150113098801), (1882, 0.0028875249302710974), (1883, 0.0), (1884, 0.002754559038429697), (1885, 0.0034531103632242798), (1886, 0.006071420030230797), (1887, 0.008656485005959533), (1888, 0.004608727822231985), (1889, 0.0), (1890, 0.0032701287378877797), (1891, 0.02912602457569891), (1892, 0.0026760983522031334), (1893, 0.008056768433727492), (1894, 0.0), (1895, 0.004419598451438372), (1896, 0.008103574537960602), (1897, 0.011471533304066306), (1898, 0.0), (1899, 0.056178508661490045), (1900, 0.0), (1901, 0.0), (1902, 0.0030977039803846236), (1903, 0.05570327982464586), (1904, 0.0), (1905, 0.0032130149504081993), (1906, 0.0), (1907, 0.03667572057043636), (1908, 0.012390241132918051), (1909, 0.0033450611276721943), (1910, 0.0039634837049409), (1911, 0.007926771019336315), (1912, 0.0), (1913, 0.007532691429821571), (1914, 0.004409297209415339), (1915, 0.05383243549414003), (1916, 0.003105635390945662), (1917, 0.0), (1918, 0.003112957303752796), (1919, 0.05679392694967361), (1920, 0.009782608116023663), (1921, 0.0026338218128252404), (1922, 0.04607348924562904), (1923, 0.01240363268514134), (1924, 0.003366888118173905), (1925, 0.012286823060026365), (1926, 0.0), (1927, 0.0), (1928, 0.005304059164946601), (1929, 0.0028095333042855958), (1930, 0.0), (1931, 0.003011099304456292), (1932, 0.03998542431518932), (1933, 0.0), (1934, 0.05161188494554648), (1935, 0.011187200978985352), (1936, 0.010813432883418888), (1937, 0.016151005397385464), (1938, 0.0), (1939, 0.02919266226449336), (1940, 0.0), (1941, 0.05651940557398143), (1942, 0.019128627140309606), (1943, 0.00256516858187428), (1944, 0.0), (1945, 0.01597483564379923), (1946, 0.003028406906476502), (1947, 0.003421185938375235), (1948, 0.020105080899177098), (1949, 0.008523258916575037), (1950, 0.012474289589098287), (1951, 0.016203058804345073), (1952, 0.005052075402463435), (1953, 0.07592785450635486), (1954, 0.06199703910570512), (1955, 0.0), (1956, 0.0953293737747164), (1957, 0.02070839044442993), (1958, 0.008391722838268632), (1959, 0.0031879307195526265), (1960, 0.003262999887858199), (1961, 0.004833232269635889), (1962, 0.0), (1963, 0.0), (1964, 0.011146100256034033), (1965, 0.0), (1966, 0.0), (1967, 0.036529571683977066), (1968, 0.008970666314180347), (1969, 0.007371754897940239), (1970, 0.10440149719059723), (1971, 0.013442979741089586), (1972, 0.0), (1973, 0.012147439650826267), (1974, 0.0), (1975, 0.0), (1976, 0.0), (1977, 0.0026239521394894974), (1978, 0.03166313867488709), (1979, 0.0), (1980, 0.002643336293263389), (1981, 0.010783774853564335), (1982, 0.012891826863196275), (1983, 0.011631760957090393), (1984, 0.004312112628698818), (1985, 0.1189730075568817), (1986, 0.020319568430742133), (1987, 0.016159832926192736), (1988, 0.018912799080489998), (1989, 0.00897036165724156), (1990, 0.004274336432546817), (1991, 0.0), (1992, 0.007680680460609145), (1993, 0.0), (1994, 0.017757685147192323), (1995, 0.0031689603008468506), (1996, 0.0), (1997, 0.03126096195653841), (1998, 0.06543961496468255), (1999, 0.0), (2000, 0.025730090604165715), (2001, 0.0), (2002, 0.0), (2003, 0.004532558403961869), (2004, 0.002769891870010987), (2005, 0.022164536193950597), (2006, 0.0), (2007, 0.0), (2008, 0.0102891982775541), (2009, 0.0), (2010, 0.01644973011995526), (2011, 0.00962061117919719), (2012, 0.005395468334365657), (2013, 0.013557718060862978), (2014, 0.009332549123313357), (2015, 0.0048989655378448), (2016, 0.03502943033168848), (2017, 0.009576074311085533), (2018, 0.0), (2019, 0.034236128739898855), (2020, 0.010512925191035007), (2021, 0.0), (2022, 0.04800667562080986), (2023, 0.022677381849572215), (2024, 0.010694866450809255), (2025, 0.0), (2026, 0.04669175369203165), (2027, 0.022094311975060822), (2028, 0.0), (2029, 0.01548411553884857), (2030, 0.0), (2031, 0.015360311813454102), (2032, 0.0447780770195709), (2033, 0.0), (2034, 0.0024280333484741064), (2035, 0.0024966446704627805), (2036, 0.00854163947744469), (2037, 0.059544972576251895), (2038, 0.0), (2039, 0.0024789994474527293), (2040, 0.020771313855114368), (2041, 0.0), (2042, 0.0), (2043, 0.012745527445718326), (2044, 0.0), (2045, 0.01552044744249793), (2046, 0.004685775047076586), (2047, 0.010895890570517281), (2048, 0.0030333139804751504), (2049, 0.011664105388898477), (2050, 0.0), (2051, 0.01202082502217619), (2052, 0.014237250736339902), (2053, 0.016374269819566866), (2054, 0.054735131761460276), (2055, 0.02821059491262345), (2056, 0.011876590368171784), (2057, 0.06641403342260428), (2058, 0.015355868296030976), (2059, 0.046107835001370605), (2060, 0.0029171709307149506), (2061, 0.012488789947889767), (2062, 0.016476732960886697), (2063, 0.0), (2064, 0.005622254813501099), (2065, 0.018464077674036246), (2066, 0.009248634299272937), (2067, 0.0029648151028831126), (2068, 0.0028004310462894774), (2069, 0.024508087725804498), (2070, 0.020094820293029506), (2071, 0.008729307505705431), (2072, 0.08876506746443937), (2073, 0.0030035817863634296), (2074, 0.01502228815379552), (2075, 0.003861580345158699), (2076, 0.013376383090880229), (2077, 0.010026448457126146), (2078, 0.0037312806898766164), (2079, 0.005355770220631182), (2080, 0.010790741710559628), (2081, 0.0), (2082, 0.037595914029656424), (2083, 0.003084180052691098), (2084, 0.02852776384162619), (2085, 0.0), (2086, 0.0049968405463471), (2087, 0.010348193934809805), (2088, 0.0030876921811815792), (2089, 0.003462968696351227), (2090, 0.0), (2091, 0.002988115682684142), (2092, 0.039557593125020975), (2093, 0.01520712294712103), (2094, 0.011662879901250983), (2095, 0.007371856005539051), (2096, 0.02004004239145815), (2097, 0.012153509960200608), (2098, 0.006529267818677854), (2099, 0.002754588450006359), (2100, 0.0), (2101, 0.008353028106043487), (2102, 0.012054268242859786), (2103, 0.014870599000645295), (2104, 0.0031474063095231334), (2105, 0.0031382220205612007), (2106, 0.0), (2107, 0.0), (2108, 0.003271052591265915), (2109, 0.015394436422794408), (2110, 0.09585437843051291), (2111, 0.002886802452090291), (2112, 0.025929940407145812), (2113, 0.005973171391172127), (2114, 0.045697019137557277), (2115, 0.06733071664410359), (2116, 0.035160126925981305), (2117, 0.0028268941272028484), (2118, 0.027930196738317734), (2119, 0.014707641868494874), (2120, 0.0), (2121, 0.01007252696776716), (2122, 0.0029751680208028085), (2123, 0.027387160370534302), (2124, 0.019164904044597336), (2125, 0.0), (2126, 0.016356302993282997), (2127, 0.006412658382989679), (2128, 0.004613552213242719), (2129, 0.002730797813340854), (2130, 0.0), (2131, 0.007338058318353394), (2132, 0.0024620989542809037), (2133, 0.002787525474698112), (2134, 0.023299179152266827), (2135, 0.0), (2136, 0.0), (2137, 0.004176992645340398), (2138, 0.02493133142958487), (2139, 0.004403254652705599), (2140, 0.03187270034954378), (2141, 0.0028168805752235068), (2142, 0.0034371561426494142), (2143, 0.01460130688754237), (2144, 0.010672161279938724), (2145, 0.021891755168318126), (2146, 0.0025185713958093977), (2147, 0.004979848381285497), (2148, 0.003054647713122264), (2149, 0.00275361055263079), (2150, 0.0), (2151, 0.0031421567527631215), (2152, 0.015207104719754855), (2153, 0.0), (2154, 0.04698895957939796), (2155, 0.010765164819343344), (2156, 0.0319110467412078), (2157, 0.002478101282089455), (2158, 0.00958572423266558), (2159, 0.003249757805563725), (2160, 0.040132985596524805), (2161, 0.012532520230189104), (2162, 0.011993572614096157), (2163, 0.031054167541473263), (2164, 0.0), (2165, 0.0), (2166, 0.04033378995256793), (2167, 0.030154184082052143), (2168, 0.01882354162460571), (2169, 0.007688097003420511), (2170, 0.0), (2171, 0.08489144799786136), (2172, 0.0), (2173, 0.0029020464547783935), (2174, 0.018636422204506793), (2175, 0.020045599608137565), (2176, 0.0032533555774105476), (2177, 0.00806680961064204), (2178, 0.012560188304630876), (2179, 0.0), (2180, 0.005362972934500785), (2181, 0.0), (2182, 0.0), (2183, 0.0), (2184, 0.007722873736887302), (2185, 0.00683813853818343), (2186, 0.0), (2187, 0.0033823545619190926), (2188, 0.003596693203790734), (2189, 0.004136943376181086), (2190, 0.003176695801674039), (2191, 0.0026430202604154573), (2192, 0.002967885155459193), (2193, 0.015410760032371873), (2194, 0.0), (2195, 0.0076185785679005105), (2196, 0.01181061004383652), (2197, 0.04326132143287101), (2198, 0.012348222891453507), (2199, 0.0038362921885927207), (2200, 0.022478793269578322), (2201, 0.0027415249803189826), (2202, 0.0071910341343996076), (2203, 0.006984618026338136), (2204, 0.003977119379067044), (2205, 0.007144929939810695), (2206, 0.007858321205557453), (2207, 0.0), (2208, 0.03653673589849185), (2209, 0.011778882977105642), (2210, 0.024484307805486882), (2211, 0.012796494133338044), (2212, 0.011144251103217442), (2213, 0.031035937246415457), (2214, 0.01214321673054235), (2215, 0.008807395611218256), (2216, 0.010945692966095866), (2217, 0.0), (2218, 0.005215818349496903), (2219, 0.01735192573368196), (2220, 0.0), (2221, 0.0378088692196656), (2222, 0.03132298939975132), (2223, 0.003350871332984395), (2224, 0.01950166877532456), (2225, 0.0), (2226, 0.0028817411257248673), (2227, 0.03655690701386236), (2228, 0.01064058793477735), (2229, 0.012205261674730714), (2230, 0.003026624688745942), (2231, 0.0), (2232, 0.0), (2233, 0.029288318725903678), (2234, 0.048500379190099835), (2235, 0.008447980749322381), (2236, 0.0692857506787864), (2237, 0.01081968139720804), (2238, 0.0), (2239, 0.02117506617553304), (2240, 0.0025862241117356323), (2241, 0.05833152820468394), (2242, 0.002801206239065175), (2243, 0.0), (2244, 0.008394996897963391), (2245, 0.004531486871846673), (2246, 0.004682807851335971), (2247, 0.0), (2248, 0.0026495022031277505), (2249, 0.024588706478168458), (2250, 0.042202649416248975), (2251, 0.00410050023485201), (2252, 0.05329095159135511), (2253, 0.14323940652247125), (2254, 0.04673107269729746), (2255, 0.003802249704004558), (2256, 0.0), (2257, 0.0037943348680993167), (2258, 0.0), (2259, 0.0048772848849048785), (2260, 0.0031526356738127725), (2261, 0.020728566833693056), (2262, 0.004226730067832513), (2263, 0.005035352238140641), (2264, 0.009922179131671564), (2265, 0.025839372884733747), (2266, 0.003628816928015769), (2267, 0.0), (2268, 0.007377318023120758), (2269, 0.003420441638939748), (2270, 0.0025463438672167853), (2271, 0.0), (2272, 0.0), (2273, 0.0), (2274, 0.0), (2275, 0.011133492148618213), (2276, 0.024730395498738317), (2277, 0.015480871644635397), (2278, 0.004759648655460704), (2279, 0.010881951894565187), (2280, 0.008144088906164238), (2281, 0.029183290813809923), (2282, 0.0), (2283, 0.004999746217546242), (2284, 0.011228721725510957), (2285, 0.017963545343645), (2286, 0.0037662668173544553), (2287, 0.010287078989924762), (2288, 0.0031172575727433384), (2289, 0.0029266883250633237), (2290, 0.0), (2291, 0.010559045617148488), (2292, 0.0030015965505010705), (2293, 0.003212397244664494), (2294, 0.017241597766375315), (2295, 0.011346029618731053), (2296, 0.003941117491224819), (2297, 0.0), (2298, 0.0), (2299, 0.004712725298769172), (2300, 0.0), (2301, 0.03222622531191659), (2302, 0.0033473833480611157), (2303, 0.014403394064943467), (2304, 0.009185829714185745), (2305, 0.0), (2306, 0.01338601620713457), (2307, 0.0), (2308, 0.0), (2309, 0.010106796832985428), (2310, 0.003940344919718052), (2311, 0.004413331436599774), (2312, 0.0), (2313, 0.002992101614592003), (2314, 0.0), (2315, 0.0), (2316, 0.008806073573730725), (2317, 0.0070678729150529555), (2318, 0.07369288145280681), (2319, 0.003061572572761451), (2320, 0.014334304304120827), (2321, 0.03563119054820631), (2322, 0.00457011432730595), (2323, 0.0026595295050989205), (2324, 0.007604872699942593), (2325, 0.0), (2326, 0.022146551296250695), (2327, 0.004374208769273799), (2328, 0.0), (2329, 0.03841442284277949), (2330, 0.004960442757118104), (2331, 0.0), (2332, 0.0), (2333, 0.0), (2334, 0.01632434998166591), (2335, 0.05534012402882263), (2336, 0.00817522086362887), (2337, 0.0), (2338, 0.011140245801673856), (2339, 0.013998120267994312), (2340, 0.0029543971177559934), (2341, 0.0), (2342, 0.0), (2343, 0.0), (2344, 0.002953222100964978), (2345, 0.0), (2346, 0.012698441145195282), (2347, 0.002709173689041299), (2348, 0.002775923784491395), (2349, 0.004080518369276905), (2350, 0.0037870042913044537), (2351, 0.005600010922610207), (2352, 0.0), (2353, 0.0), (2354, 0.0029500345609566555), (2355, 0.002456980918117494), (2356, 0.0032945251240170345), (2357, 0.0), (2358, 0.0), (2359, 0.060883970871002314), (2360, 0.01580444229339946), (2361, 0.00312598595652823), (2362, 0.0027015009944067153), (2363, 0.015957791457740657), (2364, 0.0), (2365, 0.0), (2366, 0.0), (2367, 0.01180294037991573), (2368, 0.0), (2369, 0.0), (2370, 0.0030703687138031155), (2371, 0.0), (2372, 0.0), (2373, 0.0), (2374, 0.0029867726949236776), (2375, 0.003237672906490883), (2376, 0.028859873528618803), (2377, 0.0037242957653107153), (2378, 0.024513732565411808), (2379, 0.030061567717989887), (2380, 0.0), (2381, 0.0), (2382, 0.002524549426869179), (2383, 0.009141285274961636), (2384, 0.0), (2385, 0.04366214279167253), (2386, 0.003013059869302155), (2387, 0.002940687571365769), (2388, 0.007236362587023118), (2389, 0.0), (2390, 0.003230759413716411), (2391, 0.0031476568118822016), (2392, 0.0038479659494331745), (2393, 0.022229263072480663), (2394, 0.0031053648001404554), (2395, 0.02473667648674272), (2396, 0.041831396677985994), (2397, 0.0029972880228113286), (2398, 0.0035421649569739267), (2399, 0.002720400012873167), (2400, 0.0033333222128322927), (2401, 0.0028641838628434605), (2402, 0.0026689558841922153), (2403, 0.012194287332477871), (2404, 0.0040084675944250855), (2405, 0.003065163168753992), (2406, 0.013118717314125701), (2407, 0.004073797451364046), (2408, 0.0), (2409, 0.004468406471218728), (2410, 0.0032330529909744194), (2411, 0.003337107318271715), (2412, 0.02191888532819271), (2413, 0.0), (2414, 0.004729223633776565), (2415, 0.003576094823860747), (2416, 0.007528537433902911), (2417, 0.012387861410620904), (2418, 0.016188046885730733), (2419, 0.0030962259977550064), (2420, 0.0), (2421, 0.012557447244955515), (2422, 0.011969086496347196), (2423, 0.0037140708077346503), (2424, 0.05464586157163005), (2425, 0.0038195439278354113), (2426, 0.022998600358357775), (2427, 0.014322555574696267), (2428, 0.003252373122027925), (2429, 0.10320496699907808), (2430, 0.012510087459887522), (2431, 0.0048286280038514285), (2432, 0.004522240784122172), (2433, 0.0), (2434, 0.0035231992343962523), (2435, 0.0), (2436, 0.01706882523428587), (2437, 0.0033450973271108276), (2438, 0.0036504139074193245), (2439, 0.006266894043301962), (2440, 0.0059859431237747765), (2441, 0.0023864854519912598), (2442, 0.0), (2443, 0.020055686185603595), (2444, 0.04833504680330407), (2445, 0.0), (2446, 0.007094809198735646), (2447, 0.09443590290627403), (2448, 0.003848824000598673), (2449, 0.0), (2450, 0.0), (2451, 0.0), (2452, 0.0), (2453, 0.02292589971088005), (2454, 0.02515280079880118), (2455, 0.0), (2456, 0.0), (2457, 0.002651035228202945), (2458, 0.0051127978313700055), (2459, 0.0035870975315236975), (2460, 0.0), (2461, 0.002857460423316995), (2462, 0.0), (2463, 0.015011568424693075), (2464, 0.012248822551602026), (2465, 0.0), (2466, 0.0030266247289712665), (2467, 0.0028433635825732616), (2468, 0.009605903407398041), (2469, 0.008283663049340587), (2470, 0.005298826853065145), (2471, 0.0), (2472, 0.01793962173817799), (2473, 0.010076264705326077), (2474, 0.02477205737129738), (2475, 0.003169341471727366), (2476, 0.03919789315426851), (2477, 0.0031841119252457493), (2478, 0.0033831795161033337), (2479, 0.0), (2480, 0.01221881218275522), (2481, 0.047782048724343586), (2482, 0.007041006859933379), (2483, 0.0), (2484, 0.0039404691976431955), (2485, 0.015751863086571637), (2486, 0.014743218194236473), (2487, 0.03748648150272616), (2488, 0.0036016758248688377), (2489, 0.011381755692139166), (2490, 0.03002253276341359), (2491, 0.004325603716805075), (2492, 0.012407515297055503), (2493, 0.0), (2494, 0.016465176019426896), (2495, 0.002946835803609359), (2496, 0.002756050588103209), (2497, 0.00433305590128967), (2498, 0.009242644044560858), (2499, 0.0), (2500, 0.0), (2501, 0.00471418864963188), (2502, 0.0026001955440731884), (2503, 0.012221501898736019), (2504, 0.004580685319875474), (2505, 0.011750058232878665), (2506, 0.0), (2507, 0.00320142741347624), (2508, 0.0), (2509, 0.010132790003949888), (2510, 0.05009996739996231), (2511, 0.004862998236958912), (2512, 0.04436812079055715), (2513, 0.03429196556117108), (2514, 0.0042150402390806595), (2515, 0.0), (2516, 0.0), (2517, 0.007256207886666412), (2518, 0.005296386938917003), (2519, 0.008480301492845047), (2520, 0.002554784495533817), (2521, 0.0), (2522, 0.011903040583293), (2523, 0.0), (2524, 0.1304530453478432), (2525, 0.007192952854284517), (2526, 0.006249939441213199), (2527, 0.0025347274528562226), (2528, 0.0027368305248378906), (2529, 0.004278035395217948), (2530, 0.0037457353577712666), (2531, 0.007960919583269659), (2532, 0.005296539364688934), (2533, 0.002964112077626956), (2534, 0.03663610022607576), (2535, 0.0032664081530440962), (2536, 0.0), (2537, 0.004042841068844329), (2538, 0.0017633381057188056), (2539, 0.0), (2540, 0.002808810719085808), (2541, 0.0), (2542, 0.06402315909189447), (2543, 0.0), (2544, 0.0), (2545, 0.011022942913766761), (2546, 0.0165106037037527), (2547, 0.006178133538789266), (2548, 0.0), (2549, 0.02596222226849584), (2550, 0.021944869044483242), (2551, 0.0), (2552, 0.07327408388997904), (2553, 0.012020960091538045), (2554, 0.0029730538612518062), (2555, 0.006702659025439825), (2556, 0.0027327222785511946), (2557, 0.003655071470795774), (2558, 0.0348075515947378), (2559, 0.003874157242917483), (2560, 0.008767077238593976), (2561, 0.0030746382330459434), (2562, 0.02636504501538306), (2563, 0.01263052636644258), (2564, 0.0), (2565, 0.0112235656008983), (2566, 0.0), (2567, 0.0), (2568, 0.018677968519377218), (2569, 0.002912083343874802), (2570, 0.0034686407693720754), (2571, 0.00738011840918899), (2572, 0.010022347462959037), (2573, 0.0), (2574, 0.0), (2575, 0.0), (2576, 0.0), (2577, 0.0), (2578, 0.0), (2579, 0.003303398578752446), (2580, 0.0026318582663019847), (2581, 0.016136334692550165), (2582, 0.03293402456412709), (2583, 0.0), (2584, 0.012977872914616842), (2585, 0.00328075634163037), (2586, 0.0), (2587, 0.013552652208103911), (2588, 0.0), (2589, 0.0), (2590, 0.0), (2591, 0.0026439985102125205), (2592, 0.0032626253665344177), (2593, 0.0027190491154822074), (2594, 0.0), (2595, 0.003196508082368021), (2596, 0.0), (2597, 0.0), (2598, 0.0027882748022844245), (2599, 0.0), (2600, 0.010372323459166359), (2601, 0.033974799428643856), (2602, 0.009267026586034843), (2603, 0.012826486652642816), (2604, 0.0), (2605, 0.0), (2606, 0.0355705192307155), (2607, 0.01685270968905114), (2608, 0.14878376762366352), (2609, 0.008147624530670135), (2610, 0.008072747010118411), (2611, 0.0065533360248457885), (2612, 0.007377387234444163), (2613, 0.024539449081917897), (2614, 0.006400016518823603), (2615, 0.004358195570345001), (2616, 0.009174495027370203), (2617, 0.03793269526876657), (2618, 0.0), (2619, 0.0035490392856045425), (2620, 0.0), (2621, 0.01635766169271101), (2622, 0.003980434623404854), (2623, 0.0033363315233550218), (2624, 0.003224760119351009), (2625, 0.029002289041392085), (2626, 0.0), (2627, 0.0039482588963999), (2628, 0.0038579974552260103), (2629, 0.0033454389414185326), (2630, 0.06418225226789348), (2631, 0.004455405516850712), (2632, 0.07833925112079676), (2633, 0.016032935021728787), (2634, 0.002753717212101376), (2635, 0.009633175779763593), (2636, 0.02224948354854181), (2637, 0.005037136633436003), (2638, 0.026693049629059544), (2639, 0.0), (2640, 0.015979086132477574), (2641, 0.0), (2642, 0.007359577595767318), (2643, 0.0038114909092669454), (2644, 0.0), (2645, 0.020411176711994702), (2646, 0.0), (2647, 0.00773671224463994), (2648, 0.0), (2649, 0.027388907437989538), (2650, 0.0030619524296930677), (2651, 0.0027883012715083423), (2652, 0.0029794103280709893), (2653, 0.010209764156432637), (2654, 0.004275733477470567), (2655, 0.0039055618773157835), (2656, 0.011847231400943521), (2657, 0.0), (2658, 0.0), (2659, 0.0), (2660, 0.020301895907843377), (2661, 0.0031637150905020946), (2662, 0.02825199767984721), (2663, 0.0), (2664, 0.0031419041406274945), (2665, 0.01401159449670139), (2666, 0.004312871660480279), (2667, 0.0), (2668, 0.10928154038397028), (2669, 0.0), (2670, 0.01914140370409669), (2671, 0.01882736508910037), (2672, 0.00525856192180959), (2673, 0.010161574711600134), (2674, 0.0027128762758988558), (2675, 0.004918195957830525), (2676, 0.0), (2677, 0.0), (2678, 0.004799664877260294), (2679, 0.002788742689923902), (2680, 0.01631116294254505), (2681, 0.0), (2682, 0.07037187264129818), (2683, 0.0), (2684, 0.0), (2685, 0.0), (2686, 0.0), (2687, 0.0028994769160232857), (2688, 0.013097373118190852), (2689, 0.028291503789913314), (2690, 0.03373473344946932), (2691, 0.012822454392522161), (2692, 0.016326637209159098), (2693, 0.0560533860352609), (2694, 0.003925695558589873), (2695, 0.01118223978800422), (2696, 0.0332238233285994), (2697, 0.009143169221603149), (2698, 0.03631124682254842), (2699, 0.04387090826801253), (2700, 0.0), (2701, 0.06232259715748517), (2702, 0.003368321986242365), (2703, 0.0), (2704, 0.0), (2705, 0.003191058888594949), (2706, 0.03152007826823243), (2707, 0.0034588832251062768), (2708, 0.007780433866018297), (2709, 0.0), (2710, 0.0), (2711, 0.0), (2712, 0.02447279789305403), (2713, 0.026145497394883137), (2714, 0.0031190171025533343), (2715, 0.0), (2716, 0.0028387030734018876), (2717, 0.0), (2718, 0.0), (2719, 0.004978887477306496), (2720, 0.038995813480360575), (2721, 0.002560775495266276), (2722, 0.004137218731606227), (2723, 0.07710282566400332), (2724, 0.010956713961698445), (2725, 0.09161389341415871), (2726, 0.044564643821432146), (2727, 0.06120124064151383), (2728, 0.002682526231782669), (2729, 0.051092751000140615), (2730, 0.005764449250444335), (2731, 0.003955914051741383), (2732, 0.01735423108951443), (2733, 0.0), (2734, 0.0343348561663989), (2735, 0.002721051904563262), (2736, 0.0), (2737, 0.0), (2738, 0.009014494326466848), (2739, 0.01740504600878434), (2740, 0.017195103723044315), (2741, 0.0026535321375277254), (2742, 0.014720163646855218), (2743, 0.002526731802729809), (2744, 0.010965264614364013), (2745, 0.002974683088483081), (2746, 0.002996512300751841), (2747, 0.002553631593670009), (2748, 0.003204720071036006), (2749, 0.004269841352405926), (2750, 0.0), (2751, 0.035894528885018685), (2752, 0.010682088430149738), (2753, 0.002596281664239416), (2754, 0.0), (2755, 0.008077278892095245), (2756, 0.0), (2757, 0.0045107511473517995), (2758, 0.0025029437196176486), (2759, 0.007437826994087082), (2760, 0.0022620143126598326), (2761, 0.006573431394598549), (2762, 0.0), (2763, 0.009163668820064006), (2764, 0.004198700802660745), (2765, 0.011720481425898798), (2766, 0.023973554721056653), (2767, 0.0022992438720243033), (2768, 0.015875879516934074), (2769, 0.012488120046451471), (2770, 0.0), (2771, 0.009476768656058935), (2772, 0.00349105858701769), (2773, 0.0), (2774, 0.009848459397148273), (2775, 0.004000865105163986), (2776, 0.003174090686042455), (2777, 0.029345297532087505), (2778, 0.0035635536779393354), (2779, 0.0028133468327588185), (2780, 0.008512572612857467), (2781, 0.0), (2782, 0.0032806027524892737), (2783, 0.002965873216015328), (2784, 0.03869438303529816), (2785, 0.005371651115379742), (2786, 0.0031560107795828695), (2787, 0.0), (2788, 0.013146227646069132), (2789, 0.010244524000461684), (2790, 0.00493285945623376), (2791, 0.016145274491614035), (2792, 0.027038753316753247), (2793, 0.009410965320524194), (2794, 0.026537706559852114), (2795, 0.014104314646722294), (2796, 0.003372675772663138), (2797, 0.030531419962297593), (2798, 0.020272276529126405), (2799, 0.0), (2800, 0.0027843618188990527), (2801, 0.004024592661078641), (2802, 0.040535282658731506), (2803, 0.00962842969380865), (2804, 0.070756245109365), (2805, 0.004102614342591666), (2806, 0.0), (2807, 0.004602651420148367), (2808, 0.05616776772331185), (2809, 0.011142464607023183), (2810, 0.0), (2811, 0.035458496514388815), (2812, 0.014392501827797662), (2813, 0.02262264196508431), (2814, 0.03176485396170883), (2815, 0.016539761495480334), (2816, 0.012752397944082294), (2817, 0.005002710531409323), (2818, 0.03161245191571006), (2819, 0.0), (2820, 0.006676432195081841), (2821, 0.003128660468592048), (2822, 0.0), (2823, 0.0), (2824, 0.0), (2825, 0.029852220567633828), (2826, 0.0029628329291109348), (2827, 0.0), (2828, 0.021262524141058142), (2829, 0.004494950104963442), (2830, 0.0032799382856427035), (2831, 0.010592369673014593), (2832, 0.0038676228803460554), (2833, 0.007328201124822786), (2834, 0.031662876500575865), (2835, 0.0), (2836, 0.0), (2837, 0.0), (2838, 0.0037663218947436524), (2839, 0.02332563062298645), (2840, 0.008519593582970393), (2841, 0.009507735085569137), (2842, 0.004056314064411589), (2843, 0.06091505320185904), (2844, 0.04240535554534265), (2845, 0.002712541770507467), (2846, 0.003448407793261226), (2847, 0.0), (2848, 0.03229703722288255), (2849, 0.011807203520250067), (2850, 0.0), (2851, 0.0), (2852, 0.0), (2853, 0.002932330533376713), (2854, 0.008483533600091254), (2855, 0.0039786013156106834), (2856, 0.0), (2857, 0.0036378575867051467), (2858, 0.029524483887201462), (2859, 0.014478793036647715), (2860, 0.0), (2861, 0.0039063137856929575), (2862, 0.01149123002796561), (2863, 0.0030386827729501436), (2864, 0.0), (2865, 0.0), (2866, 0.0), (2867, 0.02058801726763628), (2868, 0.016850704035415096), (2869, 0.0), (2870, 0.00399514645566244), (2871, 0.03796203429764924), (2872, 0.003392387372268251), (2873, 0.01399816595314974), (2874, 0.035666371737333356), (2875, 0.0), (2876, 0.0024613681960739923), (2877, 0.0), (2878, 0.022889011599689067), (2879, 0.0035891055898782547), (2880, 0.060132654660882946), (2881, 0.023591291515666787), (2882, 0.00320249780732911), (2883, 0.003988129805211694), (2884, 0.003402077141504714), (2885, 0.0), (2886, 0.041047618737236384), (2887, 0.002986178203464437), (2888, 0.0031923982905324552), (2889, 0.004056982564095355), (2890, 0.003251986722703243), (2891, 0.0), (2892, 0.007250994517515949), (2893, 0.04243469176735473), (2894, 0.0030243084264683245), (2895, 0.003527587628811966), (2896, 0.0), (2897, 0.012334086655478672), (2898, 0.0), (2899, 0.0561824141878035), (2900, 0.007614428840271241), (2901, 0.0037838052963442602), (2902, 0.015319880893062663), (2903, 0.032579100864891), (2904, 0.0030653016552186782), (2905, 0.0), (2906, 0.00413045554205428), (2907, 0.002733243673275168), (2908, 0.0360865487968898), (2909, 0.0028742522701006184), (2910, 0.015517794495449412), (2911, 0.02656155643899611), (2912, 0.020169505222624833), (2913, 0.013486726973447084), (2914, 0.003332969946486076), (2915, 0.011505680896656961), (2916, 0.00330107534875292), (2917, 0.01434586407211996), (2918, 0.007920646968192939), (2919, 0.10889960012754966), (2920, 0.006989141958293241), (2921, 0.0), (2922, 0.0), (2923, 0.003970820325308482), (2924, 0.003417869044150179), (2925, 0.008967114693189133), (2926, 0.0030821172583001175), (2927, 0.0), (2928, 0.0), (2929, 0.1278245945199424), (2930, 0.0), (2931, 0.025495476028666107), (2932, 0.014766505120458016), (2933, 0.012969358197439058), (2934, 0.011249832992712079), (2935, 0.006779192932951461), (2936, 0.09162882032232637), (2937, 0.004231908314010446), (2938, 0.004392085521887389), (2939, 0.010239496859492643), (2940, 0.0081645704517984), (2941, 0.0), (2942, 0.013215061465403665), (2943, 0.0029365044039686293), (2944, 0.03402351191753937), (2945, 0.002884833129058968), (2946, 0.0029003218744994615), (2947, 0.0), (2948, 0.010706329998887902), (2949, 0.003148905617894766), (2950, 0.0), (2951, 0.010337352522208578), (2952, 0.0), (2953, 0.0031194352373817777), (2954, 0.03941249383812314), (2955, 0.0), (2956, 0.0), (2957, 0.0036054701117596713), (2958, 0.0), (2959, 0.0), (2960, 0.0), (2961, 0.042865022873525636), (2962, 0.016752611960624532), (2963, 0.04835986184658715), (2964, 0.016319441342661934), (2965, 0.0027995265349105634), (2966, 0.003582639321814669), (2967, 0.0), (2968, 0.019519549623832923), (2969, 0.01899710832355173), (2970, 0.00314128595503829), (2971, 0.007153490546765212), (2972, 0.002777927002267927), (2973, 0.035078961795246756), (2974, 0.003308795809797853), (2975, 0.017538676221927313), (2976, 0.0026400243226377238), (2977, 0.015636926195412564), (2978, 0.008939479038375832), (2979, 0.0), (2980, 0.01037649471242726), (2981, 0.05739314288826382), (2982, 0.0), (2983, 0.0), (2984, 0.03164902667516416), (2985, 0.060131687923297185), (2986, 0.0034859561254946244), (2987, 0.003402307905236394), (2988, 0.01091227957387491), (2989, 0.004106522615263759), (2990, 0.0), (2991, 0.0), (2992, 0.07744517632824911), (2993, 0.003554664926672299), (2994, 0.008274666927488832), (2995, 0.002793111911230914), (2996, 0.022617065731094406), (2997, 0.0027855507855365307), (2998, 0.004424359654754707), (2999, 0.0029303849317307835), (3000, 0.003017438958755878), (3001, 0.0), (3002, 0.0), (3003, 0.0032738482173834452), (3004, 0.003629918931763576), (3005, 0.0), (3006, 0.017937732711182704), (3007, 0.0031484124267430243), (3008, 0.008533406747133246), (3009, 0.0), (3010, 0.036608535858139765), (3011, 0.0045304395916379815), (3012, 0.012521533165507734), (3013, 0.03224120596422134), (3014, 0.0027821412828216434), (3015, 0.003734537155611543), (3016, 0.07564103726233609), (3017, 0.0), (3018, 0.013485380367594085), (3019, 0.013001489420582126), (3020, 0.04542711272860557), (3021, 0.0), (3022, 0.03172048546747875), (3023, 0.00722184024456685), (3024, 0.002437927936008046), (3025, 0.0), (3026, 0.00325605934561846), (3027, 0.011095581313842171), (3028, 0.007381657440576074), (3029, 0.0), (3030, 0.003992428998334895), (3031, 0.08206689196647553), (3032, 0.03895585200795028), (3033, 0.01231775659412679), (3034, 0.0), (3035, 0.01982996968855865), (3036, 0.0028019285186509173), (3037, 0.0031108247458937074), (3038, 0.0), (3039, 0.013946592930646179), (3040, 0.004115674433485695), (3041, 0.0), (3042, 0.003993130147242863), (3043, 0.012643155719453418), (3044, 0.0032124676677060425), (3045, 0.006789268320958429), (3046, 0.014978572106838547), (3047, 0.0), (3048, 0.0), (3049, 0.0), (3050, 0.0027000933387280857), (3051, 0.004203845904456408), (3052, 0.004025427181394589), (3053, 0.0045022790516364855), (3054, 0.0), (3055, 0.004010247409005504), (3056, 0.031871559462990015), (3057, 0.03950471186602007), (3058, 0.0), (3059, 0.0), (3060, 0.0), (3061, 0.0), (3062, 0.0032673312191087212), (3063, 0.0), (3064, 0.003206794929362068), (3065, 0.024176407872897463), (3066, 0.012041489147432072), (3067, 0.010452104295882295), (3068, 0.0), (3069, 0.002877987153523686), (3070, 0.007343949283394242), (3071, 0.05138582492216415), (3072, 0.003425313910716154), (3073, 0.18268063255264694), (3074, 0.003615768191224825), (3075, 0.04558959725220876), (3076, 0.014616400243336596), (3077, 0.0), (3078, 0.0), (3079, 0.0), (3080, 0.0), (3081, 0.0034683300092080804), (3082, 0.0), (3083, 0.004361335473132518), (3084, 0.022092484397682945), (3085, 0.015145996088442602), (3086, 0.012064924134522273), (3087, 0.0), (3088, 0.0), (3089, 0.0), (3090, 0.03389871528839302), (3091, 0.002466762125136458), (3092, 0.0), (3093, 0.03476626852760395), (3094, 0.012379722295334156), (3095, 0.045428023833023155), (3096, 0.009197062205572433), (3097, 0.02138069969721306), (3098, 0.04289881742201476), (3099, 0.0073127018327797276), (3100, 0.0), (3101, 0.0032559545541876746), (3102, 0.0), (3103, 0.004956948137717808), (3104, 0.0), (3105, 0.0), (3106, 0.0), (3107, 0.0), (3108, 0.013706822237846432), (3109, 0.0), (3110, 0.009248555349694062), (3111, 0.029779255766915008), (3112, 0.003169044645643816), (3113, 0.00300588699055616), (3114, 0.007056476368578444), (3115, 0.0), (3116, 0.0032385044092860475), (3117, 0.0), (3118, 0.03767716389788086), (3119, 0.01531133431644015), (3120, 0.010340035793089303), (3121, 0.0043815016571141455), (3122, 0.08672612504972424), (3123, 0.0035947339877105858), (3124, 0.0), (3125, 0.007676450595289191), (3126, 0.0), (3127, 0.01250807310715715), (3128, 0.003714990912096817), (3129, 0.008061673986038891), (3130, 0.0), (3131, 0.005019418679416325), (3132, 0.0), (3133, 0.00440982693603571), (3134, 0.0), (3135, 0.016749363541581935), (3136, 0.0), (3137, 0.005470611035996439), (3138, 0.0), (3139, 0.02949131874281215), (3140, 0.0037089102348471983), (3141, 0.009040117143699459), (3142, 0.017853426430797792), (3143, 0.016608629438947885), (3144, 0.012670008638610598), (3145, 0.0060952642013052775), (3146, 0.003296472048326418), (3147, 0.002743589589939462), (3148, 0.003336746450744836), (3149, 0.01245542846452312), (3150, 0.007992162969320867), (3151, 0.014547508277166596), (3152, 0.01557849834405223), (3153, 0.0030347388220120343), (3154, 0.023732078849174474), (3155, 0.011244861782496342), (3156, 0.0), (3157, 0.01177633930259099), (3158, 0.020043228922670554), (3159, 0.0036474745187164283), (3160, 0.0), (3161, 0.0), (3162, 0.0), (3163, 0.028771534320258314), (3164, 0.010437090889743417), (3165, 0.003384965587414406), (3166, 0.0040879718666997685), (3167, 0.0026392795394625953), (3168, 0.0), (3169, 0.0), (3170, 0.0028036891910120623), (3171, 0.04341569031594793), (3172, 0.005462938967946463), (3173, 0.002902343708855914), (3174, 0.007618326577815438), (3175, 0.02746805436982765), (3176, 0.0), (3177, 0.02434999392333643), (3178, 0.004659516504831132), (3179, 0.0), (3180, 0.0), (3181, 0.010224898854893331), (3182, 0.06110015697440059), (3183, 0.00322720919796557), (3184, 0.003165389809145746), (3185, 0.0), (3186, 0.1005476711405915), (3187, 0.02191998756500514), (3188, 0.0), (3189, 0.0), (3190, 0.0), (3191, 0.027213649181539522), (3192, 0.00908240182748993), (3193, 0.004407194380054928), (3194, 0.002781676539106364), (3195, 0.0029002227160355516), (3196, 0.02797119480057832), (3197, 0.0), (3198, 0.003044465861825492), (3199, 0.00591537003436431), (3200, 0.0064903781755205735), (3201, 0.008363717500233415), (3202, 0.0), (3203, 0.0), (3204, 0.0), (3205, 0.02661671554066703), (3206, 0.0817970131768104), (3207, 0.0), (3208, 0.0), (3209, 0.0), (3210, 0.011265503008198598), (3211, 0.09227661674855414), (3212, 0.0), (3213, 0.0), (3214, 0.0028135652987022783), (3215, 0.006383687325377087), (3216, 0.002932720831552688), (3217, 0.0), (3218, 0.01628133432377103), (3219, 0.0038514078939091948), (3220, 0.002880300794067964), (3221, 0.005247385857662581), (3222, 0.042929752156699336), (3223, 0.0), (3224, 0.0030682906501271015), (3225, 0.0030200295227758565), (3226, 0.02377693955828561), (3227, 0.002971519293839434), (3228, 0.01853349949301289), (3229, 0.0), (3230, 0.0088188136648816), (3231, 0.004201307394139561), (3232, 0.026420591270774563), (3233, 0.007858403390491701), (3234, 0.013477756779167226), (3235, 0.00314171609105089), (3236, 0.035651378987061645), (3237, 0.01508411017607115), (3238, 0.010611280580840479), (3239, 0.0037156053606082953), (3240, 0.017605672705385985), (3241, 0.0030745833278604494), (3242, 0.0030941416788349985), (3243, 0.0027602380005707777), (3244, 0.006992363092213829), (3245, 0.008306611477279525), (3246, 0.0146405633703992), (3247, 0.0), (3248, 0.003286771318179223), (3249, 0.0036859706452181348), (3250, 0.0), (3251, 0.025195459381809494), (3252, 0.0024556835790031616), (3253, 0.01736048054285349), (3254, 0.0024096776471692737), (3255, 0.0), (3256, 0.00889791957800176), (3257, 0.0035511045873575877), (3258, 0.003204653154112056), (3259, 0.013618274397610016), (3260, 0.007494616835811676), (3261, 0.0), (3262, 0.00379205225442106), (3263, 0.05144461915937693), (3264, 0.01612561602185807), (3265, 0.01753612187495638), (3266, 0.0), (3267, 0.010133979649496874), (3268, 0.0028128055768296676), (3269, 0.003187904171955369), (3270, 0.022427715385998904), (3271, 0.00825363003750134), (3272, 0.01820073794020844), (3273, 0.0032810054333024708), (3274, 0.0033205629928405008), (3275, 0.013053664212894904), (3276, 0.03144367843242645), (3277, 0.004940031116817115), (3278, 0.03769403202662941), (3279, 0.0), (3280, 0.012022186547246148), (3281, 0.0), (3282, 0.0038219589687640563), (3283, 0.007780601462347601), (3284, 0.020977866316731673), (3285, 0.0022155527580713305), (3286, 0.0), (3287, 0.0), (3288, 0.0074684358942045115), (3289, 0.08355158686724588), (3290, 0.0030328787397981873), (3291, 0.052023367213967886), (3292, 0.0038471930757393628), (3293, 0.03193755667003999), (3294, 0.028676443729616908), (3295, 0.00426954931300267), (3296, 0.0033519299211785827), (3297, 0.016852493585301498), (3298, 0.002846823040825424), (3299, 0.02276021009201512), (3300, 0.03427016484791217), (3301, 0.0023078228446990236), (3302, 0.0035907650485062287), (3303, 0.007773449926018079), (3304, 0.0026685578587860043), (3305, 0.0), (3306, 0.02207743037982323), (3307, 0.0034233439323858557), (3308, 0.003489021084307299), (3309, 0.007288884383521869), (3310, 0.04926288376435193), (3311, 0.006909859404482891), (3312, 0.014998168316798201), (3313, 0.01700610562984953), (3314, 0.0031256159305702346), (3315, 0.09284766621652418), (3316, 0.011747562796504435), (3317, 0.01683295444488679), (3318, 0.010065762517029854), (3319, 0.0), (3320, 0.004406468774771111), (3321, 0.004340947593177924), (3322, 0.0037929500236102143), (3323, 0.0), (3324, 0.0), (3325, 0.005265439835397266), (3326, 0.0031213653610251708), (3327, 0.011059890610631526), (3328, 0.02256295235829009), (3329, 0.009672496144252618), (3330, 0.06766900238505696), (3331, 0.0024566721395104423), (3332, 0.0), (3333, 0.06152541385191814), (3334, 0.04216682398312445), (3335, 0.028877166920173884), (3336, 0.006875447775261971), (3337, 0.0034004932571655663), (3338, 0.0), (3339, 0.0), (3340, 0.0), (3341, 0.0029553492272021546), (3342, 0.00709318557473123), (3343, 0.004686878243021473), (3344, 0.0169542189204819), (3345, 0.010954603608504795), (3346, 0.010552088756624308), (3347, 0.002473538868508366), (3348, 0.002852080641772014), (3349, 0.003057556454092277), (3350, 0.03798948352902007), (3351, 0.003075831446019932), (3352, 0.002834094938594713), (3353, 0.003063904434068766), (3354, 0.003710431415538891), (3355, 0.0033905363098945393), (3356, 0.00353857395078874), (3357, 0.003663269715318262), (3358, 0.003577886573646585), (3359, 0.003429742915677143), (3360, 0.02034585428225122), (3361, 0.004441192106379269), (3362, 0.0241817110031754), (3363, 0.003675498879590224), (3364, 0.008818215725255207), (3365, 0.005386854025758581), (3366, 0.0), (3367, 0.0), (3368, 0.004580520232929426), (3369, 0.09734812353587798), (3370, 0.0417623695175468), (3371, 0.0), (3372, 0.003095148937852221), (3373, 0.012570337249146283), (3374, 0.015739887170439552), (3375, 0.022793351533399498), (3376, 0.006522916680656472), (3377, 0.00962040850148593), (3378, 0.0048956841519382024), (3379, 0.0028893577804592475), (3380, 0.00261612951201682), (3381, 0.0029119057732777897), (3382, 0.01165389720492807), (3383, 0.0), (3384, 0.024087619015026963), (3385, 0.0), (3386, 0.015474101534562223), (3387, 0.07983154437971428), (3388, 0.048054553535472645), (3389, 0.014045628149573226), (3390, 0.00280795962588589), (3391, 0.0065703462525655955), (3392, 0.0019581987281938724), (3393, 0.006569713184907695), (3394, 0.0), (3395, 0.021036377158089557), (3396, 0.003399323498775226), (3397, 0.008420897628554575), (3398, 0.0), (3399, 0.0142679248338708), (3400, 0.0), (3401, 0.07807173182815343), (3402, 0.034424979187949754), (3403, 0.025208441429479117), (3404, 0.018194467462548457), (3405, 0.0), (3406, 0.0031102310524725577), (3407, 0.05245297311775181), (3408, 0.0034080943914130014), (3409, 0.04421023752719329), (3410, 0.03291686542815907), (3411, 0.004116193887569021), (3412, 0.007449930515656009), (3413, 0.06025946880597248), (3414, 0.0138025109493271), (3415, 0.0), (3416, 0.015839646557924237), (3417, 0.003245883791748612), (3418, 0.052990401996679884), (3419, 0.04208456822316247), (3420, 0.02716607111048392), (3421, 0.03470889652613433), (3422, 0.0), (3423, 0.012106138126354915), (3424, 0.015420784962281544), (3425, 0.003414785296631422), (3426, 0.007100634552404676), (3427, 0.0), (3428, 0.0), (3429, 0.014955878825930585), (3430, 0.04566458149912858), (3431, 0.0023666056612637516), (3432, 0.0), (3433, 0.0027749645168357096), (3434, 0.0031353174054859125), (3435, 0.0075644748577072835), (3436, 0.002966044541057293), (3437, 0.01169190963742863), (3438, 0.005008594172521321), (3439, 0.0), (3440, 0.0), (3441, 0.0029228906318268517), (3442, 0.03555564581501981), (3443, 0.10170603356284005), (3444, 0.005171570741259857), (3445, 0.003018204640892109), (3446, 0.004818262957680787), (3447, 0.01492302049423172), (3448, 0.005691378792462045), (3449, 0.0031846193667568693), (3450, 0.02796815178409008), (3451, 0.0), (3452, 0.002748107155856775), (3453, 0.009042741552353283), (3454, 0.009178630130604127), (3455, 0.002706009148893814), (3456, 0.018030121515698078), (3457, 0.013139390948712026), (3458, 0.04139460881526606), (3459, 0.004263088189218876), (3460, 0.0027100088258582003), (3461, 0.03232459771917158), (3462, 0.0), (3463, 0.004839696125058276), (3464, 0.013685482733643487), (3465, 0.012265273380285435), (3466, 0.015479318082969366), (3467, 0.0), (3468, 0.0), (3469, 0.005254031493392835), (3470, 0.0), (3471, 0.02272453312873576), (3472, 0.0), (3473, 0.0), (3474, 0.00267793008622145), (3475, 0.0), (3476, 0.0), (3477, 0.007574528339876197), (3478, 0.0029471031996203376), (3479, 0.003935774110569178), (3480, 0.0), (3481, 0.003948539184668494), (3482, 0.0), (3483, 0.019906882259100006), (3484, 0.0039016849793575862), (3485, 0.0), (3486, 0.0), (3487, 0.002833536146641073), (3488, 0.027558004011172702), (3489, 0.0), (3490, 0.0), (3491, 0.0076687086605917365), (3492, 0.007629320597565541), (3493, 0.0030846020177252727), (3494, 0.0), (3495, 0.0), (3496, 0.0031634261234033227), (3497, 0.003220012626956877), (3498, 0.06969598710645224), (3499, 0.02807721690795615), (3500, 0.06835891660325902), (3501, 0.002995700173678083), (3502, 0.005678679928681843), (3503, 0.0028259752288967107), (3504, 0.02250231757649089), (3505, 0.0), (3506, 0.0033990173950775864), (3507, 0.013386194245403191), (3508, 0.023114650457937112), (3509, 0.0066224969358769595), (3510, 0.0), (3511, 0.05281016780482807), (3512, 0.0045191156253449405), (3513, 0.018736355770182504), (3514, 0.003076668629939319), (3515, 0.018500550980004887), (3516, 0.03387889603195858), (3517, 0.0030514461795317547), (3518, 0.05004965609304168), (3519, 0.0), (3520, 0.0), (3521, 0.0036306831576026696), (3522, 0.0), (3523, 0.0042247314924287), (3524, 0.012448205049137092), (3525, 0.0), (3526, 0.007817392341227226), (3527, 0.003046393329132068), (3528, 0.0), (3529, 0.0), (3530, 0.0), (3531, 0.00797413195907907), (3532, 0.0), (3533, 0.0), (3534, 0.004866993464477006), (3535, 0.0810927686234), (3536, 0.015845935960406704), (3537, 0.003655423886686096), (3538, 0.006090861742172371), (3539, 0.019052113177058065), (3540, 0.0034373226568869208), (3541, 0.018321056376483544), (3542, 0.021312169271238048), (3543, 0.0), (3544, 0.0035873713911526352), (3545, 0.0), (3546, 0.005699070711111763), (3547, 0.0), (3548, 0.0024235392633774745), (3549, 0.004852068428346711), (3550, 0.0), (3551, 0.007709632920047939), (3552, 0.004793150078217566), (3553, 0.018634082881918652), (3554, 0.0), (3555, 0.0), (3556, 0.002635090139831374), (3557, 0.0074907316046045145), (3558, 0.016814784935457988), (3559, 0.034494070042847776), (3560, 0.0033113355501580397), (3561, 0.003995089629452825), (3562, 0.004519049627015856), (3563, 0.006962001648872307), (3564, 0.02975079532905992), (3565, 0.0801353668302805), (3566, 0.011577041799170991), (3567, 0.004495004925372792), (3568, 0.004499433628674437), (3569, 0.0025267639348084707), (3570, 0.008169929480724048), (3571, 0.0030135786327815045), (3572, 0.0), (3573, 0.030915516240932323), (3574, 0.0), (3575, 0.0023808947135739054), (3576, 0.0), (3577, 0.009440193929886202), (3578, 0.005921717883288787), (3579, 0.013035732042154606), (3580, 0.0), (3581, 0.0), (3582, 0.00792005301190009), (3583, 0.0), (3584, 0.0), (3585, 0.0), (3586, 0.01389692068752044), (3587, 0.0964970728807477), (3588, 0.0), (3589, 0.0), (3590, 0.0031305529119804313), (3591, 0.0), (3592, 0.0), (3593, 0.0032898461816803152), (3594, 0.012276050674060679), (3595, 0.0), (3596, 0.010470895108150392), (3597, 0.01682802397785045), (3598, 0.01091015923661903), (3599, 0.01594567859461793), (3600, 0.0), (3601, 0.0031430312799835404), (3602, 0.0), (3603, 0.0), (3604, 0.0), (3605, 0.02102867945988828), (3606, 0.0030048657165240907), (3607, 0.0), (3608, 0.0019195901191289583), (3609, 0.0), (3610, 0.005541163724213392), (3611, 0.0033485630707355218), (3612, 0.01586615044334828), (3613, 0.03076700640316472), (3614, 0.002667531537381979), (3615, 0.03622915595781897), (3616, 0.009499055142429814), (3617, 0.0), (3618, 0.008096942434044678), (3619, 0.041430808683033025), (3620, 0.0035886575400929225), (3621, 0.003467872210192675), (3622, 0.0335241920281608), (3623, 0.0030401780986888034), (3624, 0.0029197872269285533), (3625, 0.0), (3626, 0.00586048481943572), (3627, 0.002726814285870907), (3628, 0.0), (3629, 0.002531006524108289), (3630, 0.0), (3631, 0.0), (3632, 0.026080875637685512), (3633, 0.008403696918790596), (3634, 0.008945515689541888), (3635, 0.003984498275776958), (3636, 0.0030371028302250093), (3637, 0.029508826418671388), (3638, 0.009523749496240129), (3639, 0.003372864450909591), (3640, 0.012455422839028263), (3641, 0.007377315588740221), (3642, 0.06331835324347272), (3643, 0.015514612323559177), (3644, 0.004609514746723797), (3645, 0.008418156369370322), (3646, 0.0072229111329937725), (3647, 0.06815822566426206), (3648, 0.012752163688263877), (3649, 0.0), (3650, 0.00475384171137464), (3651, 0.008738392272620537), (3652, 0.0090841498410202), (3653, 0.03547697822066674), (3654, 0.008033628983432576), (3655, 0.013290667836185068), (3656, 0.009750684338538762), (3657, 0.0024870104004218836), (3658, 0.01085087977160008), (3659, 0.04653149866893125), (3660, 0.010770136413817398), (3661, 0.017417462938541753), (3662, 0.0), (3663, 0.0), (3664, 0.0), (3665, 0.007620541324859471), (3666, 0.0030600065241022725), (3667, 0.013929127164495755), (3668, 0.006465572104275509), (3669, 0.0024975271899255807), (3670, 0.043392154858234035), (3671, 0.0), (3672, 0.004187760571288788), (3673, 0.0029351607584391826), (3674, 0.010900186924007836), (3675, 0.013313289029109273), (3676, 0.0), (3677, 0.01353480044751232), (3678, 0.008126384783001143), (3679, 0.0), (3680, 0.003332590301490632), (3681, 0.0052082380662976735), (3682, 0.0), (3683, 0.08043636092089754), (3684, 0.039307446727338984), (3685, 0.0), (3686, 0.0), (3687, 0.0036809530983905416), (3688, 0.0), (3689, 0.01579637517710241), (3690, 0.009589214652403808), (3691, 0.0772035385388576), (3692, 0.003173155462281545), (3693, 0.0), (3694, 0.012086844218153208), (3695, 0.0), (3696, 0.011891096005023333), (3697, 0.0), (3698, 0.010601931819880448), (3699, 0.038406839019508886), (3700, 0.0), (3701, 0.026164388125173025), (3702, 0.0), (3703, 0.03283295459478219), (3704, 0.0031847890351358347), (3705, 0.002666780168021096), (3706, 0.0028761573145761835), (3707, 0.02692964156487664), (3708, 0.009492422685412007), (3709, 0.05059926103122361), (3710, 0.0), (3711, 0.07174208709973326), (3712, 0.135853321667214), (3713, 0.017130262048169864), (3714, 0.003221273852381524), (3715, 0.0), (3716, 0.0), (3717, 0.0), (3718, 0.004350438703002838), (3719, 0.0028765310997335277), (3720, 0.004527533633588581), (3721, 0.0), (3722, 0.004823764274802953), (3723, 0.0), (3724, 0.004974659761703982), (3725, 0.002744093706364327), (3726, 0.0), (3727, 0.0029220196525041463), (3728, 0.01131382265376464), (3729, 0.003415421832938892), (3730, 0.005128681114570038), (3731, 0.017521802968643994), (3732, 0.0), (3733, 0.01007665738351617), (3734, 0.002779624831098039), (3735, 0.0), (3736, 0.013217925170439283), (3737, 0.0032907968396291365), (3738, 0.0), (3739, 0.007722699221391563), (3740, 0.0), (3741, 0.020449428467242993), (3742, 0.002691943414765333), (3743, 0.009708871207242687), (3744, 0.02677081012937068), (3745, 0.0034667931647167425), (3746, 0.0046184590974018705), (3747, 0.008061989567831893), (3748, 0.010663628545860723), (3749, 0.0032133147693436956), (3750, 0.0), (3751, 0.0164084557599672), (3752, 0.014456235174942291), (3753, 0.0), (3754, 0.003417780029000228), (3755, 0.0026046252180768063), (3756, 0.009135586920984318), (3757, 0.00317907153066666), (3758, 0.0), (3759, 0.0), (3760, 0.0), (3761, 0.0), (3762, 0.003839454561820019), (3763, 0.00347323712216485), (3764, 0.0), (3765, 0.01197749044696165), (3766, 0.013318744128500155), (3767, 0.009719008410030192), (3768, 0.008834294949133934), (3769, 0.0), (3770, 0.003081832412246536), (3771, 0.003192073627427996), (3772, 0.003353786574755973), (3773, 0.0), (3774, 0.0), (3775, 0.0076294201642728085), (3776, 0.004018092292406266), (3777, 0.05744304221552379), (3778, 0.007934491322446464), (3779, 0.003558717266562062), (3780, 0.05235460540212708), (3781, 0.00315767867434975), (3782, 0.023562157286521994), (3783, 0.016866480278246793), (3784, 0.014536246354858775), (3785, 0.0), (3786, 0.004501574386976303), (3787, 0.08542029363841563), (3788, 0.0), (3789, 0.0), (3790, 0.0), (3791, 0.0), (3792, 0.0029970519507262487), (3793, 0.0), (3794, 0.007786934209361121), (3795, 0.002636260202351953), (3796, 0.0), (3797, 0.011708012332475658), (3798, 0.0), (3799, 0.03299043929372712), (3800, 0.0), (3801, 0.023683653212805272), (3802, 0.0), (3803, 0.004104829464229747), (3804, 0.003287517394385044), (3805, 0.0), (3806, 0.0), (3807, 0.011109903486645683), (3808, 0.0), (3809, 0.0030195043233390497), (3810, 0.004780688912406843), (3811, 0.0027782659321502114), (3812, 0.0), (3813, 0.0032155861406194617), (3814, 0.02163628480671672), (3815, 0.0), (3816, 0.0), (3817, 0.005219000649216319), (3818, 0.0046526653643294965), (3819, 0.0149749088218028), (3820, 0.0), (3821, 0.012807649921076844), (3822, 0.01714758717619233), (3823, 0.06961689383231807), (3824, 0.033906844684466766), (3825, 0.015363677150248223), (3826, 0.014681959914185187), (3827, 0.0028895591781127002), (3828, 0.014124734894688826), (3829, 0.009834939060920419), (3830, 0.0), (3831, 0.005144803243181247), (3832, 0.0035977882119709657), (3833, 0.0), (3834, 0.0), (3835, 0.006372162107688465), (3836, 0.0), (3837, 0.0), (3838, 0.0), (3839, 0.009758852198812935), (3840, 0.0), (3841, 0.006850282403693311), (3842, 0.007482928322811686), (3843, 0.0), (3844, 0.0), (3845, 0.003073965102654043), (3846, 0.0), (3847, 0.0), (3848, 0.003738949123760557), (3849, 0.032959982962348956), (3850, 0.0), (3851, 0.0), (3852, 0.0040879270776227805), (3853, 0.0), (3854, 0.014666574293172871), (3855, 0.028231889404851357), (3856, 0.04086807306828124), (3857, 0.008484289818535872), (3858, 0.005380009572205842), (3859, 0.0), (3860, 0.03069525277465722), (3861, 0.0), (3862, 0.011664289435283703), (3863, 0.002648256326299203), (3864, 0.007203312090073285), (3865, 0.010991328295222879), (3866, 0.008805089968791287), (3867, 0.0033479153507317977), (3868, 0.024419834678320873), (3869, 0.0), (3870, 0.004904817146928224), (3871, 0.0), (3872, 0.0), (3873, 0.0031512776605746836), (3874, 0.0036038184584066563), (3875, 0.06734922961316804), (3876, 0.0027052413916061166), (3877, 0.034683314290361485), (3878, 0.003873394168872592), (3879, 0.04578204016293776), (3880, 0.009230621767286408), (3881, 0.0), (3882, 0.07162221292244862), (3883, 0.012730751769272892), (3884, 0.003428893344994354), (3885, 0.0), (3886, 0.004505688358322539), (3887, 0.0), (3888, 0.011050617295274755), (3889, 0.003196172474960099), (3890, 0.01192910791012294), (3891, 0.004442931097336488), (3892, 0.003831121988366588), (3893, 0.0031837460681231077), (3894, 0.036932515501429404), (3895, 0.002579867605210691), (3896, 0.017243860763143343), (3897, 0.004974278976622633), (3898, 0.06992130950864098), (3899, 0.008952397160221755), (3900, 0.002833903776852066), (3901, 0.0035541994161742397), (3902, 0.0030663791693004007), (3903, 0.028240363602996255), (3904, 0.0031522303688364885), (3905, 0.008696409623772727), (3906, 0.0028995770803625165), (3907, 0.03716005933438463), (3908, 0.0), (3909, 0.011498894431047048), (3910, 0.0025873618706026315), (3911, 0.029806222751588757), (3912, 0.0), (3913, 0.002720756439333849), (3914, 0.008213584797229376), (3915, 0.003201049946821882), (3916, 0.015238002032620847), (3917, 0.02455049342161365), (3918, 0.0), (3919, 0.015964591235801608), (3920, 0.007912211559651251), (3921, 0.010812336050091648), (3922, 0.00363811326023654), (3923, 0.0), (3924, 0.02259166211515013), (3925, 0.06170411294439584), (3926, 0.012344545365096944), (3927, 0.07158736074646013), (3928, 0.006380723138101408), (3929, 0.0), (3930, 0.004857138814685241), (3931, 0.0), (3932, 0.005436398073026418), (3933, 0.0), (3934, 0.0), (3935, 0.003472711477939356), (3936, 0.0), (3937, 0.0), (3938, 0.0), (3939, 0.003925194314287139), (3940, 0.0062932844481197875), (3941, 0.010466008989528377), (3942, 0.0), (3943, 0.0), (3944, 0.003781873619112016), (3945, 0.008581643110730676), (3946, 0.025046157420043742), (3947, 0.00950065426120187), (3948, 0.0), (3949, 0.011301299386464788), (3950, 0.0), (3951, 0.01781959855791002), (3952, 0.0033796836483368817), (3953, 0.0026814420383246764), (3954, 0.00998538946427686), (3955, 0.004681927793260303), (3956, 0.009954425534867717), (3957, 0.031967771752328365), (3958, 0.0), (3959, 0.024942032023574888), (3960, 0.00865993482420892), (3961, 0.012327242739302798), (3962, 0.0033098907654966108), (3963, 0.004656504413447363), (3964, 0.0), (3965, 0.0), (3966, 0.004375583746116902), (3967, 0.0032578943702238666), (3968, 0.0), (3969, 0.004928714802371863), (3970, 0.008974366516567021), (3971, 0.0), (3972, 0.0), (3973, 0.03629810213689019), (3974, 0.0026525596477984265), (3975, 0.0), (3976, 0.0), (3977, 0.0), (3978, 0.018494421773007967), (3979, 0.0), (3980, 0.0037637495927650717), (3981, 0.0), (3982, 0.0), (3983, 0.011441144030599131), (3984, 0.011745572386924941), (3985, 0.0639079197800205), (3986, 0.00687300053622455), (3987, 0.0031388653967813892), (3988, 0.0), (3989, 0.017720953027701766), (3990, 0.004067841524716092), (3991, 0.0), (3992, 0.012624574386023824), (3993, 0.0075959616554667755), (3994, 0.025935837474541975), (3995, 0.0), (3996, 0.0), (3997, 0.0), (3998, 0.011873727341503345), (3999, 0.03577136763439225), (4000, 0.01107794168686614), (4001, 0.048954510866352816), (4002, 0.029639199993528945), (4003, 0.0), (4004, 0.01132635645778066), (4005, 0.003149061897506164), (4006, 0.004688860021820842), (4007, 0.029214932580789846), (4008, 0.04270949968253227), (4009, 0.01138787165321034), (4010, 0.0), (4011, 0.002767770101491825), (4012, 0.004427893872769846), (4013, 0.03391509680213968), (4014, 0.0029818708777358768), (4015, 0.014041487662961101), (4016, 0.0029389824961618526), (4017, 0.0039992468204842965), (4018, 0.0), (4019, 0.0038203938270847337), (4020, 0.002891235296494372), (4021, 0.0), (4022, 0.0), (4023, 0.003480362619908701), (4024, 0.0031825642840995756), (4025, 0.020710995122105925), (4026, 0.0), (4027, 0.04986411561256206), (4028, 0.0), (4029, 0.0), (4030, 0.0034494712823376216), (4031, 0.005484429846036933), (4032, 0.028769008755844594), (4033, 0.01178239666660142), (4034, 0.0), (4035, 0.006641664522059191), (4036, 0.002879578419732474), (4037, 0.0), (4038, 0.04933422550760774), (4039, 0.0), (4040, 0.0), (4041, 0.0), (4042, 0.003255016661511728), (4043, 0.0), (4044, 0.0), (4045, 0.008685551991295828), (4046, 0.0032308143823883096), (4047, 0.0), (4048, 0.01222654556560011), (4049, 0.0029909843514916317), (4050, 0.0), (4051, 0.003287923570746525), (4052, 0.011182018757639422), (4053, 0.09565312262621745), (4054, 0.003124954390485971), (4055, 0.015348074837179952), (4056, 0.002931171352336628), (4057, 0.010954883632557408), (4058, 0.0), (4059, 0.007143475799726637), (4060, 0.011096062766500572), (4061, 0.018586886347443918), (4062, 0.018497350373799112), (4063, 0.0), (4064, 0.005204599911634703), (4065, 0.0), (4066, 0.002588114083226776), (4067, 0.0), (4068, 0.01611268965902314), (4069, 0.0028465793412820258), (4070, 0.009384974281019538), (4071, 0.0), (4072, 0.0), (4073, 0.024984313246822563), (4074, 0.06506325369788006), (4075, 0.003438781732155763), (4076, 0.005054324500045643), (4077, 0.013580150601099846), (4078, 0.0), (4079, 0.0030550896184964333), (4080, 0.0026424486684849973), (4081, 0.020945262194143645), (4082, 0.004163290858713942), (4083, 0.003076802820890701), (4084, 0.0), (4085, 0.0028049712338295064), (4086, 0.0), (4087, 0.003203709663759289), (4088, 0.016850479874293577), (4089, 0.0030685827507968538), (4090, 0.09369693542950044), (4091, 0.005155060327447807), (4092, 0.0033351156488229494), (4093, 0.008409834875496274), (4094, 0.008810858015355848), (4095, 0.009478195474099067), (4096, 0.08153716284710301), (4097, 0.0), (4098, 0.003020904523930141), (4099, 0.012321485975125734), (4100, 0.0), (4101, 0.003216604112524277), (4102, 0.0037419131551150384), (4103, 0.0), (4104, 0.04446961045854246), (4105, 0.009228301658470925), (4106, 0.015234536127506292), (4107, 0.003639041768667901), (4108, 0.005249716218757663), (4109, 0.0042451088682705414), (4110, 0.015102260148846027), (4111, 0.0031549235500008717), (4112, 0.004579464127396698), (4113, 0.023136035210601265), (4114, 0.0), (4115, 0.0), (4116, 0.012176161413017222), (4117, 0.0033641741160029422), (4118, 0.018984411565067395), (4119, 0.010428970936576841), (4120, 0.00522959843568037), (4121, 0.03970559075539795), (4122, 0.03752915408688387), (4123, 0.0117924574314629), (4124, 0.015007170696904718), (4125, 0.0), (4126, 0.0034293625507417994), (4127, 0.021706943394783407), (4128, 0.0), (4129, 0.0028525826656220386), (4130, 0.0032211576971286735), (4131, 0.0), (4132, 0.003172219185951534), (4133, 0.0032134807962572926), (4134, 0.010475293221833975), (4135, 0.0077470673131641256), (4136, 0.00795751264325594), (4137, 0.007708834919085407), (4138, 0.0032666456281963906), (4139, 0.002845881295529923), (4140, 0.003220046849714623), (4141, 0.030899580777959304), (4142, 0.0037678733595985807), (4143, 0.006866390708304207), (4144, 0.0), (4145, 0.003461879697416688), (4146, 0.0), (4147, 0.003588471781808519), (4148, 0.008189196132699946), (4149, 0.0), (4150, 0.0), (4151, 0.027084447451416), (4152, 0.007287957555398071), (4153, 0.0), (4154, 0.0026630341433982654), (4155, 0.0072975962778658), (4156, 0.026769005314837058), (4157, 0.004597548912164983), (4158, 0.010582385215112861), (4159, 0.0), (4160, 0.0033042514520967943), (4161, 0.07509004638513556), (4162, 0.0), (4163, 0.003416813672977757), (4164, 0.007508148288731384), (4165, 0.007581606426132415), (4166, 0.0), (4167, 0.0), (4168, 0.0), (4169, 0.003139287029464859), (4170, 0.02783902714226355), (4171, 0.005398587058738283), (4172, 0.0038961088979145853), (4173, 0.0), (4174, 0.007030822821696394), (4175, 0.0031381112563731144), (4176, 0.00702390564892695), (4177, 0.0), (4178, 0.011727104759647973), (4179, 0.0), (4180, 0.0), (4181, 0.0), (4182, 0.02747473602801511), (4183, 0.0028583979696136575), (4184, 0.008254915664976041), (4185, 0.0), (4186, 0.020136034350265893), (4187, 0.012672435802067335), (4188, 0.0), (4189, 0.024030921175563318), (4190, 0.0), (4191, 0.0), (4192, 0.01990141304376355), (4193, 0.0), (4194, 0.0057463599405806615), (4195, 0.0), (4196, 0.008311360523388333), (4197, 0.05114495545176058), (4198, 0.0), (4199, 0.0), (4200, 0.002436626614726896), (4201, 0.016805565304612264), (4202, 0.004120882308065343), (4203, 0.027232059931286294), (4204, 0.03989654141801844), (4205, 0.02202192043211966), (4206, 0.0027994011144945844), (4207, 0.0), (4208, 0.0), (4209, 0.003611315507945457), (4210, 0.012501048107531616), (4211, 0.0), (4212, 0.0), (4213, 0.0028023688929197463), (4214, 0.0), (4215, 0.0), (4216, 0.09172775569608123), (4217, 0.011903872878057234), (4218, 0.004589163733350027), (4219, 0.0), (4220, 0.0025998574266135003), (4221, 0.003940265502518366), (4222, 0.0279359800110294), (4223, 0.0), (4224, 0.0), (4225, 0.0030936526351530783), (4226, 0.013473890850786943), (4227, 0.009075746219866362), (4228, 0.0029115729765230905), (4229, 0.0), (4230, 0.0037761337602808995), (4231, 0.011913769082111864), (4232, 0.04059378212007501), (4233, 0.008707723565548149), (4234, 0.07611539721204354), (4235, 0.007532861278829257), (4236, 0.0070592634805462795), (4237, 0.0), (4238, 0.0), (4239, 0.0), (4240, 0.005121645294498618), (4241, 0.004639982175867545), (4242, 0.029917032840926523), (4243, 0.003355038346920888), (4244, 0.012794811109326603), (4245, 0.003166393423558256), (4246, 0.018358878029401525), (4247, 0.0025902726067694192), (4248, 0.0), (4249, 0.03031501544200646), (4250, 0.0), (4251, 0.0), (4252, 0.004513963070403496), (4253, 0.0), (4254, 0.0027671859280568533), (4255, 0.010725396653118831), (4256, 0.0), (4257, 0.014386508190584863), (4258, 0.0), (4259, 0.0032735442023163097), (4260, 0.0), (4261, 0.006099601255749698), (4262, 0.007930471559329286), (4263, 0.0032459603667460393), (4264, 0.017622609379629766), (4265, 0.08240669808662697), (4266, 0.002973824171153446), (4267, 0.01415856921416751), (4268, 0.011123356391872667), (4269, 0.008193552003420163), (4270, 0.0), (4271, 0.005805316848237853), (4272, 0.01169233526924619), (4273, 0.003015806022027901), (4274, 0.0), (4275, 0.0), (4276, 0.0), (4277, 0.0026994084261240453), (4278, 0.0), (4279, 0.004486503828120158), (4280, 0.0034927095080653637), (4281, 0.005422431091798611), (4282, 0.01566885250712994), (4283, 0.0077864839804296145), (4284, 0.007495006107136638), (4285, 0.0), (4286, 0.003115879567504936), (4287, 0.003044717923107423), (4288, 0.014361104485669952), (4289, 0.008750373077448711), (4290, 0.008468871807951557), (4291, 0.0), (4292, 0.004420351076982057), (4293, 0.012462642019500057), (4294, 0.0), (4295, 0.0033648038347072586), (4296, 0.0025670463139664686), (4297, 0.008598552973319571), (4298, 0.003615540160513539), (4299, 0.0028769884574595026), (4300, 0.0), (4301, 0.002186514829896484), (4302, 0.0), (4303, 0.007329820621256645), (4304, 0.0026450426451035186), (4305, 0.0), (4306, 0.0036435589424395507), (4307, 0.0), (4308, 0.003231908687394176), (4309, 0.0028764533590538203), (4310, 0.0), (4311, 0.002394356698204637), (4312, 0.010081225082187398), (4313, 0.0), (4314, 0.0), (4315, 0.0), (4316, 0.0), (4317, 0.0), (4318, 0.003114161910602899), (4319, 0.0), (4320, 0.04549359737549869), (4321, 0.0028057649724400166), (4322, 0.0), (4323, 0.0), (4324, 0.0), (4325, 0.0076255940089967715), (4326, 0.0027019603023632085), (4327, 0.0), (4328, 0.008765727556832107), (4329, 0.0), (4330, 0.007642979816981336), (4331, 0.0), (4332, 0.010179917337752895), (4333, 0.0033162173909871413), (4334, 0.003045979307856658), (4335, 0.00936438208022391), (4336, 0.010219576663610466), (4337, 0.008475411089147499), (4338, 0.005124408925496723), (4339, 0.0042856359837082445), (4340, 0.0030480493682202648), (4341, 0.0), (4342, 0.011357165015262752), (4343, 0.023403761654306153), (4344, 0.017065065988952452), (4345, 0.002795451795443891), (4346, 0.0), (4347, 0.0), (4348, 0.030597885472240037), (4349, 0.002897913491001754), (4350, 0.0026563455907019445), (4351, 0.04916411064449688), (4352, 0.01747390764860265), (4353, 0.004074337187012231), (4354, 0.04771232400170032), (4355, 0.0031396504937498946), (4356, 0.0027408256206063607), (4357, 0.030465767719150837), (4358, 0.0), (4359, 0.04164004270864193), (4360, 0.0), (4361, 0.0030661479587888655), (4362, 0.0028856611944090395), (4363, 0.008000446561089954), (4364, 0.0), (4365, 0.0), (4366, 0.03838816597575284), (4367, 0.007396978857378568), (4368, 0.008596993931851765), (4369, 0.03288137109127199), (4370, 0.0), (4371, 0.011345727469705668), (4372, 0.0), (4373, 0.00927792210474013), (4374, 0.0195084751216644), (4375, 0.09569460260633775), (4376, 0.027362586436896742), (4377, 0.0), (4378, 0.0), (4379, 0.03922364148528077), (4380, 0.04363455288559821), (4381, 0.0028570947044838316), (4382, 0.002849738212098758), (4383, 0.0), (4384, 0.0), (4385, 0.006643697274720484), (4386, 0.002541743376769256), (4387, 0.01546476129027897), (4388, 0.01267428902456236), (4389, 0.0), (4390, 0.008543262098334855), (4391, 0.0029783292626936308), (4392, 0.0), (4393, 0.020173436267469657), (4394, 0.007579999875429415), (4395, 0.007431286593308631), (4396, 0.003297234577210586), (4397, 0.0032799026466701652), (4398, 0.0034054374379104235), (4399, 0.011653064002187102), (4400, 0.0037568852941384213), (4401, 0.003292698677214034), (4402, 0.0070632863861593755), (4403, 0.01423506023458975), (4404, 0.0), (4405, 0.0), (4406, 0.00496252426380156), (4407, 0.0038548776255220253), (4408, 0.0), (4409, 0.0029296622702006466), (4410, 0.0), (4411, 0.002524782238093137), (4412, 0.0034522772289532506), (4413, 0.0), (4414, 0.02358930119078643), (4415, 0.01555094498570086), (4416, 0.0034690208091245323), (4417, 0.0), (4418, 0.03276064026927156), (4419, 0.0030723514176882087), (4420, 0.003107570867520591), (4421, 0.0), (4422, 0.0030455220371437075), (4423, 0.0038215731532338566), (4424, 0.0), (4425, 0.0), (4426, 0.0), (4427, 0.0029437886332563273), (4428, 0.007253359472563991), (4429, 0.0025588432952409457), (4430, 0.026116370401071842), (4431, 0.013186556799567577), (4432, 0.0025795147466247106), (4433, 0.04926754218591213), (4434, 0.0), (4435, 0.01122174387163624), (4436, 0.022155186908136334), (4437, 0.0), (4438, 0.0044979551253855506), (4439, 0.0), (4440, 0.020275670399785013), (4441, 0.004456725969518535), (4442, 0.015383632259420934), (4443, 0.0036102580704253703), (4444, 0.010006302705258754), (4445, 0.0022124134693228496), (4446, 0.003232917172416381), (4447, 0.0), (4448, 0.007977386103033477), (4449, 0.005504892379453959), (4450, 0.011446774219293203), (4451, 0.0), (4452, 0.0), (4453, 0.0), (4454, 0.005412642331750346), (4455, 0.0), (4456, 0.0), (4457, 0.01781696100916342), (4458, 0.0035148699941839868), (4459, 0.016370390374774984), (4460, 0.005318091753928068), (4461, 0.0028371350482903606), (4462, 0.0053018835456471606), (4463, 0.0), (4464, 0.0), (4465, 0.02222219498847301), (4466, 0.0), (4467, 0.01273085360051553), (4468, 0.0), (4469, 0.013954277139949742), (4470, 0.0030384255573539126), (4471, 0.04105239947404632), (4472, 0.007383986361937753), (4473, 0.0066528262658122825), (4474, 0.039592215368643026), (4475, 0.010043223342185024), (4476, 0.0025218355627693242), (4477, 0.018529116308771118), (4478, 0.0), (4479, 0.002714314575203025), (4480, 0.0), (4481, 0.012337669288280182), (4482, 0.004653249218410293), (4483, 0.0), (4484, 0.0039293137240611654), (4485, 0.0), (4486, 0.021296355234763416), (4487, 0.00290351317378141), (4488, 0.0), (4489, 0.0031256709122981638), (4490, 0.003495031528723301), (4491, 0.0), (4492, 0.005039886831107261), (4493, 0.0), (4494, 0.003329357980757727), (4495, 0.0031566699471130776), (4496, 0.0), (4497, 0.02992251826831448), (4498, 0.0), (4499, 0.0), (4500, 0.0), (4501, 0.0029774834188131937), (4502, 0.010200470098281485), (4503, 0.015995356382207424), (4504, 0.007372512251172124), (4505, 0.003119493131775609), (4506, 0.0), (4507, 0.003385070787971241), (4508, 0.0), (4509, 0.0), (4510, 0.008726159765618743), (4511, 0.015189539942430295), (4512, 0.00921187092466202), (4513, 0.0), (4514, 0.02163059337930268), (4515, 0.005220683676139715), (4516, 0.0033794355648653004), (4517, 0.0029649228124649287), (4518, 0.0), (4519, 0.0), (4520, 0.00291743583681455), (4521, 0.0036785231071693827), (4522, 0.003211671577568118), (4523, 0.037780824313001976), (4524, 0.014707513998785612), (4525, 0.0), (4526, 0.0), (4527, 0.0), (4528, 0.003200548815294395), (4529, 0.003951454202562188), (4530, 0.002882239739630315), (4531, 0.01757672353089423), (4532, 0.0), (4533, 0.0030161916959718115), (4534, 0.025709363645768216), (4535, 0.003298595816114505), (4536, 0.0028156350978669367), (4537, 0.0), (4538, 0.0), (4539, 0.0), (4540, 0.0031666536149194684), (4541, 0.00766308998640998), (4542, 0.0), (4543, 0.007918839074819805), (4544, 0.003676453398720631), (4545, 0.0031892186763639854), (4546, 0.0038094287225351278), (4547, 0.0), (4548, 0.00439794826984549), (4549, 0.005204578995270186), (4550, 0.08304533842263646), (4551, 0.02274443661275371), (4552, 0.0), (4553, 0.05988139013460856), (4554, 0.02234941691513395), (4555, 0.004441701626867316), (4556, 0.0), (4557, 0.00872086477626968), (4558, 0.0), (4559, 0.0), (4560, 0.0), (4561, 0.0), (4562, 0.0), (4563, 0.003022033584857657), (4564, 0.011867012660089483), (4565, 0.0), (4566, 0.021958236528771984), (4567, 0.002816658955875998), (4568, 0.008770428694937576), (4569, 0.0), (4570, 0.0), (4571, 0.0046830033582140156), (4572, 0.0036169507805474854), (4573, 0.002856962372681814), (4574, 0.003155519043638123), (4575, 0.0031182323785901665), (4576, 0.019390127681666536), (4577, 0.030777693737681248), (4578, 0.0), (4579, 0.0031766018536632584), (4580, 0.0), (4581, 0.008297942894300065), (4582, 0.0), (4583, 0.0), (4584, 0.0034647406774675534), (4585, 0.0), (4586, 0.0), (4587, 0.0), (4588, 0.0), (4589, 0.03536332097091134), (4590, 0.006840032821873061), (4591, 0.002740959583961331), (4592, 0.0046770954273405285), (4593, 0.0032770786480738174), (4594, 0.008997398996345198), (4595, 0.019350339398700657), (4596, 0.021725345896409592), (4597, 0.020719819749125762), (4598, 0.0023120831447304177), (4599, 0.0), (4600, 0.004293496935626619), (4601, 0.0032257281189158396), (4602, 0.003233446633715481), (4603, 0.00986921662953041), (4604, 0.007679980466783148), (4605, 0.011752315337848976), (4606, 0.003731016465456207), (4607, 0.004279514543616114), (4608, 0.0026152658917067487), (4609, 0.0), (4610, 0.015779554180916297), (4611, 0.003928228578238782), (4612, 0.009509484815268249), (4613, 0.004966605352564277), (4614, 0.002815000863697473), (4615, 0.0), (4616, 0.002722393718555042), (4617, 0.015274945015451985), (4618, 0.0), (4619, 0.012322551015769685), (4620, 0.0026927190638030905), (4621, 0.10338763706490631), (4622, 0.0), (4623, 0.00819167929209379), (4624, 0.0490782589371064), (4625, 0.003060009027237014), (4626, 0.0023827031705170158), (4627, 0.0025288009099290205), (4628, 0.0), (4629, 0.007968641303162619), (4630, 0.03865858464316979), (4631, 0.0), (4632, 0.0034744610379501962), (4633, 0.003463486832601129), (4634, 0.007127769187707621), (4635, 0.006673242296825624), (4636, 0.0024852841300429243), (4637, 0.013252501639066567), (4638, 0.0026883457836645746), (4639, 0.0), (4640, 0.002952546667690535), (4641, 0.002878958871234878), (4642, 0.0), (4643, 0.0030314766524749326), (4644, 0.0), (4645, 0.0), (4646, 0.005981820544244166), (4647, 0.004242448237990981), (4648, 0.0), (4649, 0.014025050916854694), (4650, 0.0033963465611828642), (4651, 0.0), (4652, 0.015259130575765754), (4653, 0.021864198775405203), (4654, 0.0), (4655, 0.0), (4656, 0.008865314855779002), (4657, 0.0031696096065263646), (4658, 0.027096398485712162), (4659, 0.005062814683979119), (4660, 0.009419472606805182), (4661, 0.0026123500492437664), (4662, 0.0), (4663, 0.00841257564164093), (4664, 0.0), (4665, 0.0), (4666, 0.0), (4667, 0.0), (4668, 0.0029038794634666095), (4669, 0.012163951242455506), (4670, 0.0028230317415034283), (4671, 0.0), (4672, 0.035430828523125825), (4673, 0.010817177848844594), (4674, 0.009903348277192869), (4675, 0.0), (4676, 0.0), (4677, 0.00297872074301086), (4678, 0.0), (4679, 0.025296094158521593), (4680, 0.0031510193038660306), (4681, 0.0), (4682, 0.016511524498273374), (4683, 0.038637217350237354), (4684, 0.008389794429346637), (4685, 0.014993531502615006), (4686, 0.007685290085539616), (4687, 0.007469117738148019), (4688, 0.0), (4689, 0.004281023071851689), (4690, 0.0), (4691, 0.0), (4692, 0.003678778366740392), (4693, 0.002862725515080068), (4694, 0.003462752952706007), (4695, 0.012988865366000392), (4696, 0.0038609382051773174), (4697, 0.016622807055713038), (4698, 0.0), (4699, 0.0033251557421170434), (4700, 0.0), (4701, 0.003512454046346766), (4702, 0.0), (4703, 0.0), (4704, 0.004026094848806722), (4705, 0.004213583740062478), (4706, 0.0032741933264007666), (4707, 0.009208215024293958), (4708, 0.0), (4709, 0.01117491122278362), (4710, 0.003725198511541884), (4711, 0.0), (4712, 0.0026548577920382887), (4713, 0.0034116019369319094), (4714, 0.0), (4715, 0.0029546994351175608), (4716, 0.0), (4717, 0.0034798821370150145), (4718, 0.003305263214865978), (4719, 0.005707871745897175), (4720, 0.0), (4721, 0.0), (4722, 0.021020627207638268), (4723, 0.0036033185898947818), (4724, 0.013767432479211262), (4725, 0.0), (4726, 0.006225485391872996), (4727, 0.008831911560454774), (4728, 0.0), (4729, 0.002830841864758069), (4730, 0.0), (4731, 0.02358391825438193), (4732, 0.032323984568184014), (4733, 0.0024590199885370576), (4734, 0.003184902154062381), (4735, 0.013215996372618282), (4736, 0.0), (4737, 0.03800724975427094), (4738, 0.046119712178058506), (4739, 0.03834035611598115), (4740, 0.0), (4741, 0.0), (4742, 0.0), (4743, 0.0028755411879315524), (4744, 0.0023890761010738914), (4745, 0.0), (4746, 0.0), (4747, 0.00946172526227616), (4748, 0.013226438091235106), (4749, 0.003955108276402211), (4750, 0.0), (4751, 0.0), (4752, 0.04390053844479324), (4753, 0.0033605057072417146), (4754, 0.0), (4755, 0.0047200868972012205), (4756, 0.0216207300043028), (4757, 0.00309488192981671), (4758, 0.0), (4759, 0.0)]\n"
          ]
        }
      ]
    },
    {
      "cell_type": "code",
      "source": [
        "len(Recommendation_Score)"
      ],
      "metadata": {
        "colab": {
          "base_uri": "https://localhost:8080/"
        },
        "id": "q0C2M2NpJ3LA",
        "outputId": "d7d4bc1f-d394-4b2b-bd00-3f0c75d4a9e0"
      },
      "execution_count": 46,
      "outputs": [
        {
          "output_type": "execute_result",
          "data": {
            "text/plain": [
              "4760"
            ]
          },
          "metadata": {},
          "execution_count": 46
        }
      ]
    },
    {
      "cell_type": "markdown",
      "source": [
        "# Get all movies based on their similarity score"
      ],
      "metadata": {
        "id": "bQDvTNYTRrxq"
      }
    },
    {
      "cell_type": "code",
      "source": [
        "Sorted_Similar_Movies = sorted(Recommendation_Score, key = lambda x:x[1], reverse = True)\n",
        "print(Sorted_Similar_Movies)"
      ],
      "metadata": {
        "colab": {
          "base_uri": "https://localhost:8080/"
        },
        "id": "7Mgq6igHJ_kw",
        "outputId": "25aebf3a-6ee0-488c-a897-c5677403d9a4"
      },
      "execution_count": 47,
      "outputs": [
        {
          "output_type": "stream",
          "name": "stdout",
          "text": [
            "[(209, 1.0), (753, 0.2963946351008442), (3073, 0.18268063255264694), (2608, 0.14878376762366352), (580, 0.1452039048784959), (2253, 0.14323940652247125), (3712, 0.135853321667214), (211, 0.13328936078453002), (309, 0.13186718008421935), (2524, 0.1304530453478432), (2929, 0.1278245945199424), (420, 0.1256183539746784), (483, 0.12561692623239323), (1802, 0.12201526517219288), (103, 0.1206308390935962), (1003, 0.12036702137815904), (1985, 0.1189730075568817), (270, 0.11820310250603569), (370, 0.11545168186411552), (1633, 0.1125210420529762), (1680, 0.11197902249272162), (887, 0.11196132257629428), (124, 0.1118684962836), (988, 0.1110138779804104), (2668, 0.10928154038397028), (2919, 0.10889960012754966), (1416, 0.10781942534953541), (210, 0.10779382818040022), (147, 0.10665034842608188), (749, 0.10664131135062535), (1536, 0.10655456051693765), (1970, 0.10440149719059723), (429, 0.1036667035187438), (4621, 0.10338763706490631), (2429, 0.10320496699907808), (4, 0.10255098410041187), (3443, 0.10170603356284005), (1812, 0.10165462520981605), (140, 0.10062120255899977), (3186, 0.1005476711405915), (1014, 0.09988396156077371), (760, 0.09893956530511534), (1558, 0.09888610129239653), (3369, 0.09734812353587798), (236, 0.09701802744753749), (1066, 0.09697299865146917), (3587, 0.0964970728807477), (2110, 0.09585437843051291), (1146, 0.09574268577296303), (4375, 0.09569460260633775), (4053, 0.09565312262621745), (1956, 0.0953293737747164), (2447, 0.09443590290627403), (695, 0.09437986984506087), (4090, 0.09369693542950044), (1824, 0.09300059068477093), (1446, 0.09292310522519366), (3315, 0.09284766621652418), (1431, 0.09275927702336142), (1659, 0.09240720715522135), (3211, 0.09227661674855414), (4216, 0.09172775569608123), (2936, 0.09162882032232637), (2725, 0.09161389341415871), (1466, 0.09095830684047951), (1393, 0.0905590229047789), (685, 0.08979028096749742), (1626, 0.08964850605450402), (1028, 0.08945170196834282), (2072, 0.08876506746443937), (1343, 0.08698725136167026), (3122, 0.08672612504972424), (612, 0.08596969048915204), (1172, 0.0857617290029025), (3787, 0.08542029363841563), (2171, 0.08489144799786136), (769, 0.08454181282474778), (1058, 0.08393897943167007), (1598, 0.08355389681137047), (3289, 0.08355158686724588), (4550, 0.08304533842263646), (667, 0.08301077398483372), (1667, 0.08271323979083084), (530, 0.08262185372080988), (1238, 0.08249314652609464), (4265, 0.08240669808662697), (1142, 0.08232252071116924), (3031, 0.08206689196647553), (3206, 0.0817970131768104), (4096, 0.08153716284710301), (594, 0.08125760077346587), (3535, 0.0810927686234), (3683, 0.08043636092089754), (138, 0.0803162327876752), (3565, 0.0801353668302805), (1540, 0.07999969219648476), (3387, 0.07983154437971428), (689, 0.0794928589391959), (1419, 0.07905005840911755), (1317, 0.07890143823011087), (1671, 0.07868016532540456), (450, 0.07837928951542003), (2632, 0.07833925112079676), (3401, 0.07807173182815343), (1778, 0.07756258362121725), (931, 0.07751885997090513), (1759, 0.07750236883054056), (2992, 0.07744517632824911), (1325, 0.07742162892483506), (142, 0.07723512204369376), (3691, 0.0772035385388576), (2723, 0.07710282566400332), (1036, 0.0768925512447752), (4234, 0.07611539721204354), (1953, 0.07592785450635486), (3016, 0.07564103726233609), (1055, 0.0755573048656023), (1816, 0.07540248966879465), (4161, 0.07509004638513556), (1532, 0.07459061193751326), (627, 0.07457521785303776), (2318, 0.07369288145280681), (2552, 0.07327408388997904), (1270, 0.07277372311534214), (770, 0.0725798301765449), (329, 0.07244831130900688), (1318, 0.072213782384772), (3711, 0.07174208709973326), (3882, 0.07162221292244862), (3927, 0.07158736074646013), (833, 0.07123510987094701), (192, 0.07100682277943504), (2804, 0.070756245109365), (2682, 0.07037187264129818), (3898, 0.06992130950864098), (3498, 0.06969598710645224), (3823, 0.06961689383231807), (2236, 0.0692857506787864), (1053, 0.06867891309185718), (3500, 0.06835891660325902), (3647, 0.06815822566426206), (1501, 0.06803147374925253), (842, 0.06779376736731992), (3330, 0.06766900238505696), (3875, 0.06734922961316804), (2115, 0.06733071664410359), (645, 0.06699347595304217), (1567, 0.06688738050117796), (2057, 0.06641403342260428), (1542, 0.06637948779961511), (100, 0.06590765438731325), (1512, 0.06552927986774094), (1998, 0.06543961496468255), (4074, 0.06506325369788006), (1034, 0.06474377283252779), (199, 0.06467398166351977), (2630, 0.06418225226789348), (2542, 0.06402315909189447), (3985, 0.0639079197800205), (3642, 0.06331835324347272), (801, 0.06273177517942966), (2701, 0.06232259715748517), (1954, 0.06199703910570512), (1801, 0.06187868751696884), (3925, 0.06170411294439584), (1061, 0.061652938222099045), (3333, 0.06152541385191814), (108, 0.061258262145942405), (2727, 0.06120124064151383), (3182, 0.06110015697440059), (2843, 0.06091505320185904), (2359, 0.060883970871002314), (1430, 0.06039605929833351), (3413, 0.06025946880597248), (2880, 0.060132654660882946), (2985, 0.060131687923297185), (4553, 0.05988139013460856), (2037, 0.059544972576251895), (1568, 0.0592735745971922), (205, 0.05918336471087861), (157, 0.059033818947461375), (308, 0.05891500488451659), (1737, 0.058514565775309085), (2241, 0.05833152820468394), (364, 0.0581622423515514), (130, 0.05793250113056611), (3777, 0.05744304221552379), (2981, 0.05739314288826382), (1428, 0.057124197308619194), (1919, 0.05679392694967361), (1941, 0.05651940557398143), (2899, 0.0561824141878035), (1899, 0.056178508661490045), (2808, 0.05616776772331185), (2693, 0.0560533860352609), (1903, 0.05570327982464586), (1461, 0.05563429458497568), (566, 0.05549144823706599), (788, 0.05538788342423089), (2335, 0.05534012402882263), (705, 0.054753368885098866), (2054, 0.054735131761460276), (2424, 0.05464586157163005), (1915, 0.05383243549414003), (792, 0.053540241088167684), (1735, 0.05335538321438243), (2252, 0.05329095159135511), (1184, 0.053269730554243076), (3418, 0.052990401996679884), (1421, 0.05288791757876512), (3511, 0.05281016780482807), (109, 0.0524969020049987), (3407, 0.05245297311775181), (660, 0.052405967807995314), (3780, 0.05235460540212708), (358, 0.05226469321226604), (216, 0.05218169403602596), (3291, 0.052023367213967886), (1838, 0.05193246525782433), (1934, 0.05161188494554648), (562, 0.05151251581399148), (1043, 0.05150085181373597), (3263, 0.05144461915937693), (3071, 0.05138582492216415), (4197, 0.05114495545176058), (2729, 0.051092751000140615), (1052, 0.050789159894765346), (355, 0.05078377489854814), (3709, 0.05059926103122361), (1401, 0.05031149558928613), (2510, 0.05009996739996231), (3518, 0.05004965609304168), (223, 0.04999052050246903), (4027, 0.04986411561256206), (4038, 0.04933422550760774), (4433, 0.04926754218591213), (3310, 0.04926288376435193), (4351, 0.04916411064449688), (4624, 0.0490782589371064), (4001, 0.048954510866352816), (1678, 0.0488460216148023), (2234, 0.048500379190099835), (356, 0.04845324132447097), (2963, 0.04835986184658715), (2444, 0.04833504680330407), (3388, 0.048054553535472645), (2022, 0.04800667562080986), (2481, 0.047782048724343586), (4354, 0.04771232400170032), (287, 0.04762841840542442), (105, 0.047323061134325856), (952, 0.04727089031273993), (1693, 0.04710481122047371), (120, 0.047070842505094634), (2154, 0.04698895957939796), (2254, 0.04673107269729746), (2026, 0.04669175369203165), (1793, 0.0466237151193848), (3659, 0.04653149866893125), (1788, 0.04635797187539502), (150, 0.046354693766535386), (334, 0.046232811668588815), (4738, 0.046119712178058506), (2059, 0.046107835001370605), (1922, 0.04607348924562904), (21, 0.04600960657912624), (1136, 0.0458882291015322), (1065, 0.04585462002836248), (3879, 0.04578204016293776), (2114, 0.045697019137557277), (3430, 0.04566458149912858), (682, 0.04566258521656903), (3075, 0.04558959725220876), (4320, 0.04549359737549869), (795, 0.045433510264790936), (3095, 0.045428023833023155), (3020, 0.04542711272860557), (543, 0.04481041734198833), (2032, 0.0447780770195709), (899, 0.04474346525749488), (2726, 0.044564643821432146), (4104, 0.04446961045854246), (630, 0.044452278737439836), (1139, 0.044416459428255305), (679, 0.04437904678673308), (2512, 0.04436812079055715), (1539, 0.04435649749260613), (1264, 0.044330715825787306), (3409, 0.04421023752719329), (647, 0.04401869926954302), (1278, 0.043959927079823394), (4752, 0.04390053844479324), (2699, 0.04387090826801253), (317, 0.043841755038575805), (1407, 0.04373393322810058), (145, 0.04370963740824045), (2385, 0.04366214279167253), (4380, 0.04363455288559821), (1141, 0.0436004072487477), (478, 0.04354101879055728), (1420, 0.04352718131158101), (3171, 0.04341569031594793), (3670, 0.043392154858234035), (2197, 0.04326132143287101), (1472, 0.0431513814479304), (1845, 0.04295647330800449), (3222, 0.042929752156699336), (921, 0.042909732252780095), (3098, 0.04289881742201476), (2961, 0.042865022873525636), (1526, 0.04271964496800419), (4008, 0.04270949968253227), (555, 0.04270115808452936), (1574, 0.04249588447961261), (799, 0.04245256964704004), (2893, 0.04243469176735473), (2844, 0.04240535554534265), (2250, 0.042202649416248975), (3334, 0.04216682398312445), (3419, 0.04208456822316247), (214, 0.04188945264105472), (2396, 0.041831396677985994), (3370, 0.0417623695175468), (4359, 0.04164004270864193), (353, 0.04154452657980029), (3619, 0.041430808683033025), (3458, 0.04139460881526606), (1510, 0.04117680083616462), (1072, 0.04105887523415301), (4471, 0.04105239947404632), (2886, 0.041047618737236384), (3856, 0.04086807306828124), (692, 0.040824819496997525), (269, 0.04080492350964639), (4232, 0.04059378212007501), (2802, 0.040535282658731506), (1547, 0.04053471606147075), (870, 0.04045829637431611), (2166, 0.04033378995256793), (204, 0.04019322320691533), (854, 0.040189053309927884), (2160, 0.040132985596524805), (1932, 0.03998542431518932), (1050, 0.03998442140787522), (622, 0.03995566186926936), (4204, 0.03989654141801844), (62, 0.039852203034918585), (766, 0.03974948953871237), (4121, 0.03970559075539795), (4474, 0.039592215368643026), (2092, 0.039557593125020975), (3057, 0.03950471186602007), (2954, 0.03941249383812314), (3684, 0.039307446727338984), (4379, 0.03922364148528077), (2476, 0.03919789315426851), (1859, 0.03908977287009715), (1039, 0.039004398275562846), (2720, 0.038995813480360575), (1642, 0.03897458799319843), (3032, 0.03895585200795028), (2784, 0.03869438303529816), (4630, 0.03865858464316979), (808, 0.03865457871116019), (4683, 0.038637217350237354), (982, 0.038519862515846236), (1360, 0.03849255139195532), (868, 0.038489011189826096), (2329, 0.03841442284277949), (3699, 0.038406839019508886), (4366, 0.03838816597575284), (4739, 0.03834035611598115), (664, 0.03813533389010459), (1551, 0.03809348558978771), (4737, 0.03800724975427094), (3350, 0.03798948352902007), (2871, 0.03796203429764924), (34, 0.03794687205582402), (2617, 0.03793269526876657), (1629, 0.037867422999943515), (2221, 0.0378088692196656), (4523, 0.037780824313001976), (706, 0.03777085842042247), (935, 0.037701980011045036), (3278, 0.03769403202662941), (3118, 0.03767716389788086), (2082, 0.037595914029656424), (4122, 0.03752915408688387), (104, 0.037504214268626344), (2487, 0.03748648150272616), (263, 0.03746585510512169), (1130, 0.037443620426276636), (1600, 0.03719778366881699), (3907, 0.03716005933438463), (166, 0.037061010699886744), (246, 0.03701206202889281), (3894, 0.036932515501429404), (1022, 0.036901516751128384), (1313, 0.03687359575364146), (1710, 0.03673860976265316), (1907, 0.03667572057043636), (2534, 0.03663610022607576), (3010, 0.036608535858139765), (0, 0.036558289454277956), (2227, 0.03655690701386236), (2208, 0.03653673589849185), (1967, 0.036529571683977066), (1188, 0.036529262321232214), (1438, 0.036446476656183946), (1828, 0.036336250846360545), (2698, 0.03631124682254842), (3973, 0.03629810213689019), (3615, 0.03622915595781897), (1002, 0.03617177964965711), (561, 0.0361137007226158), (2908, 0.0360865487968898), (2751, 0.035894528885018685), (806, 0.03578970788137575), (135, 0.035786300245218186), (3999, 0.03577136763439225), (1352, 0.03577093050635136), (743, 0.035763232815217774), (2874, 0.035666371737333356), (3236, 0.035651378987061645), (2321, 0.03563119054820631), (1596, 0.035606706265948224), (2606, 0.0355705192307155), (3442, 0.03555564581501981), (1106, 0.035508757022495646), (3653, 0.03547697822066674), (2811, 0.035458496514388815), (228, 0.03544636338365561), (4672, 0.035430828523125825), (1488, 0.03541536138164923), (4589, 0.03536332097091134), (790, 0.03530455132696508), (2116, 0.035160126925981305), (2973, 0.035078961795246756), (785, 0.03503749092198549), (2016, 0.03502943033168848), (1206, 0.034839523673288575), (1743, 0.03481819766042557), (2558, 0.0348075515947378), (3093, 0.03476626852760395), (3421, 0.03470889652613433), (3877, 0.034683314290361485), (1267, 0.03464364042932874), (158, 0.03451001577378308), (3559, 0.034494070042847776), (1191, 0.034462821363951346), (3402, 0.034424979187949754), (671, 0.03435058638403381), (2734, 0.0343348561663989), (2513, 0.03429196556117108), (3300, 0.03427016484791217), (1319, 0.0342451228392723), (2019, 0.034236128739898855), (2944, 0.03402351191753937), (2601, 0.033974799428643856), (652, 0.03392327480019077), (4013, 0.03391509680213968), (3824, 0.033906844684466766), (3090, 0.03389871528839302), (3516, 0.03387889603195858), (1033, 0.03376856907409644), (2690, 0.03373473344946932), (1059, 0.033727588660325214), (1382, 0.03362579047046822), (3622, 0.0335241920281608), (1696, 0.03340603118588512), (1076, 0.033405620464953795), (274, 0.03335679946231251), (396, 0.033327023004984316), (487, 0.033316130579937375), (1762, 0.033247702738238696), (2696, 0.0332238233285994), (875, 0.03316618089885573), (1823, 0.03313886126839183), (609, 0.03306358180451553), (1545, 0.03305696739006092), (3799, 0.03299043929372712), (3849, 0.032959982962348956), (678, 0.03294318867728796), (2582, 0.03293402456412709), (3410, 0.03291686542815907), (1483, 0.03290831481376068), (1451, 0.03289169310819502), (4369, 0.03288137109127199), (3703, 0.03283295459478219), (4418, 0.03276064026927156), (1001, 0.032716687473179566), (1690, 0.03262729372235309), (2903, 0.032579100864891), (654, 0.03245785081954723), (1181, 0.03245549951374728), (1832, 0.032409918719518066), (757, 0.032358440400725164), (3461, 0.03232459771917158), (4732, 0.032323984568184014), (2848, 0.03229703722288255), (898, 0.03226547685021774), (399, 0.03224859445175253), (3013, 0.03224120596422134), (2301, 0.03222622531191659), (46, 0.03204041670721522), (87, 0.03201629129813849), (3957, 0.031967771752328365), (3293, 0.03193755667003999), (1495, 0.03192574904073683), (2156, 0.0319110467412078), (2140, 0.03187270034954378), (3056, 0.031871559462990015), (883, 0.03178330784323345), (2814, 0.03176485396170883), (512, 0.03172102458893229), (3022, 0.03172048546747875), (1273, 0.03166576857090728), (1978, 0.03166313867488709), (2834, 0.031662876500575865), (2984, 0.03164902667516416), (2818, 0.03161245191571006), (2706, 0.03152007826823243), (39, 0.03150914556858285), (175, 0.031470049867980285), (3276, 0.03144367843242645), (283, 0.03143797478633569), (49, 0.031385061538718804), (2222, 0.03132298939975132), (1412, 0.03128701907274278), (1997, 0.03126096195653841), (485, 0.03113288719517395), (2163, 0.031054167541473263), (2213, 0.031035937246415457), (412, 0.030919473389300896), (3573, 0.030915516240932323), (4141, 0.030899580777959304), (4577, 0.030777693737681248), (3613, 0.03076700640316472), (202, 0.030710786530164066), (3860, 0.03069525277465722), (1211, 0.03068128389079571), (1078, 0.030648036638171436), (1511, 0.030626155108255428), (4348, 0.030597885472240037), (2797, 0.030531419962297593), (529, 0.03051254842671672), (4357, 0.030465767719150837), (4249, 0.03031501544200646), (616, 0.030178475210099642), (1279, 0.03017255277123384), (2167, 0.030154184082052143), (895, 0.030081594390953884), (2379, 0.030061567717989887), (2490, 0.03002253276341359), (4497, 0.02992251826831448), (4242, 0.029917032840926523), (2825, 0.029852220567633828), (3911, 0.029806222751588757), (3111, 0.029779255766915008), (3564, 0.02975079532905992), (1730, 0.029700346620390474), (1721, 0.02967158444277266), (4002, 0.029639199993528945), (1740, 0.02963531244999243), (915, 0.029633491486598024), (330, 0.02961646995352757), (2858, 0.029524483887201462), (3637, 0.029508826418671388), (3139, 0.02949131874281215), (377, 0.029447784367068547), (2777, 0.029345297532087505), (2233, 0.029288318725903678), (614, 0.029282306993033237), (71, 0.02927986056206585), (4007, 0.029214932580789846), (1169, 0.029193717083596412), (1939, 0.02919266226449336), (2281, 0.029183290813809923), (1891, 0.02912602457569891), (1707, 0.02911176270679068), (2625, 0.029002289041392085), (469, 0.028938308871969125), (3335, 0.028877166920173884), (2376, 0.028859873528618803), (1805, 0.028827987425633153), (3163, 0.028771534320258314), (4032, 0.028769008755844594), (1572, 0.028753615870817976), (319, 0.02869159847220014), (1309, 0.028688450054376397), (3294, 0.028676443729616908), (338, 0.028629854121992895), (697, 0.02858207450602419), (989, 0.02857417666593419), (2084, 0.02852776384162619), (1806, 0.02849881659696396), (222, 0.02841879396861742), (553, 0.028386176804036503), (1723, 0.02835761624618755), (2689, 0.028291503789913314), (1254, 0.028283310090733184), (2662, 0.02825199767984721), (3903, 0.028240363602996255), (3855, 0.028231889404851357), (2055, 0.02821059491262345), (1506, 0.02814432101508651), (371, 0.028083703348867433), (3499, 0.02807721690795615), (1774, 0.028010147607923752), (3196, 0.02797119480057832), (3450, 0.02796815178409008), (4222, 0.0279359800110294), (2118, 0.027930196738317734), (180, 0.027895059308048177), (304, 0.02785980497316645), (4170, 0.02783902714226355), (354, 0.02764388747134912), (496, 0.027566044474232762), (3488, 0.027558004011172702), (4182, 0.02747473602801511), (3175, 0.02746805436982765), (99, 0.027444774498416438), (2649, 0.027388907437989538), (2123, 0.027387160370534302), (4376, 0.027362586436896742), (4203, 0.027232059931286294), (607, 0.02722136284574106), (13, 0.027221195840758154), (3191, 0.027213649181539522), (1257, 0.027193909516925165), (3420, 0.02716607111048392), (505, 0.02715100861325575), (902, 0.027115931284973985), (4658, 0.027096398485712162), (4151, 0.027084447451416), (958, 0.027082554835229325), (2792, 0.027038753316753247), (325, 0.02700770944309252), (3707, 0.02692964156487664), (621, 0.026849430782755312), (3744, 0.02677081012937068), (4156, 0.026769005314837058), (2638, 0.026693049629059544), (3205, 0.02661671554066703), (67, 0.026606289356884468), (2911, 0.02656155643899611), (1471, 0.026561186307116687), (2794, 0.026537706559852114), (3232, 0.026420591270774563), (136, 0.0263929385292756), (2562, 0.02636504501538306), (123, 0.026346958198913077), (3701, 0.026164388125173025), (2713, 0.026145497394883137), (4430, 0.026116370401071842), (1825, 0.026082002457159636), (3632, 0.026080875637685512), (1358, 0.026052078261106074), (1272, 0.026045240515465744), (225, 0.02596228059256419), (2549, 0.02596222226849584), (3994, 0.025935837474541975), (2112, 0.025929940407145812), (256, 0.02590950754049507), (407, 0.0259069724858019), (2265, 0.025839372884733747), (1090, 0.025741177236941484), (2000, 0.025730090604165715), (4534, 0.025709363645768216), (1162, 0.025624678312493925), (1362, 0.025617359914245505), (342, 0.02559256694837251), (2931, 0.025495476028666107), (1369, 0.02547596915052114), (1443, 0.02543148456126247), (732, 0.025408996418047527), (4679, 0.025296094158521593), (3403, 0.025208441429479117), (3251, 0.025195459381809494), (1614, 0.02515300425967256), (2454, 0.02515280079880118), (934, 0.02515094836603827), (306, 0.02512182262496581), (3946, 0.025046157420043742), (1773, 0.024999566395101206), (4073, 0.024984313246822563), (3959, 0.024942032023574888), (2138, 0.02493133142958487), (1653, 0.024887875079508837), (1277, 0.024881130020946173), (1618, 0.02482058636921904), (1137, 0.024810317145649588), (2474, 0.02477205737129738), (2395, 0.02473667648674272), (2276, 0.024730395498738317), (1129, 0.024658788730180257), (772, 0.02459123949590423), (2249, 0.024588706478168458), (1480, 0.024569734036492825), (3917, 0.02455049342161365), (2613, 0.024539449081917897), (2378, 0.024513732565411808), (2069, 0.024508087725804498), (162, 0.024488790168850326), (2210, 0.024484307805486882), (2712, 0.02447279789305403), (3868, 0.024419834678320873), (1240, 0.02437882095987662), (1543, 0.024377416901956307), (1500, 0.024360487212092538), (3177, 0.02434999392333643), (452, 0.02431845529464171), (874, 0.024305911523728282), (337, 0.02422318887509257), (57, 0.024198465411727273), (3362, 0.0241817110031754), (3065, 0.024176407872897463), (141, 0.024161275355874257), (251, 0.02415726978597567), (745, 0.024135428779878038), (684, 0.024124284068639975), (3384, 0.024087619015026963), (4189, 0.024030921175563318), (2766, 0.023973554721056653), (106, 0.023960572960048908), (328, 0.02393992834391547), (1465, 0.02392567615967153), (513, 0.02391214431854708), (514, 0.023854909754962288), (551, 0.02378778875296544), (1025, 0.023783161770188625), (3226, 0.02377693955828561), (864, 0.023739111100078918), (3154, 0.023732078849174474), (3801, 0.023683653212805272), (6, 0.023667242865204906), (2881, 0.023591291515666787), (4414, 0.02358930119078643), (4731, 0.02358391825438193), (3782, 0.023562157286521994), (280, 0.02343177818231604), (4343, 0.023403761654306153), (1787, 0.023346357183261324), (596, 0.02333896862057806), (2839, 0.02332563062298645), (2134, 0.023299179152266827), (1433, 0.023206593329029645), (1071, 0.02317174512920943), (4113, 0.023136035210601265), (3508, 0.023114650457937112), (656, 0.023109835901802562), (343, 0.023078654066299532), (1097, 0.02305869549461468), (633, 0.02303412562715036), (2426, 0.022998600358357775), (1357, 0.02298724923466921), (797, 0.022957099463068398), (919, 0.022940929004937976), (2453, 0.02292589971088005), (2878, 0.022889011599689067), (1132, 0.022886166121893432), (3375, 0.022793351533399498), (643, 0.022765544074424524), (3299, 0.02276021009201512), (4551, 0.02274443661275371), (3471, 0.02272453312873576), (1244, 0.02268959557881733), (2023, 0.022677381849572215), (63, 0.02265282478934285), (730, 0.022649808060477866), (2813, 0.02262264196508431), (2996, 0.022617065731094406), (264, 0.022605569907583514), (3924, 0.02259166211515013), (3328, 0.02256295235829009), (3504, 0.02250231757649089), (2200, 0.022478793269578322), (3270, 0.022427715385998904), (4554, 0.02234941691513395), (1301, 0.022296920632077534), (376, 0.022266959434970788), (2636, 0.02224948354854181), (2393, 0.022229263072480663), (4465, 0.02222219498847301), (2005, 0.022164536193950597), (597, 0.022162995939949713), (4436, 0.022155186908136334), (2326, 0.022146551296250695), (2027, 0.022094311975060822), (3084, 0.022092484397682945), (3306, 0.02207743037982323), (4205, 0.02202192043211966), (653, 0.02196304888675269), (1269, 0.021961621913071792), (4566, 0.021958236528771984), (2550, 0.021944869044483242), (3187, 0.02191998756500514), (2412, 0.02191888532819271), (657, 0.021894222832931524), (2145, 0.021891755168318126), (601, 0.021867458709473323), (4653, 0.021864198775405203), (1295, 0.021781467425148478), (4596, 0.021725345896409592), (233, 0.021710364246374066), (4127, 0.021706943394783407), (3, 0.02167449201371437), (3814, 0.02163628480671672), (4514, 0.02163059337930268), (4756, 0.0216207300043028), (669, 0.021616392488393064), (1005, 0.02154299901660159), (284, 0.021528839339914927), (606, 0.021509518592561956), (1682, 0.021494365150821336), (1164, 0.02149402545519815), (1840, 0.021392752748143385), (865, 0.02138818567966058), (3097, 0.02138069969721306), (762, 0.02136565307156621), (3542, 0.021312169271238048), (4486, 0.021296355234763416), (1756, 0.02128788441412508), (339, 0.021286863259950252), (2828, 0.021262524141058142), (2239, 0.02117506617553304), (137, 0.021153331660810168), (1114, 0.02109690548628057), (3395, 0.021036377158089557), (3605, 0.02102867945988828), (4722, 0.021020627207638268), (1207, 0.02101481881601293), (3284, 0.020977866316731673), (4081, 0.020945262194143645), (82, 0.02094175595029093), (1192, 0.020916241066370245), (957, 0.02091494163768365), (1118, 0.020857647831302995), (1701, 0.02084633794274747), (83, 0.020820475002351624), (2040, 0.020771313855114368), (2261, 0.020728566833693056), (4597, 0.020719819749125762), (4025, 0.020710995122105925), (1957, 0.02070839044442993), (1843, 0.020657756246691878), (2867, 0.02058801726763628), (1494, 0.020566174415873672), (68, 0.020563909136370656), (352, 0.02051752206106904), (3741, 0.020449428467242993), (2645, 0.020411176711994702), (1259, 0.02037879768616442), (1688, 0.02035695717907285), (3360, 0.02034585428225122), (538, 0.020333213487767444), (1015, 0.020323984675070926), (212, 0.02032058445546207), (1986, 0.020319568430742133), (2660, 0.020301895907843377), (1087, 0.020295894483352003), (4440, 0.020275670399785013), (2798, 0.020272276529126405), (1413, 0.020260505709503558), (349, 0.020202438831668126), (4393, 0.020173436267469657), (2912, 0.020169505222624833), (4186, 0.020136034350265893), (167, 0.020122978006273037), (182, 0.02012264999232919), (1948, 0.020105080899177098), (2070, 0.020094820293029506), (1384, 0.020091555361404747), (2443, 0.020055686185603595), (2175, 0.020045599608137565), (3158, 0.020043228922670554), (2096, 0.02004004239145815), (35, 0.020030538818182172), (1332, 0.019924569314152412), (3483, 0.019906882259100006), (4192, 0.01990141304376355), (1403, 0.01985819613259812), (1485, 0.019846023128711553), (3035, 0.01982996968855865), (1134, 0.019828023164994126), (719, 0.019807369101441506), (547, 0.01980734004105944), (1460, 0.01979729253487893), (1239, 0.019776559954641088), (173, 0.019705025836779168), (794, 0.01968311702786869), (841, 0.019635982354772014), (119, 0.019585965058818246), (2968, 0.019519549623832923), (4374, 0.0195084751216644), (2224, 0.01950166877532456), (471, 0.019452187004564653), (836, 0.019392117529375235), (4576, 0.019390127681666536), (4595, 0.019350339398700657), (1493, 0.019241180795509617), (2124, 0.019164904044597336), (1079, 0.01915510830562381), (2670, 0.01914140370409669), (1942, 0.019128627140309606), (1732, 0.01911305520488435), (3539, 0.019052113177058065), (916, 0.01903796443462676), (1068, 0.01900103244625026), (2969, 0.01899710832355173), (4118, 0.018984411565067395), (266, 0.0189704187278146), (1377, 0.01895124853049667), (1418, 0.01894713681600268), (962, 0.018929676217830316), (1988, 0.018912799080489998), (186, 0.01887826874747162), (775, 0.01885771061931897), (2671, 0.01882736508910037), (1385, 0.01882522629817543), (2168, 0.01882354162460571), (1351, 0.01882146378429471), (3513, 0.018736355770182504), (2568, 0.018677968519377218), (963, 0.01866096963124756), (1775, 0.018659895726181593), (1799, 0.01863706181922705), (2174, 0.018636422204506793), (3553, 0.018634082881918652), (418, 0.01862133951619207), (1173, 0.018593487730302692), (4061, 0.018586886347443918), (635, 0.01857809024114557), (1602, 0.018554090168452504), (3228, 0.01853349949301289), (4477, 0.018529116308771118), (282, 0.018522499781677262), (1650, 0.01851174689314452), (961, 0.018502276531660766), (3515, 0.018500550980004887), (4062, 0.018497350373799112), (3978, 0.018494421773007967), (2065, 0.018464077674036246), (1477, 0.018413479481046942), (4246, 0.018358878029401525), (572, 0.01833265393749432), (341, 0.018322101400448064), (3541, 0.018321056376483544), (1157, 0.018311976707768254), (1686, 0.01828254826328461), (1017, 0.01827476388830402), (1714, 0.01824700489334581), (3272, 0.01820073794020844), (3404, 0.018194467462548457), (511, 0.01817637969117044), (853, 0.01816440532180686), (85, 0.018087342596042638), (3456, 0.018030121515698078), (428, 0.01802370287004791), (374, 0.01796975114081193), (2285, 0.017963545343645), (1194, 0.017951175878421512), (867, 0.01795006133222651), (2472, 0.01793962173817799), (3006, 0.017937732711182704), (861, 0.017937213845418364), (1018, 0.017916753558448194), (683, 0.017904872379179784), (523, 0.017887608740947913), (3142, 0.017853426430797792), (3951, 0.01781959855791002), (4457, 0.01781696100916342), (1396, 0.01779535110406117), (1716, 0.017786959509758733), (40, 0.017784808595723504), (733, 0.01778189697777807), (1994, 0.017757685147192323), (1858, 0.017746676024995148), (3989, 0.017720953027701766), (701, 0.017704243838032038), (86, 0.017669811851555275), (535, 0.017645118853714777), (4264, 0.017622609379629766), (1553, 0.017618940921948004), (3240, 0.017605672705385985), (4531, 0.01757672353089423), (2975, 0.017538676221927313), (3265, 0.01753612187495638), (3731, 0.017521802968643994), (847, 0.01751271285307708), (620, 0.017493265110066165), (48, 0.017475439240889443), (4352, 0.01747390764860265), (463, 0.01742476015804682), (3661, 0.017417462938541753), (2739, 0.01740504600878434), (1111, 0.017388770099861357), (3253, 0.01736048054285349), (2732, 0.01735423108951443), (2219, 0.01735192573368196), (56, 0.01732506375764584), (1764, 0.017304563922976572), (675, 0.017295995691934768), (437, 0.017281949427504273), (43, 0.017257512732994487), (3896, 0.017243860763143343), (2294, 0.017241597766375315), (737, 0.017225007922282036), (2740, 0.017195103723044315), (1561, 0.0171888205374074), (1290, 0.01717803694899577), (500, 0.01716554141899273), (3822, 0.01714758717619233), (3713, 0.017130262048169864), (2436, 0.01706882523428587), (4344, 0.017065065988952452), (3313, 0.01700610562984953), (1363, 0.016971600986513402), (3344, 0.0169542189204819), (403, 0.01692084215992099), (3783, 0.016866480278246793), (2607, 0.01685270968905114), (3297, 0.016852493585301498), (2868, 0.016850704035415096), (4088, 0.016850479874293577), (3317, 0.01683295444488679), (3597, 0.01682802397785045), (1687, 0.016815933380898117), (3558, 0.016814784935457988), (4201, 0.016805565304612264), (1116, 0.016796144035985262), (1329, 0.016791989644981457), (2962, 0.016752611960624532), (3135, 0.016749363541581935), (1630, 0.01670413115776025), (465, 0.016627919775502067), (4697, 0.016622807055713038), (3143, 0.016608629438947885), (2815, 0.016539761495480334), (4682, 0.016511524498273374), (2546, 0.0165106037037527), (968, 0.0164985771241846), (441, 0.016497100514750597), (2062, 0.016476732960886697), (2494, 0.016465176019426896), (2010, 0.01644973011995526), (3751, 0.0164084557599672), (1798, 0.0163948687759476), (2053, 0.016374269819566866), (161, 0.016371104173496662), (4459, 0.016370390374774984), (2621, 0.01635766169271101), (2126, 0.016356302993282997), (181, 0.016333280585839122), (2692, 0.016326637209159098), (2334, 0.01632434998166591), (2964, 0.016319441342661934), (2680, 0.01631116294254505), (852, 0.016282798556621576), (731, 0.016282749813121226), (3218, 0.01628133432377103), (1619, 0.016274988141541533), (948, 0.016259029543682225), (122, 0.01621702343365199), (1698, 0.016209924076155697), (1951, 0.016203058804345073), (2418, 0.016188046885730733), (1795, 0.016169832622954655), (1987, 0.016159832926192736), (1937, 0.016151005397385464), (2791, 0.016145274491614035), (2581, 0.016136334692550165), (691, 0.01613488940660956), (252, 0.016133074435162514), (3264, 0.01612561602185807), (1818, 0.016125116230630947), (4068, 0.01611268965902314), (763, 0.016064570037918585), (1509, 0.01604935740182589), (2633, 0.016032935021728787), (1307, 0.016013437424899073), (231, 0.016008564852006125), (4503, 0.015995356382207424), (2640, 0.015979086132477574), (1945, 0.01597483564379923), (3919, 0.015964591235801608), (2363, 0.015957791457740657), (1006, 0.015955171196516856), (170, 0.01595081288388629), (3599, 0.01594567859461793), (1074, 0.01590318311528247), (1746, 0.015881147537879323), (2768, 0.015875879516934074), (1048, 0.015869949606269897), (3612, 0.01586615044334828), (3536, 0.015845935960406704), (3416, 0.015839646557924237), (2360, 0.01580444229339946), (3689, 0.01579637517710241), (568, 0.01578217446733857), (4610, 0.015779554180916297), (75, 0.015762222635884376), (2485, 0.015751863086571637), (3374, 0.015739887170439552), (472, 0.01572240246885694), (894, 0.01571109805502075), (631, 0.01570233307515327), (1226, 0.015694860254797775), (814, 0.0156821032916501), (4282, 0.01566885250712994), (2977, 0.015636926195412564), (159, 0.01562440552587966), (1077, 0.015601910322037707), (1338, 0.015599121385920026), (3152, 0.01557849834405223), (4415, 0.01555094498570086), (850, 0.015547279833081865), (1128, 0.01553526189298775), (2045, 0.01552044744249793), (2910, 0.015517794495449412), (3643, 0.015514612323559177), (1675, 0.015506961278494909), (368, 0.015499970558432993), (2029, 0.01548411553884857), (2277, 0.015480871644635397), (3466, 0.015479318082969366), (3386, 0.015474101534562223), (4387, 0.01546476129027897), (1216, 0.015435503569199625), (3424, 0.015420784962281544), (2193, 0.015410760032371873), (1035, 0.01540768087223936), (2109, 0.015394436422794408), (625, 0.015389259800428374), (897, 0.015387982568910255), (4442, 0.015383632259420934), (3825, 0.015363677150248223), (2031, 0.015360311813454102), (2058, 0.015355868296030976), (4055, 0.015348074837179952), (862, 0.015336783435573867), (2902, 0.015319880893062663), (3119, 0.01531133431644015), (4617, 0.015274945015451985), (112, 0.01526904842418134), (4652, 0.015259130575765754), (3916, 0.015238002032620847), (4106, 0.015234536127506292), (79, 0.015224217534089778), (18, 0.015208045045812852), (2093, 0.01520712294712103), (2152, 0.015207104719754855), (1095, 0.015207052329541632), (906, 0.015202454935125755), (904, 0.015200536683800545), (4511, 0.015189539942430295), (346, 0.015175091271390693), (3085, 0.015145996088442602), (4110, 0.015102260148846027), (3237, 0.01508411017607115), (144, 0.015066755033221826), (947, 0.015065479876266094), (2074, 0.01502228815379552), (2463, 0.015011568424693075), (4124, 0.015007170696904718), (3312, 0.014998168316798201), (408, 0.014994972887011664), (4685, 0.014993531502615006), (1586, 0.014992851963706815), (878, 0.0149800557640225), (1807, 0.0149798049679562), (1781, 0.014979135908302984), (3046, 0.014978572106838547), (3819, 0.0149749088218028), (709, 0.014974604164718583), (277, 0.014957687151897294), (3429, 0.014955878825930585), (249, 0.014928179103793699), (3447, 0.01492302049423172), (433, 0.014898394377857107), (2103, 0.014870599000645295), (1620, 0.014830086897519926), (292, 0.014816972732318193), (881, 0.014803778285823896), (2932, 0.014766505120458016), (1214, 0.014761797021149374), (38, 0.014757061301130135), (866, 0.014744210541572407), (2486, 0.014743218194236473), (2742, 0.014720163646855218), (2119, 0.014707641868494874), (4524, 0.014707513998785612), (1296, 0.014697960293277457), (3826, 0.014681959914185187), (96, 0.01467890142062883), (1417, 0.01467641685495202), (1293, 0.014673491309651428), (3854, 0.014666574293172871), (782, 0.014654576526342047), (3246, 0.0146405633703992), (3076, 0.014616400243336596), (2143, 0.01460130688754237), (844, 0.014580461788549515), (1654, 0.014572165873226215), (829, 0.014569531140263398), (1306, 0.014553068235531326), (3151, 0.014547508277166596), (29, 0.014543170474587145), (3784, 0.014536246354858775), (177, 0.014506146782904787), (824, 0.014505311340727425), (1376, 0.01449613363155766), (440, 0.01448795241148686), (2859, 0.014478793036647715), (3752, 0.014456235174942291), (288, 0.014450963290118687), (966, 0.014419314739543845), (527, 0.014418854430048988), (2303, 0.014403394064943467), (2812, 0.014392501827797662), (1646, 0.014388707368754802), (4257, 0.014386508190584863), (1365, 0.014374074009365186), (4288, 0.014361104485669952), (742, 0.014355489885921016), (1595, 0.014352904617163657), (2917, 0.01434586407211996), (2320, 0.014334304304120827), (2427, 0.014322555574696267), (3399, 0.0142679248338708), (648, 0.014267165077820696), (1000, 0.014265189961474665), (2052, 0.014237250736339902), (4403, 0.01423506023458975), (1681, 0.014176830746928012), (4267, 0.01415856921416751), (3828, 0.014124734894688826), (2795, 0.014104314646722294), (243, 0.014054885353054849), (3389, 0.014045628149573226), (4015, 0.014041487662961101), (4649, 0.014025050916854694), (1875, 0.014024109688939208), (2665, 0.01401159449670139), (1308, 0.014011309203752955), (2873, 0.01399816595314974), (2339, 0.013998120267994312), (1341, 0.013966091266612194), (4469, 0.013954277139949742), (3039, 0.013946592930646179), (3667, 0.013929127164495755), (3586, 0.01389692068752044), (813, 0.013848729747592029), (1594, 0.013805342014301687), (1282, 0.013805009514200607), (3414, 0.0138025109493271), (995, 0.01378825891175091), (1220, 0.013783839291216776), (1310, 0.013778551868451422), (4724, 0.013767432479211262), (10, 0.013761074233253127), (3108, 0.013706822237846432), (1453, 0.013691373136124597), (629, 0.013690573138298457), (3464, 0.013685482733643487), (1109, 0.013672545323777202), (1436, 0.01366283851789632), (296, 0.013650503253856871), (1210, 0.013646223807043046), (1870, 0.013644645083339839), (840, 0.013626784964086062), (3259, 0.013618274397610016), (1185, 0.01360445020692885), (1104, 0.013591525386525992), (4077, 0.013580150601099846), (477, 0.013573515327038661), (1486, 0.01357307869039967), (2013, 0.013557718060862978), (2587, 0.013552652208103911), (3677, 0.01353480044751232), (1064, 0.013530972444982145), (1583, 0.013502603395982391), (2913, 0.013486726973447084), (3018, 0.013485380367594085), (3234, 0.013477756779167226), (928, 0.013475378170276494), (4226, 0.013473890850786943), (201, 0.013472525849429122), (1047, 0.013453850181524927), (1971, 0.013442979741089586), (3507, 0.013386194245403191), (2306, 0.01338601620713457), (2076, 0.013376383090880229), (918, 0.013363294121733617), (3766, 0.013318744128500155), (3675, 0.013313289029109273), (924, 0.013302485322356486), (3655, 0.013290667836185068), (232, 0.013269743845409711), (4637, 0.013252501639066567), (1249, 0.013235252430051213), (1579, 0.013229940807881046), (4748, 0.013226438091235106), (3736, 0.013217925170439283), (4735, 0.013215996372618282), (2942, 0.013215061465403665), (1115, 0.013212062884367564), (1709, 0.013194669353228024), (908, 0.013191781587271134), (4431, 0.013186556799567577), (2788, 0.013146227646069132), (3457, 0.013139390948712026), (2406, 0.013118717314125701), (74, 0.013113769733227823), (2688, 0.013097373118190852), (930, 0.013087576823147417), (748, 0.013078071308814991), (1215, 0.013072133837996696), (60, 0.013063945335599797), (3275, 0.013053664212894904), (937, 0.013048401531536368), (301, 0.01303724448467845), (3579, 0.013035732042154606), (3019, 0.013001489420582126), (4695, 0.012988865366000392), (2584, 0.012977872914616842), (2933, 0.012969358197439058), (600, 0.01296859367017852), (560, 0.012952042218982756), (860, 0.012940218226494219), (1718, 0.012918619385879784), (402, 0.012897920080650034), (1982, 0.012891826863196275), (1312, 0.012887868542278556), (1275, 0.012886764384501391), (1655, 0.012869976029498034), (1584, 0.01285379745986192), (37, 0.012848727043282198), (1019, 0.012836536925628427), (2603, 0.012826486652642816), (2691, 0.012822454392522161), (1841, 0.012818669662379361), (3821, 0.012807649921076844), (2211, 0.012796494133338044), (4244, 0.012794811109326603), (1195, 0.012775501986541777), (615, 0.012766995549935326), (2816, 0.012752397944082294), (3648, 0.012752163688263877), (876, 0.012747834457754372), (2043, 0.012745527445718326), (4467, 0.01273085360051553), (3883, 0.012730751769272892), (613, 0.01272801299823797), (1314, 0.012702732041605344), (2346, 0.012698441145195282), (778, 0.01268365169004989), (4388, 0.01267428902456236), (4187, 0.012672435802067335), (3144, 0.012670008638610598), (3043, 0.012643155719453418), (25, 0.012632848669223817), (2563, 0.01263052636644258), (1571, 0.01262619291970414), (3992, 0.012624574386023824), (1148, 0.012609933198986043), (281, 0.012608057923589662), (949, 0.012584748034712408), (803, 0.012579725262887986), (1266, 0.012573922033013035), (3373, 0.012570337249146283), (1250, 0.012561725574243964), (533, 0.012561712822559244), (2178, 0.012560188304630876), (2421, 0.012557447244955515), (1425, 0.012537847672476737), (2161, 0.012532520230189104), (72, 0.012523414506491599), (3012, 0.012521533165507734), (345, 0.012515140856009679), (2430, 0.012510087459887522), (3127, 0.01250807310715715), (4210, 0.012501048107531616), (2061, 0.012488789947889767), (2769, 0.012488120046451471), (131, 0.012486686921817078), (1950, 0.012474289589098287), (4293, 0.012462642019500057), (458, 0.012461834873509756), (3149, 0.01245542846452312), (3640, 0.012455422839028263), (3524, 0.012448205049137092), (2492, 0.012407515297055503), (156, 0.012406183425652069), (1515, 0.01240504787756943), (1923, 0.01240363268514134), (1908, 0.012390241132918051), (2417, 0.012387861410620904), (3094, 0.012379722295334156), (888, 0.012378025961079576), (2198, 0.012348222891453507), (3926, 0.012344545365096944), (4481, 0.012337669288280182), (1304, 0.012334440647551452), (2897, 0.012334086655478672), (1374, 0.012333650161169864), (3961, 0.012327242739302798), (4619, 0.012322551015769685), (4099, 0.012321485975125734), (3033, 0.01231775659412679), (254, 0.012309936592200501), (1754, 0.012303072481785275), (1262, 0.012291889993420374), (1925, 0.012286823060026365), (3594, 0.012276050674060679), (3465, 0.012265273380285435), (1738, 0.012258642255009325), (2464, 0.012248822551602026), (7, 0.012227938588198014), (4048, 0.01222654556560011), (2503, 0.012221501898736019), (2480, 0.01221881218275522), (787, 0.012211068323125442), (2229, 0.012205261674730714), (336, 0.012203917376114858), (896, 0.012200729644782441), (1692, 0.012194412296547578), (2403, 0.012194287332477871), (1054, 0.012193292706094599), (673, 0.012187715064842822), (4116, 0.012176161413017222), (1144, 0.012175729719212713), (4669, 0.012163951242455506), (1666, 0.01215945608884192), (1852, 0.01215380453569584), (2097, 0.012153509960200608), (973, 0.012148035204765322), (1973, 0.012147439650826267), (481, 0.012145786696773435), (2214, 0.01214321673054235), (727, 0.012114327829726042), (3423, 0.012106138126354915), (3694, 0.012086844218153208), (1874, 0.012069890905988001), (3086, 0.012064924134522273), (2102, 0.012054268242859786), (3066, 0.012041489147432072), (618, 0.012032019293882302), (3280, 0.012022186547246148), (2553, 0.012020960091538045), (2051, 0.01202082502217619), (417, 0.011994494296781903), (2162, 0.011993572614096157), (3765, 0.01197749044696165), (2422, 0.011969086496347196), (3890, 0.01192910791012294), (1119, 0.011924192984795426), (723, 0.01191503961750086), (4231, 0.011913769082111864), (4217, 0.011903872878057234), (2522, 0.011903040583293), (1060, 0.011896691676652754), (1023, 0.0118928871340976), (3696, 0.011891096005023333), (2056, 0.011876590368171784), (3998, 0.011873727341503345), (1339, 0.011871167421394938), (4564, 0.011867012660089483), (521, 0.011866267731270388), (206, 0.01184731314879197), (2656, 0.011847231400943521), (1234, 0.011826644686227562), (1853, 0.011821666834396805), (2196, 0.01181061004383652), (2849, 0.011807203520250067), (2367, 0.01180294037991573), (4123, 0.0117924574314629), (4033, 0.01178239666660142), (2209, 0.011778882977105642), (3157, 0.01177633930259099), (291, 0.011770294273857954), (798, 0.01176685344848996), (4605, 0.011752315337848976), (51, 0.011750533782199568), (2505, 0.011750058232878665), (3316, 0.011747562796504435), (3984, 0.011745572386924941), (4178, 0.011727104759647973), (221, 0.011723497766395502), (2765, 0.011720481425898798), (1821, 0.011719819841552879), (148, 0.01171807607890931), (1658, 0.011713723783973668), (3797, 0.011708012332475658), (4272, 0.01169233526924619), (502, 0.011692137358002805), (3437, 0.01169190963742863), (1736, 0.011691809644686257), (911, 0.011681565720311366), (715, 0.011675180277848207), (3862, 0.011664289435283703), (2049, 0.011664105388898477), (2094, 0.011662879901250983), (1224, 0.011658409442868002), (3382, 0.01165389720492807), (4399, 0.011653064002187102), (879, 0.011651879500046963), (1513, 0.011634218310748692), (1983, 0.011631760957090393), (1727, 0.011612145885695892), (447, 0.011597004993401305), (3566, 0.011577041799170991), (1041, 0.011574182715752272), (584, 0.011556254365458794), (2915, 0.011505680896656961), (3909, 0.011498894431047048), (2862, 0.01149123002796561), (497, 0.01149113225484075), (372, 0.011488728116908112), (1662, 0.01148687019660272), (1897, 0.011471533304066306), (1334, 0.011465025733184961), (4450, 0.011446774219293203), (3983, 0.011441144030599131), (332, 0.011430848627221985), (9, 0.01140537016443007), (1337, 0.011397483855162557), (4009, 0.01138787165321034), (2489, 0.011381755692139166), (1359, 0.011368981216012305), (1708, 0.011363675417412691), (4342, 0.011357165015262752), (994, 0.011349853918649089), (2295, 0.011346029618731053), (4371, 0.011345727469705668), (1440, 0.01134087775668681), (544, 0.011333654768819123), (4004, 0.01132635645778066), (3728, 0.01131382265376464), (524, 0.011311544978671107), (1712, 0.011309179504924544), (3949, 0.011301299386464788), (821, 0.01128745400594373), (1335, 0.011279668646550365), (3210, 0.011265503008198598), (1779, 0.011264387504213479), (1232, 0.011254616473044123), (2934, 0.011249832992712079), (3155, 0.011244861782496342), (208, 0.011232621409510358), (2284, 0.011228721725510957), (2565, 0.0112235656008983), (4435, 0.01122174387163624), (172, 0.011203876278370892), (5, 0.011201693094361052), (1685, 0.011194029504336608), (1935, 0.011187200978985352), (193, 0.011186362372781445), (2695, 0.01118223978800422), (4052, 0.011182018757639422), (1503, 0.011179523132121312), (4709, 0.01117491122278362), (583, 0.011173053594197773), (986, 0.01115993729334545), (470, 0.011158782752754793), (479, 0.011155274900096322), (1964, 0.011146100256034033), (1075, 0.011145511528772727), (2212, 0.011144251103217442), (2809, 0.011142464607023183), (2338, 0.011140245801673856), (1809, 0.01113846389679004), (2275, 0.011133492148618213), (4268, 0.011123356391872667), (3807, 0.011109903486645683), (981, 0.011100724535494488), (4060, 0.011096062766500572), (3027, 0.011095581313842171), (4000, 0.01107794168686614), (1252, 0.011065300379012582), (3327, 0.011059890610631526), (327, 0.01105599969387201), (3888, 0.011050617295274755), (482, 0.011043318468327493), (534, 0.011030680888667266), (1475, 0.011029682045479333), (2545, 0.011022942913766761), (1621, 0.01101011684029778), (3865, 0.010991328295222879), (1124, 0.010969007859872716), (2744, 0.010965264614364013), (2724, 0.010956713961698445), (4057, 0.010954883632557408), (3345, 0.010954603608504795), (2216, 0.010945692966095866), (1527, 0.010930262117142823), (2988, 0.01091227957387491), (3598, 0.01091015923661903), (3674, 0.010900186924007836), (2047, 0.010895890570517281), (1608, 0.010883786892265107), (2279, 0.010881951894565187), (1860, 0.010880845533879125), (3658, 0.01085087977160008), (676, 0.010827563973557415), (2237, 0.01081968139720804), (4673, 0.010817177848844594), (1936, 0.010813432883418888), (3921, 0.010812336050091648), (1481, 0.010809541047317201), (1182, 0.010794686097290358), (406, 0.010794635856045807), (2080, 0.010790741710559628), (1981, 0.010783774853564335), (3660, 0.010770136413817398), (2155, 0.010765164819343344), (1248, 0.01073052393632519), (4255, 0.010725396653118831), (1582, 0.010722189241548403), (2948, 0.010706329998887902), (1478, 0.01069487985798601), (2024, 0.010694866450809255), (2752, 0.010682088430149738), (52, 0.01067866683401322), (2144, 0.010672161279938724), (3748, 0.010663628545860723), (1854, 0.010663273105761269), (165, 0.010659106150950353), (88, 0.010650532227191048), (1876, 0.010640993952293175), (2228, 0.01064058793477735), (357, 0.010640316663571037), (3238, 0.010611280580840479), (3698, 0.010601931819880448), (1160, 0.010600719308922878), (2831, 0.010592369673014593), (4158, 0.010582385215112861), (434, 0.01056592821129175), (2291, 0.010559045617148488), (3346, 0.010552088756624308), (828, 0.010550259644240615), (1021, 0.010538774645980567), (126, 0.0105375210622122), (1612, 0.010535684173309296), (939, 0.010534241746330768), (276, 0.010530618181558326), (1691, 0.010520969341500817), (2020, 0.010512925191035007), (1442, 0.010480102207316173), (4134, 0.010475293221833975), (3596, 0.010470895108150392), (3941, 0.010466008989528377), (464, 0.010458023508799003), (1665, 0.010457129340310282), (3067, 0.010452104295882295), (174, 0.010450602740427967), (3164, 0.010437090889743417), (4119, 0.010428970936576841), (970, 0.010413030706606213), (101, 0.010403905166988227), (1107, 0.010391224048648853), (2980, 0.01037649471242726), (111, 0.010374882364695482), (2600, 0.010372323459166359), (1183, 0.010366558891757721), (78, 0.01035999401816056), (2087, 0.010348193934809805), (3120, 0.010340035793089303), (2951, 0.010337352522208578), (446, 0.010321079738369116), (558, 0.010298639771022241), (1096, 0.010293096567377182), (2008, 0.0102891982775541), (2287, 0.010287078989924762), (604, 0.01027153461143464), (2789, 0.010244524000461684), (2939, 0.010239496859492643), (817, 0.010238656964519654), (3181, 0.010224898854893331), (4336, 0.010219576663610466), (668, 0.010215962515326846), (651, 0.01021468143931292), (2653, 0.010209764156432637), (19, 0.010208053770724985), (4502, 0.010200470098281485), (1305, 0.010193640244542371), (1796, 0.010190185154799665), (4332, 0.010179917337752895), (1864, 0.010176252884535376), (1679, 0.010166811971716015), (2673, 0.010161574711600134), (1020, 0.010150540255332238), (1237, 0.010138268404351475), (1241, 0.010136498058769717), (3267, 0.010133979649496874), (2509, 0.010132790003949888), (285, 0.010115020936711284), (2309, 0.010106796832985428), (1464, 0.010100307302800086), (1387, 0.010082245237432919), (4312, 0.010081225082187398), (3733, 0.01007665738351617), (2473, 0.010076264705326077), (2121, 0.01007252696776716), (164, 0.010067499229241345), (515, 0.01006711117530652), (3318, 0.010065762517029854), (1255, 0.010052820652881468), (4475, 0.010043223342185024), (1739, 0.010042115347821411), (2077, 0.010026448457126146), (2572, 0.010022347462959037), (4444, 0.010006302705258754), (197, 0.009989945399949003), (3954, 0.00998538946427686), (1695, 0.00997564324234893), (3956, 0.009954425534867717), (297, 0.009927010074410008), (307, 0.00992418620348898), (2264, 0.009922179131671564), (220, 0.009920186784460784), (734, 0.009908679592327633), (4674, 0.009903348277192869), (900, 0.009892338800472604), (369, 0.009882632028049794), (4603, 0.00986921662953041), (2774, 0.009848459397148273), (1689, 0.009844641244960612), (838, 0.009838115688412166), (1776, 0.0098358603524347), (3829, 0.009834939060920419), (1514, 0.009791647053878893), (851, 0.009783978179091291), (1519, 0.009783842917575914), (1920, 0.009782608116023663), (3839, 0.009758852198812935), (15, 0.00975883200855809), (3656, 0.009750684338538762), (1208, 0.009738679427106083), (461, 0.009735870230676843), (3767, 0.009719008410030192), (3743, 0.009708871207242687), (183, 0.00970327474277273), (168, 0.009686364592453409), (3329, 0.009672496144252618), (2635, 0.009633175779763593), (2803, 0.00962842969380865), (2011, 0.00962061117919719), (3377, 0.00962040850148593), (2468, 0.009605903407398041), (1538, 0.009603555485341001), (3690, 0.009589214652403808), (2158, 0.00958572423266558), (2017, 0.009576074311085533), (768, 0.009572303894458649), (449, 0.00956886564771347), (190, 0.009530735753799348), (3638, 0.009523749496240129), (1105, 0.009522571517813681), (1591, 0.00952156246302535), (936, 0.009519746814981585), (1815, 0.009516957438949628), (905, 0.009510352326482882), (800, 0.009509842096991242), (4612, 0.009509484815268249), (2841, 0.009507735085569137), (3947, 0.00950065426120187), (3616, 0.009499055142429814), (3708, 0.009492422685412007), (4095, 0.009478195474099067), (2771, 0.009476768656058935), (1522, 0.009475294540886558), (4747, 0.00946172526227616), (3577, 0.009440193929886202), (4660, 0.009419472606805182), (1507, 0.009414708829248986), (2793, 0.009410965320524194), (1009, 0.009385985598548958), (4070, 0.009384974281019538), (4335, 0.00936438208022391), (1517, 0.009341993937681424), (519, 0.009341768810662067), (460, 0.009339632272171243), (2014, 0.009332549123313357), (259, 0.009329520160681982), (207, 0.009286164317834024), (32, 0.009278213868954685), (4373, 0.00927792210474013), (89, 0.00926974533340936), (2602, 0.009267026586034843), (2066, 0.009248634299272937), (3110, 0.009248555349694062), (2498, 0.009242644044560858), (1459, 0.00923613985676304), (3880, 0.009230621767286408), (4105, 0.009228301658470925), (139, 0.009224186101803637), (149, 0.009222762812174786), (4512, 0.00921187092466202), (4707, 0.009208215024293958), (1648, 0.00920815620702634), (3096, 0.009197062205572433), (2304, 0.009185829714185745), (3454, 0.009178630130604127), (2616, 0.009174495027370203), (1168, 0.009172796821664966), (1260, 0.009170874624582749), (2763, 0.009163668820064006), (242, 0.009160389924446925), (2697, 0.009143169221603149), (2383, 0.009141285274961636), (3756, 0.009135586920984318), (1371, 0.009132520631576171), (385, 0.009101106323969944), (1790, 0.009099384317430322), (816, 0.009090129769566791), (3652, 0.0090841498410202), (3192, 0.00908240182748993), (942, 0.009079586199752146), (4227, 0.009075746219866362), (1833, 0.009059709090762477), (1113, 0.009058229824353078), (445, 0.009057399367705854), (3453, 0.009042741552353283), (3141, 0.009040117143699459), (1668, 0.009034416505225967), (310, 0.009015251657136835), (2738, 0.009014494326466848), (1303, 0.00900466435687181), (4594, 0.008997398996345198), (582, 0.008992433357344157), (70, 0.008992164663353126), (3970, 0.008974366516567021), (1968, 0.008970666314180347), (1989, 0.00897036165724156), (1674, 0.008968345766726084), (2925, 0.008967114693189133), (3899, 0.008952397160221755), (3634, 0.008945515689541888), (1700, 0.008942530370945077), (2978, 0.008939479038375832), (1755, 0.008928970596437777), (780, 0.008927452898024064), (3256, 0.00889791957800176), (1487, 0.008896399194684762), (929, 0.008894674458783934), (1029, 0.008879410502779721), (4656, 0.008865314855779002), (3768, 0.008834294949133934), (4727, 0.008831911560454774), (3230, 0.0088188136648816), (3364, 0.008818215725255207), (1496, 0.008817374309556633), (448, 0.008816968012482745), (4094, 0.008810858015355848), (2215, 0.008807395611218256), (44, 0.008807268271807408), (2316, 0.008806073573730725), (3866, 0.008805089968791287), (1705, 0.008803724992751541), (508, 0.008783223511252398), (4568, 0.008770428694937576), (2560, 0.008767077238593976), (4328, 0.008765727556832107), (4289, 0.008750373077448711), (125, 0.008738479896669104), (3651, 0.008738392272620537), (2071, 0.008729307505705431), (4510, 0.008726159765618743), (4557, 0.00872086477626968), (4233, 0.008707723565548149), (843, 0.008700841431747635), (113, 0.00870041368733555), (3905, 0.008696409623772727), (1291, 0.008691690231849509), (537, 0.00868867993515091), (4045, 0.008685551991295828), (1713, 0.008667618565771841), (976, 0.008665315003770616), (540, 0.00866011788906198), (3960, 0.00865993482420892), (1887, 0.008656485005959533), (1354, 0.008655956479675006), (474, 0.008638597279376404), (143, 0.008624373208575096), (1349, 0.008606885077754227), (1037, 0.008606618307297007), (4297, 0.008598552973319571), (569, 0.008597570979085672), (4368, 0.008596993931851765), (3945, 0.008581643110730676), (1432, 0.00856379450800503), (1024, 0.00856281711407101), (224, 0.008544978678034568), (4390, 0.008543262098334855), (2036, 0.00854163947744469), (1069, 0.008540240327402731), (3008, 0.008533406747133246), (1949, 0.008523258916575037), (2840, 0.008519593582970393), (1474, 0.008518789946822827), (2780, 0.008512572612857467), (1847, 0.00848828725961506), (3857, 0.008484289818535872), (2854, 0.008483533600091254), (2519, 0.008480301492845047), (4337, 0.008475411089147499), (4290, 0.008468871807951557), (1861, 0.008465594664953658), (2235, 0.008447980749322381), (699, 0.008438215890369674), (869, 0.00842932118942335), (3397, 0.008420897628554575), (1817, 0.008420743656560797), (3645, 0.008418156369370322), (1585, 0.008412957289247543), (4663, 0.00841257564164093), (4093, 0.008409834875496274), (42, 0.008409344151127972), (3633, 0.008403696918790596), (2244, 0.008394996897963391), (1958, 0.008391722838268632), (4684, 0.008389794429346637), (1733, 0.008375545903718511), (191, 0.008371959078562462), (3201, 0.008363717500233415), (2101, 0.008353028106043487), (363, 0.008340893413236624), (4196, 0.008311360523388333), (3245, 0.008306611477279525), (4581, 0.008297942894300065), (2469, 0.008283663049340587), (2994, 0.008274666927488832), (494, 0.008259105840985905), (1388, 0.008257164431238645), (4184, 0.008254915664976041), (3271, 0.00825363003750134), (1747, 0.008233800455947791), (3914, 0.008213584797229376), (1455, 0.008211376132749448), (1770, 0.008207635059695425), (340, 0.008201300222827116), (4269, 0.008193552003420163), (4623, 0.00819167929209379), (4148, 0.008189196132699946), (1140, 0.008178964345387152), (1537, 0.008178249636027993), (2336, 0.00817522086362887), (3570, 0.008169929480724048), (2940, 0.0081645704517984), (12, 0.008157245550242987), (413, 0.008150838892958371), (2609, 0.008147624530670135), (81, 0.008145702771077885), (2280, 0.008144088906164238), (1504, 0.008142626115529784), (3678, 0.008126384783001143), (680, 0.00812364800386159), (50, 0.008119033387055222), (271, 0.008108458024659804), (1896, 0.008103574537960602), (3618, 0.008096942434044678), (1099, 0.008093965300165203), (1292, 0.008084675663513697), (2755, 0.008077278892095245), (2610, 0.008072747010118411), (1330, 0.008070512551246254), (2177, 0.00806680961064204), (3747, 0.008061989567831893), (3129, 0.008061673986038891), (1893, 0.008056768433727492), (539, 0.008045021667322476), (244, 0.008042702605807361), (1406, 0.008035056075387225), (3654, 0.008033628983432576), (1643, 0.00801956225310274), (217, 0.008013244928043636), (1402, 0.008010043189329547), (4363, 0.008000446561089954), (503, 0.007997461297852839), (3150, 0.007992162969320867), (752, 0.00798773775335516), (1660, 0.007981175542070227), (4448, 0.007977386103033477), (3531, 0.00797413195907907), (825, 0.007973628630226517), (4629, 0.007968641303162619), (890, 0.007966684653376343), (717, 0.007965909477353497), (2531, 0.007960919583269659), (4136, 0.00795751264325594), (1851, 0.007952553954479268), (386, 0.007948221760105938), (1063, 0.007943489014629669), (588, 0.007937598276964273), (3778, 0.007934491322446464), (1364, 0.007931720927963877), (4262, 0.007930471559329286), (1911, 0.007926771019336315), (2918, 0.007920646968192939), (3582, 0.00792005301190009), (4543, 0.007918839074819805), (3920, 0.007912211559651251), (313, 0.007910582693535596), (11, 0.007910199587376), (1125, 0.007900308282158637), (1544, 0.00789204781569441), (1230, 0.00789116578041761), (1231, 0.007878141376372435), (367, 0.007875878343025368), (3233, 0.007858403390491701), (2206, 0.007858321205557453), (640, 0.007855227186517582), (1768, 0.007853677536084548), (726, 0.007845848186164909), (809, 0.007836402115393309), (542, 0.007831841948150975), (3526, 0.007817392341227226), (360, 0.007801036574629828), (1761, 0.00780041681522466), (827, 0.0077993815659213), (3794, 0.007786934209361121), (4283, 0.0077864839804296145), (3283, 0.007780601462347601), (2708, 0.007780433866018297), (3303, 0.007773449926018079), (422, 0.007767844488502374), (832, 0.007766924622720894), (4135, 0.0077470673131641256), (1302, 0.007741810883517639), (2647, 0.00773671224463994), (738, 0.007729907861251382), (2184, 0.007722873736887302), (3739, 0.007722699221391563), (311, 0.007716657327066368), (3551, 0.007709632920047939), (4137, 0.007708834919085407), (993, 0.0076948997268556935), (758, 0.007692328769559805), (2169, 0.007688097003420511), (4686, 0.007685290085539616), (504, 0.007684883706882322), (1992, 0.007680680460609145), (4604, 0.007679980466783148), (3125, 0.007676450595289191), (3491, 0.0076687086605917365), (1223, 0.007668265362549014), (4541, 0.00766308998640998), (1505, 0.0076552127117304565), (1170, 0.007647302392439558), (4330, 0.007642979816981336), (1873, 0.0076406724686285555), (1179, 0.007637660606745382), (532, 0.007634219857602105), (3775, 0.0076294201642728085), (3492, 0.007629320597565541), (4325, 0.0076255940089967715), (1644, 0.0076244887593279785), (3665, 0.007620541324859471), (2195, 0.0076185785679005105), (3174, 0.007618326577815438), (1345, 0.007616196477502776), (2900, 0.007614428840271241), (2324, 0.007604872699942593), (3993, 0.0075959616554667755), (1789, 0.0075917210853033105), (4165, 0.007581606426132415), (4394, 0.007579999875429415), (22, 0.007579076634539004), (641, 0.0075764715331347226), (3477, 0.007574528339876197), (789, 0.007572378306678784), (834, 0.00757097094404525), (3435, 0.0075644748577072835), (348, 0.007561686574648644), (1012, 0.007561626164933208), (1411, 0.007548337598542131), (1867, 0.007538406762714899), (4235, 0.007532861278829257), (1913, 0.007532691429821571), (2416, 0.007528537433902911), (322, 0.007516428869126846), (1849, 0.007514439332035242), (4164, 0.007508148288731384), (169, 0.00750499909411287), (215, 0.007504477285221995), (4284, 0.007495006107136638), (3260, 0.007494616835811676), (3557, 0.0074907316046045145), (3842, 0.007482928322811686), (1236, 0.007476754082397907), (1094, 0.007470042363294258), (4687, 0.007469117738148019), (3288, 0.0074684358942045115), (1617, 0.007457386825230139), (3412, 0.007449930515656009), (2759, 0.007437826994087082), (1422, 0.007437471061177377), (230, 0.007433504701955565), (4395, 0.007431286593308631), (632, 0.007430381128309056), (321, 0.007408761832695484), (273, 0.0074072457989778516), (940, 0.007404633029296187), (4367, 0.007396978857378568), (4472, 0.007383986361937753), (501, 0.0073825756654826965), (1467, 0.007381729167192474), (3028, 0.007381657440576074), (2571, 0.00738011840918899), (1645, 0.007379456804724294), (2612, 0.007377387234444163), (2268, 0.007377318023120758), (3641, 0.007377315588740221), (4504, 0.007372512251172124), (2095, 0.007371856005539051), (1969, 0.007371754897940239), (1463, 0.007364936685283192), (2642, 0.007359577595767318), (1597, 0.007358300395814849), (3070, 0.007343949283394242), (2131, 0.007338058318353394), (4303, 0.007329820621256645), (2833, 0.007328201124822786), (333, 0.007312745699966011), (3099, 0.0073127018327797276), (1694, 0.007299446287832327), (1552, 0.007298024648094176), (4155, 0.0072975962778658), (47, 0.007297350121850604), (1877, 0.007289186814993198), (3309, 0.007288884383521869), (4152, 0.007287957555398071), (300, 0.007272090515742097), (1375, 0.007260185325747732), (1327, 0.0072585301610277415), (644, 0.0072564570377075845), (2517, 0.007256207886666412), (4428, 0.007253359472563991), (2892, 0.007250994517515949), (767, 0.007246117829474356), (2388, 0.007236362587023118), (1664, 0.00722927405952267), (3646, 0.0072229111329937725), (1742, 0.007222642476178688), (1213, 0.00722196427163284), (3023, 0.00722184024456685), (1404, 0.007220623893244316), (812, 0.007217387968592657), (835, 0.007217104018764552), (185, 0.007216348985205807), (1647, 0.007215429817156041), (388, 0.007211100117454031), (1797, 0.007207633477655171), (387, 0.007204213255601878), (3864, 0.007203312090073285), (2525, 0.007192952854284517), (2202, 0.0071910341343996076), (507, 0.0071725442925045235), (1348, 0.007161209347755763), (2971, 0.007153490546765212), (279, 0.0071510544906919086), (2205, 0.007144929939810695), (4059, 0.007143475799726637), (468, 0.007142793845096162), (4634, 0.007127769187707621), (1555, 0.007111089376053663), (410, 0.0071066181141769295), (3426, 0.007100634552404676), (2446, 0.007094809198735646), (3342, 0.00709318557473123), (710, 0.0070911824830252115), (1456, 0.007090171596757389), (2317, 0.0070678729150529555), (744, 0.0070641789167719335), (805, 0.007063723110834622), (4402, 0.0070632863861593755), (248, 0.007061484638673075), (4236, 0.0070592634805462795), (3114, 0.007056476368578444), (2482, 0.007041006859933379), (324, 0.007040482163437466), (590, 0.007040330301140296), (4174, 0.007030822821696394), (907, 0.007024652079171497), (4176, 0.00702390564892695), (416, 0.006999917545501918), (3244, 0.006992363092213829), (2920, 0.006989141958293241), (1782, 0.0069864586289767), (2203, 0.006984618026338136), (3563, 0.006962001648872307), (1300, 0.00695177027289298), (3311, 0.006909859404482891), (1719, 0.00689390508590571), (3336, 0.006875447775261971), (3986, 0.00687300053622455), (1316, 0.00686845296937272), (4143, 0.006866390708304207), (722, 0.006863700943954514), (1092, 0.00685253571526505), (885, 0.0068515746605544055), (1808, 0.006850647721734897), (3841, 0.006850282403693311), (4590, 0.006840032821873061), (2185, 0.00683813853818343), (1715, 0.006836352355661955), (1392, 0.0067915810474347355), (3045, 0.006789268320958429), (2935, 0.006779192932951461), (1394, 0.006767741838097404), (495, 0.006756158635132379), (33, 0.006750680231789736), (979, 0.006749649312572005), (184, 0.006726531289576605), (1186, 0.006707260391686983), (97, 0.006703497700533027), (2555, 0.006702659025439825), (1684, 0.006686272629016321), (2820, 0.006676432195081841), (4635, 0.006673242296825624), (435, 0.006666476649896225), (4473, 0.0066528262658122825), (1344, 0.006647969422786696), (4385, 0.006643697274720484), (4035, 0.006641664522059191), (3509, 0.0066224969358769595), (1379, 0.0066160401015383785), (1492, 0.006605627083142454), (1863, 0.006592287038258147), (2761, 0.006573431394598549), (3391, 0.0065703462525655955), (3393, 0.006569713184907695), (2611, 0.0065533360248457885), (1565, 0.0065292905741245215), (2098, 0.006529267818677854), (3376, 0.006522916680656472), (3200, 0.0064903781755205735), (3668, 0.006465572104275509), (1320, 0.0064537861672479425), (195, 0.006420590826193431), (2127, 0.006412658382989679), (2614, 0.006400016518823603), (3215, 0.006383687325377087), (3928, 0.006380723138101408), (3835, 0.006372162107688465), (442, 0.00633381998402351), (3940, 0.0062932844481197875), (2439, 0.006266894043301962), (484, 0.00625437575226077), (2526, 0.006249939441213199), (4726, 0.006225485391872996), (2547, 0.006178133538789266), (1276, 0.006132151444817228), (510, 0.006105923309900486), (4261, 0.006099601255749698), (3145, 0.0060952642013052775), (3538, 0.006090861742172371), (1886, 0.006071420030230797), (2440, 0.0059859431237747765), (4646, 0.005981820544244166), (2113, 0.005973171391172127), (1548, 0.005938692090697701), (3578, 0.005921717883288787), (3199, 0.00591537003436431), (3626, 0.00586048481943572), (4271, 0.005805316848237853), (1669, 0.005772666314574949), (2730, 0.005764449250444335), (4194, 0.0057463599405806615), (414, 0.005732072080880807), (4719, 0.005707871745897175), (3546, 0.005699070711111763), (155, 0.005695944399649907), (3448, 0.005691378792462045), (3502, 0.005678679928681843), (2064, 0.005622254813501099), (2351, 0.005600010922610207), (3610, 0.005541163724213392), (153, 0.005514143304861373), (4449, 0.005504892379453959), (491, 0.005484806904065049), (4031, 0.005484429846036933), (3137, 0.005470611035996439), (3172, 0.005462938967946463), (3932, 0.005436398073026418), (293, 0.0054313357131444105), (1758, 0.005425186463552961), (4281, 0.005422431091798611), (4454, 0.005412642331750346), (1321, 0.00539956565872118), (4171, 0.005398587058738283), (2012, 0.005395468334365657), (380, 0.00538975846938098), (3365, 0.005386854025758581), (1381, 0.005383911721323732), (3858, 0.005380009572205842), (2785, 0.005371651115379742), (2180, 0.005362972934500785), (2079, 0.005355770220631182), (424, 0.00532702742599223), (425, 0.005322405637223493), (4460, 0.005318091753928068), (681, 0.0053116254437711756), (1928, 0.005304059164946601), (4462, 0.0053018835456471606), (2470, 0.005298826853065145), (1011, 0.005298467759525301), (2532, 0.005296539364688934), (2518, 0.005296386938917003), (666, 0.005279398348549121), (3325, 0.005265439835397266), (2672, 0.00525856192180959), (3469, 0.005254031493392835), (250, 0.005249888161430951), (4108, 0.005249716218757663), (3221, 0.005247385857662581), (747, 0.005230690790140803), (4120, 0.00522959843568037), (4515, 0.005220683676139715), (3817, 0.005219000649216319), (2218, 0.005215818349496903), (3681, 0.0052082380662976735), (687, 0.0052051866647211875), (4064, 0.005204599911634703), (4549, 0.005204578995270186), (1725, 0.005186719337504788), (3444, 0.005171570741259857), (4091, 0.005155060327447807), (700, 0.005147377164769223), (3831, 0.005144803243181247), (677, 0.005141641465404229), (3730, 0.005128681114570038), (102, 0.00512566027039653), (4338, 0.005124408925496723), (4240, 0.005121645294498618), (2458, 0.0051127978313700055), (1056, 0.005104544161115332), (704, 0.005072950717085296), (1246, 0.005068369223599648), (1640, 0.005067260870472939), (4659, 0.005062814683979119), (1150, 0.0050603284577978936), (4076, 0.005054324500045643), (1952, 0.005052075402463435), (1390, 0.005047547297672099), (4492, 0.005039886831107261), (2637, 0.005037136633436003), (1520, 0.005036368342480102), (2263, 0.005035352238140641), (3131, 0.005019418679416325), (3438, 0.005008594172521321), (2817, 0.005002710531409323), (2283, 0.004999746217546242), (2086, 0.0049968405463471), (603, 0.004990114437860101), (1031, 0.004988239621274919), (392, 0.004983623376445747), (361, 0.0049802357010926045), (2147, 0.004979848381285497), (2719, 0.004978887477306496), (913, 0.0049765532267613865), (239, 0.0049763928877536), (3724, 0.004974659761703982), (3897, 0.004974278976622633), (1426, 0.0049706117641231335), (4613, 0.004966605352564277), (4406, 0.00496252426380156), (2330, 0.004960442757118104), (765, 0.004958396492284037), (3103, 0.004956948137717808), (1502, 0.004954419354679477), (1380, 0.004947941047700743), (891, 0.004942012888020664), (1578, 0.004941332773907865), (781, 0.004940896151029398), (3277, 0.004940031116817115), (599, 0.004935781415552257), (344, 0.004934393720218799), (2790, 0.00493285945623376), (3969, 0.004928714802371863), (1336, 0.00492620076665913), (2675, 0.004918195957830525), (1881, 0.004907150113098801), (3870, 0.004904817146928224), (298, 0.004900914489305541), (2015, 0.0048989655378448), (3378, 0.0048956841519382024), (1613, 0.004880020846286937), (2259, 0.0048772848849048785), (1702, 0.004876287332458398), (3534, 0.004866993464477006), (1155, 0.0048659586741497275), (2511, 0.004862998236958912), (189, 0.004858369655766982), (3930, 0.004857138814685241), (3549, 0.004852068428346711), (3463, 0.004839696125058276), (1636, 0.004833916675960141), (1961, 0.004833232269635889), (971, 0.0048291269764464155), (2431, 0.0048286280038514285), (3722, 0.004823764274802953), (3446, 0.004818262957680787), (1726, 0.004814379148844602), (1525, 0.004810325783892126), (1564, 0.0048050084026656625), (2678, 0.004799664877260294), (110, 0.004794948937365916), (3552, 0.004793150078217566), (1704, 0.004782465551371568), (3810, 0.004780688912406843), (1322, 0.004775937892159577), (1587, 0.004775671904463881), (28, 0.0047634442589543765), (2278, 0.004759648655460704), (3650, 0.00475384171137464), (945, 0.00475056036770085), (1751, 0.004746762229907405), (611, 0.004734935548854356), (1577, 0.004732579832795204), (2414, 0.004729223633776565), (736, 0.004723081559163603), (4755, 0.0047200868972012205), (1346, 0.004718426476538309), (2501, 0.00471418864963188), (2299, 0.004712725298769172), (347, 0.004707509650722713), (1804, 0.004705863497825125), (938, 0.004702745692787024), (1297, 0.0046955526433377845), (299, 0.0046908665487708345), (272, 0.004690221107988089), (4006, 0.004688860021820842), (305, 0.004687070365055174), (3343, 0.004686878243021473), (2046, 0.004685775047076586), (4571, 0.0046830033582140156), (2246, 0.004682807851335971), (3955, 0.004681927793260303), (4592, 0.0046770954273405285), (525, 0.004666505289679253), (610, 0.004664665580585743), (439, 0.0046640128449674705), (3178, 0.004659516504831132), (3963, 0.004656504413447363), (4482, 0.004653249218410293), (3818, 0.0046526653643294965), (65, 0.004652489649924071), (4241, 0.004639982175867545), (1447, 0.004627546899056788), (1857, 0.0046187211495058444), (3746, 0.0046184590974018705), (2128, 0.004613552213242719), (3644, 0.004609514746723797), (1888, 0.004608727822231985), (2807, 0.004602651420148367), (4157, 0.004597548912164983), (84, 0.0045936674067230876), (4218, 0.004589163733350027), (2504, 0.004580685319875474), (3368, 0.004580520232929426), (4112, 0.004579464127396698), (2322, 0.00457011432730595), (152, 0.004556136418548177), (1373, 0.004545237736963832), (773, 0.004538573879252003), (2003, 0.004532558403961869), (1347, 0.0045316367308137805), (2245, 0.004531486871846673), (3011, 0.0045304395916379815), (3720, 0.004527533633588581), (1368, 0.004526664012927844), (261, 0.004526518226960176), (2432, 0.004522240784122172), (3512, 0.0045191156253449405), (3562, 0.004519049627015856), (4252, 0.004513963070403496), (585, 0.004513287730525487), (2757, 0.0045107511473517995), (179, 0.004509596353225601), (3886, 0.004505688358322539), (486, 0.004505466745605028), (3053, 0.0045022790516364855), (3786, 0.004501574386976303), (427, 0.004500123768958541), (3568, 0.004499433628674437), (1632, 0.004498267571710636), (4438, 0.0044979551253855506), (3567, 0.004495004925372792), (2829, 0.004494950104963442), (4279, 0.004486503828120158), (1218, 0.004475714740324902), (498, 0.004472742070278077), (2409, 0.004468406471218728), (4441, 0.004456725969518535), (1274, 0.004455559600841087), (2631, 0.004455405516850712), (171, 0.004453453077355663), (45, 0.004452693613122179), (260, 0.0044499630234449755), (3891, 0.004442931097336488), (4555, 0.004441701626867316), (3361, 0.004441192106379269), (4012, 0.004427893872769846), (2998, 0.004424359654754707), (4292, 0.004420351076982057), (1895, 0.004419598451438372), (2311, 0.004413331436599774), (3133, 0.00440982693603571), (1914, 0.004409297209415339), (3193, 0.004407194380054928), (3320, 0.004406468774771111), (2139, 0.004403254652705599), (661, 0.004401166594927459), (548, 0.0043995435347496436), (4548, 0.00439794826984549), (2938, 0.004392085521887389), (974, 0.004391957542990474), (426, 0.004388258179597994), (810, 0.004383337304302083), (3121, 0.0043815016571141455), (492, 0.0043802847702449224), (3966, 0.004375583746116902), (2327, 0.004374208769273799), (690, 0.004365116683589351), (3083, 0.004361335473132518), (2615, 0.004358195570345001), (454, 0.00435425535846612), (549, 0.004352907106885986), (3718, 0.004350438703002838), (240, 0.004342576120362802), (3321, 0.004340947593177924), (978, 0.0043395223587591675), (335, 0.0043373251518856884), (2497, 0.00433305590128967), (2491, 0.004325603716805075), (409, 0.004319400502391649), (2666, 0.004312871660480279), (1984, 0.004312112628698818), (94, 0.00430842945103196), (411, 0.004306290700073637), (80, 0.004298792605679339), (1524, 0.00429684245312173), (4600, 0.004293496935626619), (14, 0.004293102523379411), (1794, 0.004292984662408564), (4339, 0.0042856359837082445), (776, 0.004282086809631996), (4689, 0.004281023071851689), (4607, 0.004279514543616114), (2529, 0.004278035395217948), (2654, 0.004275733477470567), (1990, 0.004274336432546817), (2749, 0.004269841352405926), (3295, 0.00426954931300267), (1288, 0.0042687319139428515), (3459, 0.004263088189218876), (1784, 0.0042602145190607475), (1171, 0.004249838629032157), (4109, 0.0042451088682705414), (4647, 0.004242448237990981), (2937, 0.004231908314010446), (2262, 0.004226730067832513), (3523, 0.0042247314924287), (2514, 0.0042150402390806595), (4705, 0.004213583740062478), (3051, 0.004203845904456408), (577, 0.004201906861323857), (3231, 0.004201307394139561), (2764, 0.004198700802660745), (3672, 0.004187760571288788), (2137, 0.004176992645340398), (4082, 0.004163290858713942), (882, 0.0041588187966696), (1468, 0.004158598360438427), (91, 0.0041534788533185785), (820, 0.0041442923648026715), (2722, 0.004137218731606227), (2189, 0.004136943376181086), (2906, 0.00413045554205428), (545, 0.004121422884532359), (4202, 0.004120882308065343), (756, 0.00411978138531488), (3411, 0.004116193887569021), (3040, 0.004115674433485695), (2989, 0.004106522615263759), (3803, 0.004104829464229747), (2805, 0.004102614342591666), (1482, 0.004100872414461527), (2251, 0.00410050023485201), (3166, 0.0040879718666997685), (3852, 0.0040879270776227805), (2349, 0.004080518369276905), (1145, 0.004075271595426265), (4353, 0.004074337187012231), (2407, 0.004073797451364046), (1772, 0.004071221433538833), (3990, 0.004067841524716092), (1559, 0.004060411510395761), (2889, 0.004056982564095355), (2842, 0.004056314064411589), (1521, 0.004051994701361884), (1850, 0.004046658653117231), (2537, 0.004042841068844329), (234, 0.004037841029486814), (1546, 0.004036098860514459), (4704, 0.004026094848806722), (2, 0.0040256331161363694), (3052, 0.004025427181394589), (2801, 0.004024592661078641), (735, 0.004024264801286427), (3776, 0.004018092292406266), (779, 0.004010439809704559), (3055, 0.004010247409005504), (2404, 0.0040084675944250855), (2775, 0.004000865105163986), (1120, 0.003999921919752507), (4017, 0.0039992468204842965), (2870, 0.00399514645566244), (3561, 0.003995089629452825), (3042, 0.003993130147242863), (3030, 0.003992428998334895), (725, 0.003991066816743618), (2883, 0.003988129805211694), (1178, 0.003985516477608141), (1046, 0.003984888979774077), (3635, 0.003984498275776958), (2622, 0.003980434623404854), (2855, 0.0039786013156106834), (2204, 0.003977119379067044), (2923, 0.003970820325308482), (1010, 0.003968130866313021), (1910, 0.0039634837049409), (639, 0.003961691559047469), (2731, 0.003955914051741383), (4749, 0.003955108276402211), (4529, 0.003951454202562188), (3481, 0.003948539184668494), (2627, 0.0039482588963999), (1535, 0.003945098554281775), (2296, 0.003941117491224819), (2484, 0.0039404691976431955), (2310, 0.003940344919718052), (4221, 0.003940265502518366), (575, 0.003935845097459856), (3479, 0.003935774110569178), (58, 0.003933868328522062), (64, 0.003929422665676334), (4484, 0.0039293137240611654), (4611, 0.003928228578238782), (2694, 0.003925695558589873), (3939, 0.003925194314287139), (2861, 0.0039063137856929575), (2655, 0.0039055618773157835), (3484, 0.0039016849793575862), (1221, 0.003900504093156966), (4172, 0.0038961088979145853), (2559, 0.003874157242917483), (3878, 0.003873394168872592), (2832, 0.0038676228803460554), (2075, 0.003861580345158699), (4696, 0.0038609382051773174), (2628, 0.0038579974552260103), (4407, 0.0038548776255220253), (3219, 0.0038514078939091948), (2448, 0.003848824000598673), (2392, 0.0038479659494331745), (3292, 0.0038471930757393628), (1530, 0.00384217450411847), (3762, 0.003839454561820019), (2199, 0.0038362921885927207), (381, 0.003831906519021176), (3892, 0.003831121988366588), (3282, 0.0038219589687640563), (4423, 0.0038215731532338566), (4019, 0.0038203938270847337), (2425, 0.0038195439278354113), (2643, 0.0038114909092669454), (4546, 0.0038094287225351278), (237, 0.0038062133545596565), (2255, 0.003802249704004558), (2257, 0.0037943348680993167), (3322, 0.0037929500236102143), (889, 0.003792816337883673), (3262, 0.00379205225442106), (2350, 0.0037870042913044537), (2901, 0.0037838052963442602), (3944, 0.003781873619112016), (1395, 0.003776493820992783), (4230, 0.0037761337602808995), (4142, 0.0037678733595985807), (2838, 0.0037663218947436524), (2286, 0.0037662668173544553), (3980, 0.0037637495927650717), (4400, 0.0037568852941384213), (2530, 0.0037457353577712666), (4102, 0.0037419131551150384), (3848, 0.003738949123760557), (294, 0.0037355740342774097), (3015, 0.003734537155611543), (2078, 0.0037312806898766164), (4606, 0.003731016465456207), (4710, 0.003725198511541884), (807, 0.003725017254627717), (2377, 0.0037242957653107153), (3239, 0.0037156053606082953), (3128, 0.003714990912096817), (2423, 0.0037140708077346503), (3354, 0.003710431415538891), (3140, 0.0037089102348471983), (526, 0.0037059248342341425), (475, 0.0036987331545293425), (1711, 0.003695725493748634), (1121, 0.0036922491110589566), (3249, 0.0036859706452181348), (3687, 0.0036809530983905416), (4692, 0.003678778366740392), (4521, 0.0036785231071693827), (4544, 0.003676453398720631), (3363, 0.003675498879590224), (3357, 0.003663269715318262), (3537, 0.003655423886686096), (2557, 0.003655071470795774), (2438, 0.0036504139074193245), (3159, 0.0036474745187164283), (4306, 0.0036435589424395507), (4107, 0.003639041768667901), (3922, 0.00363811326023654), (2857, 0.0036378575867051467), (670, 0.003631961752990535), (3521, 0.0036306831576026696), (3004, 0.003629918931763576), (2266, 0.003628816928015769), (421, 0.0036284455851787003), (4572, 0.0036169507805474854), (3074, 0.003615768191224825), (4298, 0.003615540160513539), (4209, 0.003611315507945457), (4443, 0.0036102580704253703), (326, 0.003609166600954339), (2957, 0.0036054701117596713), (3874, 0.0036038184584066563), (4723, 0.0036033185898947818), (2488, 0.0036016758248688377), (3832, 0.0035977882119709657), (2188, 0.003596693203790734), (3123, 0.0035947339877105858), (3302, 0.0035907650485062287), (2879, 0.0035891055898782547), (3620, 0.0035886575400929225), (4147, 0.003588471781808519), (3544, 0.0035873713911526352), (2459, 0.0035870975315236975), (2966, 0.003582639321814669), (3358, 0.003577886573646585), (2415, 0.003576094823860747), (1593, 0.0035715141206634276), (2778, 0.0035635536779393354), (3779, 0.003558717266562062), (2993, 0.003554664926672299), (3901, 0.0035541994161742397), (3257, 0.0035511045873575877), (2619, 0.0035490392856045425), (1429, 0.003542928485521057), (2398, 0.0035421649569739267), (777, 0.0035420805195195315), (3356, 0.00353857395078874), (2895, 0.003527587628811966), (489, 0.0035254649091458743), (2434, 0.0035231992343962523), (4458, 0.0035148699941839868), (4701, 0.003512454046346766), (4490, 0.003495031528723301), (1049, 0.003494579495921012), (4280, 0.0034927095080653637), (2772, 0.00349105858701769), (3308, 0.003489021084307299), (2986, 0.0034859561254946244), (4023, 0.003480362619908701), (4717, 0.0034798821370150145), (431, 0.0034755831139416053), (4632, 0.0034744610379501962), (3763, 0.00347323712216485), (3935, 0.003472711477939356), (4416, 0.0034690208091245323), (2570, 0.0034686407693720754), (3081, 0.0034683300092080804), (3621, 0.003467872210192675), (3745, 0.0034667931647167425), (4584, 0.0034647406774675534), (4633, 0.003463486832601129), (1792, 0.0034633509348609573), (2089, 0.003462968696351227), (4694, 0.003462752952706007), (1187, 0.0034625566178514405), (4145, 0.003461879697416688), (2707, 0.0034588832251062768), (518, 0.003454968098145587), (1885, 0.0034531103632242798), (4412, 0.0034522772289532506), (1748, 0.0034504436655130957), (4030, 0.0034494712823376216), (2846, 0.003448407793261226), (4075, 0.003438781732155763), (3540, 0.0034373226568869208), (2142, 0.0034371561426494142), (3359, 0.003429742915677143), (4126, 0.0034293625507417994), (3884, 0.003428893344994354), (3072, 0.003425313910716154), (3307, 0.0034233439323858557), (1947, 0.003421185938375235), (2269, 0.003420441638939748), (2924, 0.003417869044150179), (3754, 0.003417780029000228), (4163, 0.003416813672977757), (3729, 0.003415421832938892), (3425, 0.003414785296631422), (1398, 0.0034116089512009765), (4713, 0.0034116019369319094), (443, 0.0034087145780157036), (3408, 0.0034080943914130014), (4398, 0.0034054374379104235), (2987, 0.003402307905236394), (2884, 0.003402077141504714), (3337, 0.0034004932571655663), (3396, 0.003399323498775226), (3506, 0.0033990173950775864), (823, 0.003396974715492511), (4650, 0.0033963465611828642), (2872, 0.003392387372268251), (3355, 0.0033905363098945393), (925, 0.003388666824272535), (4507, 0.003385070787971241), (3165, 0.003384965587414406), (2478, 0.0033831795161033337), (2187, 0.0033823545619190926), (3952, 0.0033796836483368817), (4516, 0.0033794355648653004), (1656, 0.003378818243841107), (721, 0.0033767467971671477), (3639, 0.003372864450909591), (2796, 0.003372675772663138), (985, 0.0033712598080869213), (2702, 0.003368321986242365), (1924, 0.003366888118173905), (4295, 0.0033648038347072586), (4117, 0.0033641741160029422), (1497, 0.003363430487973832), (739, 0.0033629034996262687), (4753, 0.0033605057072417146), (4243, 0.003355038346920888), (3772, 0.003353786574755973), (3296, 0.0033519299211785827), (2223, 0.003350871332984395), (3611, 0.0033485630707355218), (3867, 0.0033479153507317977), (2302, 0.0033473833480611157), (2629, 0.0033454389414185326), (2437, 0.0033450973271108276), (1909, 0.0033450611276721943), (107, 0.0033424902308097134), (998, 0.0033409231197434296), (999, 0.003338188807019406), (2411, 0.003337107318271715), (3148, 0.003336746450744836), (2623, 0.0033363315233550218), (4092, 0.0033351156488229494), (2400, 0.0033333222128322927), (2914, 0.003332969946486076), (3680, 0.003332590301490632), (4494, 0.003329357980757727), (1383, 0.0033267663537176425), (235, 0.0033264061694725463), (4699, 0.0033251557421170434), (576, 0.0033222174932045372), (3274, 0.0033205629928405008), (419, 0.003319206179042918), (4333, 0.0033162173909871413), (1489, 0.0033115473932627086), (3560, 0.0033113355501580397), (3962, 0.0033098907654966108), (2974, 0.003308795809797853), (922, 0.0033064521077920757), (4718, 0.003305263214865978), (4160, 0.0033042514520967943), (2579, 0.003303398578752446), (2916, 0.00330107534875292), (1862, 0.003300627621159518), (1499, 0.003299054555075818), (4535, 0.003298595816114505), (436, 0.0032972950066665245), (4396, 0.003297234577210586), (3146, 0.003296472048326418), (2356, 0.0032945251240170345), (4401, 0.003292698677214034), (3737, 0.0032907968396291365), (3593, 0.0032898461816803152), (4051, 0.003287923570746525), (3804, 0.003287517394385044), (3248, 0.003286771318179223), (729, 0.0032863446159583027), (444, 0.0032837077123442637), (3273, 0.0032810054333024708), (2585, 0.00328075634163037), (2782, 0.0032806027524892737), (2830, 0.0032799382856427035), (4397, 0.0032799026466701652), (41, 0.003279294909869337), (4593, 0.0032770786480738174), (1498, 0.003276434476911571), (4706, 0.0032741933264007666), (3003, 0.0032738482173834452), (4259, 0.0032735442023163097), (2108, 0.003271052591265915), (1890, 0.0032701287378877797), (3062, 0.0032673312191087212), (4138, 0.0032666456281963906), (2535, 0.0032664081530440962), (688, 0.0032647055847584185), (1960, 0.003262999887858199), (2592, 0.0032626253665344177), (3967, 0.0032578943702238666), (3026, 0.00325605934561846), (3101, 0.0032559545541876746), (4042, 0.003255016661511728), (857, 0.003254423854028742), (967, 0.003253759103218133), (2176, 0.0032533555774105476), (2428, 0.003252373122027925), (1580, 0.0032520087506429135), (2890, 0.003251986722703243), (2159, 0.003249757805563725), (4263, 0.0032459603667460393), (3417, 0.003245883791748612), (587, 0.0032411631461085927), (3116, 0.0032385044092860475), (2375, 0.003237672906490883), (1454, 0.0032370009245223587), (476, 0.0032350471238358665), (4602, 0.003233446633715481), (2410, 0.0032330529909744194), (4446, 0.003232917172416381), (1479, 0.0032323383479677583), (4308, 0.003231908687394176), (4046, 0.0032308143823883096), (2390, 0.003230759413716411), (3183, 0.00322720919796557), (4601, 0.0032257281189158396), (2624, 0.003224760119351009), (253, 0.0032221242287336447), (3714, 0.003221273852381524), (4130, 0.0032211576971286735), (318, 0.003220682734013694), (4140, 0.003220046849714623), (3497, 0.003220012626956877), (1866, 0.00321800219449831), (4101, 0.003216604112524277), (3813, 0.0032155861406194617), (1243, 0.0032144684354875244), (4133, 0.0032134807962572926), (3749, 0.0032133147693436956), (1905, 0.0032130149504081993), (3044, 0.0032124676677060425), (2293, 0.003212397244664494), (4522, 0.003211671577568118), (350, 0.003208387098771474), (499, 0.003207228378534204), (3064, 0.003206794929362068), (2748, 0.003204720071036006), (3258, 0.003204653154112056), (4087, 0.003203709663759289), (2882, 0.00320249780732911), (2507, 0.00320142741347624), (3915, 0.003201049946821882), (8, 0.00320059388379123), (4528, 0.003200548815294395), (2595, 0.003196508082368021), (3889, 0.003196172474960099), (2888, 0.0031923982905324552), (3771, 0.003192073627427996), (2705, 0.003191058888594949), (4545, 0.0031892186763639854), (1959, 0.0031879307195526265), (3269, 0.003187904171955369), (4734, 0.003184902154062381), (3704, 0.0031847890351358347), (3449, 0.0031846193667568693), (2477, 0.0031841119252457493), (3893, 0.0031837460681231077), (4024, 0.0031825642840995756), (3757, 0.00317907153066666), (728, 0.003178636780757785), (2190, 0.003176695801674039), (4579, 0.0031766018536632584), (2776, 0.003174090686042455), (1518, 0.0031740268361780204), (3692, 0.003173155462281545), (1848, 0.0031725213069355445), (4132, 0.003172219185951534), (430, 0.003172040747149336), (4657, 0.0031696096065263646), (2475, 0.003169341471727366), (3112, 0.003169044645643816), (1995, 0.0031689603008468506), (4540, 0.0031666536149194684), (4245, 0.003166393423558256), (791, 0.0031659837058675812), (3184, 0.003165389809145746), (2661, 0.0031637150905020946), (991, 0.0031634914734830744), (3496, 0.0031634261234033227), (395, 0.003161935374846006), (1637, 0.003161236354815497), (3781, 0.00315767867434975), (4495, 0.0031566699471130776), (2786, 0.0031560107795828695), (4574, 0.003155519043638123), (872, 0.003155036154495989), (4111, 0.0031549235500008717), (1683, 0.0031536608018453705), (1409, 0.003152870387086034), (2260, 0.0031526356738127725), (3904, 0.0031522303688364885), (3873, 0.0031512776605746836), (4680, 0.0031510193038660306), (227, 0.003149605079665191), (4005, 0.003149061897506164), (2949, 0.003148905617894766), (3007, 0.0031484124267430243), (2391, 0.0031476568118822016), (2104, 0.0031474063095231334), (1324, 0.003143683534459971), (826, 0.0031430524561752125), (3601, 0.0031430312799835404), (2151, 0.0031421567527631215), (2664, 0.0031419041406274945), (3235, 0.00314171609105089), (2970, 0.00314128595503829), (4355, 0.0031396504937498946), (4169, 0.003139287029464859), (3987, 0.0031388653967813892), (2105, 0.0031382220205612007), (4175, 0.0031381112563731144), (3434, 0.0031353174054859125), (3590, 0.0031305529119804313), (623, 0.003130050086866143), (493, 0.003129052722906032), (2821, 0.003128660468592048), (2361, 0.00312598595652823), (4489, 0.0031256709122981638), (3314, 0.0031256159305702346), (4054, 0.003124954390485971), (456, 0.003122407835077917), (3326, 0.0031213653610251708), (4505, 0.003119493131775609), (2953, 0.0031194352373817777), (2714, 0.0031190171025533343), (4575, 0.0031182323785901665), (1484, 0.0031174372797655573), (2288, 0.0031172575727433384), (4286, 0.003115879567504936), (4318, 0.003114161910602899), (1918, 0.003112957303752796), (1822, 0.0031110175541495923), (3037, 0.0031108247458937074), (3406, 0.0031102310524725577), (1225, 0.0031090179890366997), (4420, 0.003107570867520591), (1400, 0.0031065659699937953), (1916, 0.003105635390945662), (2394, 0.0031053648001404554), (783, 0.003104522878754585), (1007, 0.0031025593681574862), (1670, 0.0031018483441134924), (178, 0.0031002318614652387), (1570, 0.0030993799739290426), (830, 0.0030979692704833834), (1902, 0.0030977039803846236), (2419, 0.0030962259977550064), (262, 0.0030960147774486105), (3372, 0.003095148937852221), (4757, 0.00309488192981671), (3242, 0.0030941416788349985), (4225, 0.0030936526351530783), (716, 0.0030904338490539925), (2088, 0.0030876921811815792), (564, 0.0030875226035171973), (255, 0.003086098818380061), (1439, 0.0030857266993700705), (845, 0.0030853373595543703), (3493, 0.0030846020177252727), (2083, 0.003084180052691098), (20, 0.003082559894628423), (2926, 0.0030821172583001175), (3770, 0.003081832412246536), (4083, 0.003076802820890701), (1229, 0.0030767534005615668), (3514, 0.003076668629939319), (3351, 0.003075831446019932), (2561, 0.0030746382330459434), (3241, 0.0030745833278604494), (3845, 0.003073965102654043), (4419, 0.0030723514176882087), (23, 0.003071125752838578), (2370, 0.0030703687138031155), (4089, 0.0030685827507968538), (3224, 0.0030682906501271015), (3902, 0.0030663791693004007), (1083, 0.003066331110779248), (884, 0.003066178184688689), (4361, 0.0030661479587888655), (2904, 0.0030653016552186782), (2405, 0.003065163168753992), (3353, 0.003063904434068766), (2650, 0.0030619524296930677), (2319, 0.003061572572761451), (4625, 0.003060009027237014), (3666, 0.0030600065241022725), (3349, 0.003057556454092277), (987, 0.0030567701262908726), (4079, 0.0030550896184964333), (2148, 0.003054647713122264), (774, 0.0030536236876889493), (637, 0.0030518475105014847), (3517, 0.0030514461795317547), (1703, 0.0030492372505649835), (1765, 0.0030480746250437954), (4340, 0.0030480493682202648), (3527, 0.003046393329132068), (4334, 0.003045979307856658), (980, 0.003045900410781072), (4422, 0.0030455220371437075), (4287, 0.003044717923107423), (3198, 0.003044465861825492), (3623, 0.0030401780986888034), (2863, 0.0030386827729501436), (4470, 0.0030384255573539126), (3636, 0.0030371028302250093), (1717, 0.003035184225133715), (1516, 0.003035102739430114), (3153, 0.0030347388220120343), (2048, 0.0030333139804751504), (3290, 0.0030328787397981873), (4643, 0.0030314766524749326), (1946, 0.003028406906476502), (176, 0.0030282635642700033), (871, 0.003028086684117795), (2466, 0.0030266247289712665), (2230, 0.003026624688745942), (1294, 0.0030254012531540507), (2894, 0.0030243084264683245), (509, 0.003022305573947639), (4563, 0.003022033584857657), (4098, 0.003020904523930141), (3225, 0.0030200295227758565), (3809, 0.0030195043233390497), (3445, 0.003018204640892109), (1355, 0.0030179771257027223), (3000, 0.003017438958755878), (4533, 0.0030161916959718115), (4273, 0.003015806022027901), (3571, 0.0030135786327815045), (115, 0.0030134697265856414), (2386, 0.003013059869302155), (1174, 0.003012817795521428), (1931, 0.003011099304456292), (933, 0.0030098003183789634), (1176, 0.0030083026523025067), (969, 0.0030080496500773245), (593, 0.0030059444557088864), (3113, 0.00300588699055616), (238, 0.003005830129563722), (3606, 0.0030048657165240907), (2073, 0.0030035817863634296), (750, 0.0030024292011087235), (2292, 0.0030015965505010705), (1122, 0.0030004092379278756), (2397, 0.0029972880228113286), (3792, 0.0029970519507262487), (2746, 0.002996512300751841), (3501, 0.002995700173678083), (2313, 0.002992101614592003), (4049, 0.0029909843514916317), (198, 0.002990178315305439), (1204, 0.002990120518995247), (1533, 0.0029894825467329006), (2091, 0.002988115682684142), (579, 0.0029874720950183076), (2374, 0.0029867726949236776), (2887, 0.002986178203464437), (1476, 0.002985804826721064), (4014, 0.0029818708777358768), (1138, 0.0029811938556833116), (1872, 0.0029807533584610014), (2652, 0.0029794103280709893), (4677, 0.00297872074301086), (1410, 0.0029785918500557897), (4391, 0.0029783292626936308), (4501, 0.0029774834188131937), (636, 0.0029763328024924804), (1722, 0.002976046677909863), (2122, 0.0029751680208028085), (2745, 0.002974683088483081), (1175, 0.002974209107314278), (1706, 0.0029739378420199853), (4266, 0.002973824171153446), (2554, 0.0029730538612518062), (848, 0.002972153166644828), (3227, 0.002971519293839434), (628, 0.002971328673888123), (2192, 0.002967885155459193), (696, 0.002966417029179535), (3436, 0.002966044541057293), (2783, 0.002965873216015328), (4517, 0.0029649228124649287), (2067, 0.0029648151028831126), (2533, 0.002964112077626956), (2826, 0.0029628329291109348), (378, 0.002959718162634565), (1131, 0.002956931605791715), (3341, 0.0029553492272021546), (4715, 0.0029546994351175608), (2340, 0.0029543971177559934), (2344, 0.002953222100964978), (4640, 0.002952546667690535), (2354, 0.0029500345609566555), (114, 0.0029498993041446445), (761, 0.002947534021740998), (3478, 0.0029471031996203376), (2495, 0.002946835803609359), (226, 0.0029466923140039234), (1378, 0.0029445933676032487), (4427, 0.0029437886332563273), (1163, 0.0029419020742577806), (66, 0.002941347646115784), (2387, 0.002940687571365769), (4016, 0.0029389824961618526), (2943, 0.0029365044039686293), (1112, 0.0029353125491791213), (3673, 0.0029351607584391826), (3216, 0.002932720831552688), (2853, 0.002932330533376713), (4056, 0.002931171352336628), (1298, 0.0029307691244789807), (2999, 0.0029303849317307835), (4409, 0.0029296622702006466), (2289, 0.0029266883250633237), (1102, 0.0029249342783970143), (1811, 0.0029233965481237786), (3441, 0.0029228906318268517), (3727, 0.0029220196525041463), (1634, 0.0029209289620116888), (400, 0.0029200377214058464), (3624, 0.0029197872269285533), (490, 0.0029183053078951763), (4520, 0.00291743583681455), (2060, 0.0029171709307149506), (1831, 0.0029139418196552965), (247, 0.002913941584835044), (466, 0.002913634434429693), (2569, 0.002912083343874802), (3381, 0.0029119057732777897), (4228, 0.0029115729765230905), (61, 0.002909614232920617), (1550, 0.0029060326759768303), (880, 0.0029047766953479324), (4668, 0.0029038794634666095), (4487, 0.00290351317378141), (3173, 0.002902343708855914), (2173, 0.0029020464547783935), (2946, 0.0029003218744994615), (3195, 0.0029002227160355516), (3906, 0.0028995770803625165), (2687, 0.0028994769160232857), (1100, 0.0028983218406350405), (4349, 0.002897913491001754), (1110, 0.0028968067005950135), (1026, 0.0028919098002074223), (4020, 0.002891235296494372), (3827, 0.0028895591781127002), (3379, 0.0028893577804592475), (1286, 0.0028891848554705823), (1084, 0.0028877701859307153), (1882, 0.0028875249302710974), (2111, 0.002886802452090291), (98, 0.002885774268997571), (4362, 0.0028856611944090395), (2945, 0.002884833129058968), (26, 0.0028835787082056117), (4530, 0.002882239739630315), (2226, 0.0028817411257248673), (3220, 0.002880300794067964), (4036, 0.002879578419732474), (4641, 0.002878958871234878), (3069, 0.002877987153523686), (4299, 0.0028769884574595026), (3719, 0.0028765310997335277), (4309, 0.0028764533590538203), (3706, 0.0028761573145761835), (4743, 0.0028755411879315524), (2909, 0.0028742522701006184), (1350, 0.0028707290534842065), (1408, 0.0028702638607069676), (127, 0.00286956332665731), (1284, 0.0028688550719963347), (693, 0.00286838709493548), (2401, 0.0028641838628434605), (755, 0.002864070454453085), (4693, 0.002862725515080068), (959, 0.002862526306274636), (1813, 0.0028611790417743047), (522, 0.002860746447436156), (4183, 0.0028583979696136575), (2461, 0.002857460423316995), (4381, 0.0028570947044838316), (4573, 0.002856962372681814), (1245, 0.002856725260875371), (1044, 0.002854914782298225), (1261, 0.002853376958686137), (1030, 0.002852762682272895), (4129, 0.0028525826656220386), (3348, 0.002852080641772014), (541, 0.002850584634902228), (488, 0.002850583137376641), (4382, 0.002849738212098758), (3298, 0.002846823040825424), (4069, 0.0028465793412820258), (1247, 0.0028464924092712488), (4139, 0.002845881295529923), (2467, 0.0028433635825732616), (2716, 0.0028387030734018876), (923, 0.0028381194582813418), (4461, 0.0028371350482903606), (3352, 0.002834094938594713), (646, 0.0028340825972146258), (3900, 0.002833903776852066), (3487, 0.002833536146641073), (1117, 0.0028311424136972917), (4729, 0.002830841864758069), (2117, 0.0028268941272028484), (3503, 0.0028259752288967107), (4670, 0.0028230317415034283), (1027, 0.0028181087867915856), (2141, 0.0028168805752235068), (4567, 0.002816658955875998), (4536, 0.0028156350978669367), (4614, 0.002815000863697473), (3214, 0.0028135652987022783), (2779, 0.0028133468327588185), (3268, 0.0028128055768296676), (1744, 0.002811471458648279), (1929, 0.0028095333042855958), (2540, 0.002808810719085808), (3390, 0.00280795962588589), (4321, 0.0028057649724400166), (4085, 0.0028049712338295064), (3170, 0.0028036891910120623), (984, 0.002803295295897593), (4213, 0.0028023688929197463), (3036, 0.0028019285186509173), (2242, 0.002801206239065175), (1123, 0.002800892445210943), (2068, 0.0028004310462894774), (2965, 0.0027995265349105634), (4206, 0.0027994011144945844), (1878, 0.002798242357756171), (4345, 0.002795451795443891), (2995, 0.002793111911230914), (373, 0.0027930268522342247), (2679, 0.002788742689923902), (203, 0.0027885291658807138), (698, 0.0027883218058153427), (2651, 0.0027883012715083423), (2598, 0.0027882748022844245), (2133, 0.002787525474698112), (2997, 0.0027855507855365307), (2800, 0.0027843618188990527), (818, 0.0027841410402860757), (1032, 0.00278355215921689), (3014, 0.0027821412828216434), (3194, 0.002781676539106364), (116, 0.0027814811315099667), (578, 0.0027814550554442746), (3734, 0.002779624831098039), (3811, 0.0027782659321502114), (2972, 0.002777927002267927), (1663, 0.0027763792669073784), (1177, 0.002776173277090363), (2348, 0.002775923784491395), (3433, 0.0027749645168357096), (31, 0.002771658965977769), (694, 0.0027713673111331794), (2004, 0.002769891870010987), (4011, 0.002767770101491825), (4254, 0.0027671859280568533), (1203, 0.002767074841215232), (154, 0.0027663192169014813), (1372, 0.002764555594337065), (886, 0.002762921247759345), (903, 0.002762513895252858), (941, 0.0027602486207676915), (3243, 0.0027602380005707777), (975, 0.0027589339689042948), (2496, 0.002756050588103209), (2099, 0.002754588450006359), (1884, 0.002754559038429697), (2634, 0.002753717212101376), (2149, 0.00275361055263079), (655, 0.002752081955648394), (3452, 0.002748107155856775), (229, 0.002747558256982234), (598, 0.0027458757952806543), (944, 0.0027457507826733527), (1819, 0.0027456315154554584), (659, 0.002745195437373203), (3725, 0.002744093706364327), (3147, 0.002743589589939462), (213, 0.002742927875546717), (2201, 0.0027415249803189826), (4591, 0.002740959583961331), (4356, 0.0027408256206063607), (2528, 0.0027368305248378906), (2907, 0.002733243673275168), (1641, 0.0027329031657176393), (2556, 0.0027327222785511946), (589, 0.00273128382049349), (2129, 0.002730797813340854), (3627, 0.002726814285870907), (1760, 0.002724780828986303), (1448, 0.002723137980440029), (4616, 0.002722393718555042), (2735, 0.002721051904563262), (3913, 0.002720756439333849), (2399, 0.002720400012873167), (2593, 0.0027190491154822074), (638, 0.002716225151118177), (4479, 0.002714314575203025), (1814, 0.0027135468492432515), (2674, 0.0027128762758988558), (2845, 0.002712541770507467), (3460, 0.0027100088258582003), (2347, 0.002709173689041299), (121, 0.0027086304025830243), (3455, 0.002706009148893814), (3876, 0.0027052413916061166), (457, 0.0027048748007126927), (359, 0.002704567229684583), (1462, 0.002703137976557686), (4326, 0.0027019603023632085), (2362, 0.0027015009944067153), (3050, 0.0027000933387280857), (4277, 0.0026994084261240453), (1672, 0.0026978905690753043), (910, 0.0026977643413241678), (1628, 0.0026965789638123392), (624, 0.0026956318528204484), (863, 0.0026938911494831528), (4620, 0.0026927190638030905), (3742, 0.002691943414765333), (1434, 0.0026906918145594987), (218, 0.002690562710064086), (4638, 0.0026883457836645746), (759, 0.002683243885856208), (2728, 0.002682526231782669), (3953, 0.0026814420383246764), (3474, 0.00267793008622145), (1528, 0.002676794821058992), (1892, 0.0026760983522031334), (1865, 0.0026735845537841003), (608, 0.0026714601360566547), (2402, 0.0026689558841922153), (3304, 0.0026685578587860043), (1869, 0.0026683005600940724), (3614, 0.002667531537381979), (3705, 0.002666780168021096), (473, 0.00266626208856115), (1827, 0.0026650055317899825), (1826, 0.0026649475890645085), (4154, 0.0026630341433982654), (1605, 0.0026624824485997683), (1161, 0.0026603194614296653), (2323, 0.0026595295050989205), (1366, 0.002658410243786888), (563, 0.0026574587131750404), (4350, 0.0026563455907019445), (581, 0.002655805694310205), (4712, 0.0026548577920382887), (2741, 0.0026535321375277254), (1080, 0.002653072205674115), (3974, 0.0026525596477984265), (2457, 0.002651035228202945), (804, 0.0026506831928227222), (1625, 0.00265006562568672), (2248, 0.0026495022031277505), (3863, 0.002648256326299203), (4304, 0.0026450426451035186), (2591, 0.0026439985102125205), (1219, 0.002643852773103021), (1980, 0.002643336293263389), (2191, 0.0026430202604154573), (4080, 0.0026424486684849973), (1004, 0.0026415363906861513), (2976, 0.0026400243226377238), (3167, 0.0026392795394625953), (917, 0.0026379239930717246), (3795, 0.002636260202351953), (3556, 0.002635090139831374), (1921, 0.0026338218128252404), (815, 0.00263291942252321), (2580, 0.0026318582663019847), (856, 0.002630623942362534), (1414, 0.002629173236898135), (268, 0.002628520309761876), (672, 0.0026279288995704605), (1977, 0.0026239521394894974), (703, 0.0026178367959140626), (3380, 0.00261612951201682), (1423, 0.0026155220405808736), (4608, 0.0026152658917067487), (132, 0.0026128087677275546), (4661, 0.0026123500492437664), (1830, 0.0026113151741390906), (1251, 0.002607871549682405), (3755, 0.0026046252180768063), (200, 0.002604072699328415), (712, 0.002603740129317969), (2502, 0.0026001955440731884), (4220, 0.0025998574266135003), (1199, 0.0025997660269270802), (2753, 0.002596281664239416), (92, 0.002593559435486613), (605, 0.0025932031295881216), (4247, 0.0025902726067694192), (1616, 0.0025898807539927937), (4066, 0.002588114083226776), (3910, 0.0025873618706026315), (2240, 0.0025862241117356323), (480, 0.002586070887073845), (3895, 0.002579867605210691), (4432, 0.0025795147466247106), (4296, 0.0025670463139664686), (1943, 0.00256516858187428), (2721, 0.002560775495266276), (4429, 0.0025588432952409457), (1217, 0.002558559250220901), (2520, 0.002554784495533817), (2747, 0.002553631593670009), (1397, 0.0025485451257298195), (2270, 0.0025463438672167853), (642, 0.0025455951795832544), (4386, 0.002541743376769256), (1370, 0.002541123612628559), (1450, 0.0025396887903475474), (278, 0.0025382263785618687), (2527, 0.0025347274528562226), (3629, 0.002531006524108289), (286, 0.002528959144339765), (4627, 0.0025288009099290205), (3569, 0.0025267639348084707), (2743, 0.002526731802729809), (4411, 0.002524782238093137), (2382, 0.002524549426869179), (1763, 0.0025237338346918146), (4476, 0.0025218355627693242), (1088, 0.0025192948881226124), (1627, 0.0025192011675373026), (2146, 0.0025185713958093977), (432, 0.002507145898509234), (2758, 0.0025029437196176486), (1340, 0.0025028020143555694), (1202, 0.0024997937266704284), (626, 0.002497530719932409), (3669, 0.0024975271899255807), (267, 0.002497494446018811), (2035, 0.0024966446704627805), (1356, 0.0024943874715382943), (617, 0.0024882047971050117), (951, 0.002487903376637483), (3657, 0.0024870104004218836), (4636, 0.0024852841300429243), (2039, 0.0024789994474527293), (707, 0.002478807258974822), (2157, 0.002478101282089455), (196, 0.0024753860501168542), (3347, 0.002473538868508366), (3091, 0.002466762125136458), (2132, 0.0024620989542809037), (2876, 0.0024613681960739923), (1042, 0.002461367480319381), (1367, 0.002461094616339255), (4733, 0.0024590199885370576), (2355, 0.002456980918117494), (3331, 0.0024566721395104423), (16, 0.002456368116538512), (1209, 0.002455889466315791), (3252, 0.0024556835790031616), (796, 0.002446742719927226), (901, 0.002441007992827055), (3024, 0.002437927936008046), (4200, 0.002436626614726896), (2034, 0.0024280333484741064), (3548, 0.0024235392633774745), (1427, 0.00241584918893345), (1415, 0.0024145808007217636), (3254, 0.0024096776471692737), (1098, 0.002403183993965442), (1624, 0.002398192611703258), (4311, 0.002394356698204637), (4744, 0.0023890761010738914), (2441, 0.0023864854519912598), (4626, 0.0023827031705170158), (3575, 0.0023808947135739054), (953, 0.0023728716599693968), (3431, 0.0023666056612637516), (194, 0.0023645268566030624), (1871, 0.0023456403105181368), (1677, 0.0023185946838100873), (4598, 0.0023120831447304177), (3301, 0.0023078228446990236), (1040, 0.002301808764966734), (2767, 0.0022992438720243033), (571, 0.002272257110751541), (2760, 0.0022620143126598326), (453, 0.0022535480108237644), (351, 0.0022484526376784202), (3285, 0.0022155527580713305), (4445, 0.0022124134693228496), (4301, 0.002186514829896484), (455, 0.0020912654793098628), (831, 0.0020805246754841207), (129, 0.00205795643414246), (858, 0.0019898726133009224), (740, 0.001977032426340089), (3392, 0.0019581987281938724), (24, 0.0019248279451037718), (1780, 0.0019224999570373684), (3608, 0.0019195901191289583), (2538, 0.0017633381057188056), (1, 0.0), (17, 0.0), (27, 0.0), (30, 0.0), (36, 0.0), (53, 0.0), (54, 0.0), (55, 0.0), (59, 0.0), (69, 0.0), (73, 0.0), (76, 0.0), (77, 0.0), (90, 0.0), (93, 0.0), (95, 0.0), (117, 0.0), (118, 0.0), (128, 0.0), (133, 0.0), (134, 0.0), (146, 0.0), (151, 0.0), (160, 0.0), (163, 0.0), (187, 0.0), (188, 0.0), (219, 0.0), (241, 0.0), (245, 0.0), (257, 0.0), (258, 0.0), (265, 0.0), (275, 0.0), (289, 0.0), (290, 0.0), (295, 0.0), (302, 0.0), (303, 0.0), (312, 0.0), (314, 0.0), (315, 0.0), (316, 0.0), (320, 0.0), (323, 0.0), (331, 0.0), (362, 0.0), (365, 0.0), (366, 0.0), (375, 0.0), (379, 0.0), (382, 0.0), (383, 0.0), (384, 0.0), (389, 0.0), (390, 0.0), (391, 0.0), (393, 0.0), (394, 0.0), (397, 0.0), (398, 0.0), (401, 0.0), (404, 0.0), (405, 0.0), (415, 0.0), (423, 0.0), (438, 0.0), (451, 0.0), (459, 0.0), (462, 0.0), (467, 0.0), (506, 0.0), (516, 0.0), (517, 0.0), (520, 0.0), (528, 0.0), (531, 0.0), (536, 0.0), (546, 0.0), (550, 0.0), (552, 0.0), (554, 0.0), (556, 0.0), (557, 0.0), (559, 0.0), (565, 0.0), (567, 0.0), (570, 0.0), (573, 0.0), (574, 0.0), (586, 0.0), (591, 0.0), (592, 0.0), (595, 0.0), (602, 0.0), (619, 0.0), (634, 0.0), (649, 0.0), (650, 0.0), (658, 0.0), (662, 0.0), (663, 0.0), (665, 0.0), (674, 0.0), (686, 0.0), (702, 0.0), (708, 0.0), (711, 0.0), (713, 0.0), (714, 0.0), (718, 0.0), (720, 0.0), (724, 0.0), (741, 0.0), (746, 0.0), (751, 0.0), (754, 0.0), (764, 0.0), (771, 0.0), (784, 0.0), (786, 0.0), (793, 0.0), (802, 0.0), (811, 0.0), (819, 0.0), (822, 0.0), (837, 0.0), (839, 0.0), (846, 0.0), (849, 0.0), (855, 0.0), (859, 0.0), (873, 0.0), (877, 0.0), (892, 0.0), (893, 0.0), (909, 0.0), (912, 0.0), (914, 0.0), (920, 0.0), (926, 0.0), (927, 0.0), (932, 0.0), (943, 0.0), (946, 0.0), (950, 0.0), (954, 0.0), (955, 0.0), (956, 0.0), (960, 0.0), (964, 0.0), (965, 0.0), (972, 0.0), (977, 0.0), (983, 0.0), (990, 0.0), (992, 0.0), (996, 0.0), (997, 0.0), (1008, 0.0), (1013, 0.0), (1016, 0.0), (1038, 0.0), (1045, 0.0), (1051, 0.0), (1057, 0.0), (1062, 0.0), (1067, 0.0), (1070, 0.0), (1073, 0.0), (1081, 0.0), (1082, 0.0), (1085, 0.0), (1086, 0.0), (1089, 0.0), (1091, 0.0), (1093, 0.0), (1101, 0.0), (1103, 0.0), (1108, 0.0), (1126, 0.0), (1127, 0.0), (1133, 0.0), (1135, 0.0), (1143, 0.0), (1147, 0.0), (1149, 0.0), (1151, 0.0), (1152, 0.0), (1153, 0.0), (1154, 0.0), (1156, 0.0), (1158, 0.0), (1159, 0.0), (1165, 0.0), (1166, 0.0), (1167, 0.0), (1180, 0.0), (1189, 0.0), (1190, 0.0), (1193, 0.0), (1196, 0.0), (1197, 0.0), (1198, 0.0), (1200, 0.0), (1201, 0.0), (1205, 0.0), (1212, 0.0), (1222, 0.0), (1227, 0.0), (1228, 0.0), (1233, 0.0), (1235, 0.0), (1242, 0.0), (1253, 0.0), (1256, 0.0), (1258, 0.0), (1263, 0.0), (1265, 0.0), (1268, 0.0), (1271, 0.0), (1280, 0.0), (1281, 0.0), (1283, 0.0), (1285, 0.0), (1287, 0.0), (1289, 0.0), (1299, 0.0), (1311, 0.0), (1315, 0.0), (1323, 0.0), (1326, 0.0), (1328, 0.0), (1331, 0.0), (1333, 0.0), (1342, 0.0), (1353, 0.0), (1361, 0.0), (1386, 0.0), (1389, 0.0), (1391, 0.0), (1399, 0.0), (1405, 0.0), (1424, 0.0), (1435, 0.0), (1437, 0.0), (1441, 0.0), (1444, 0.0), (1445, 0.0), (1449, 0.0), (1452, 0.0), (1457, 0.0), (1458, 0.0), (1469, 0.0), (1470, 0.0), (1473, 0.0), (1490, 0.0), (1491, 0.0), (1508, 0.0), (1523, 0.0), (1529, 0.0), (1531, 0.0), (1534, 0.0), (1541, 0.0), (1549, 0.0), (1554, 0.0), (1556, 0.0), (1557, 0.0), (1560, 0.0), (1562, 0.0), (1563, 0.0), (1566, 0.0), (1569, 0.0), (1573, 0.0), (1575, 0.0), (1576, 0.0), (1581, 0.0), (1588, 0.0), (1589, 0.0), (1590, 0.0), (1592, 0.0), (1599, 0.0), (1601, 0.0), (1603, 0.0), (1604, 0.0), (1606, 0.0), (1607, 0.0), (1609, 0.0), (1610, 0.0), (1611, 0.0), (1615, 0.0), (1622, 0.0), (1623, 0.0), (1631, 0.0), (1635, 0.0), (1638, 0.0), (1639, 0.0), (1649, 0.0), (1651, 0.0), (1652, 0.0), (1657, 0.0), (1661, 0.0), (1673, 0.0), (1676, 0.0), (1697, 0.0), (1699, 0.0), (1720, 0.0), (1724, 0.0), (1728, 0.0), (1729, 0.0), (1731, 0.0), (1734, 0.0), (1741, 0.0), (1745, 0.0), (1749, 0.0), (1750, 0.0), (1752, 0.0), (1753, 0.0), (1757, 0.0), (1766, 0.0), (1767, 0.0), (1769, 0.0), (1771, 0.0), (1777, 0.0), (1783, 0.0), (1785, 0.0), (1786, 0.0), (1791, 0.0), (1800, 0.0), (1803, 0.0), (1810, 0.0), (1820, 0.0), (1829, 0.0), (1834, 0.0), (1835, 0.0), (1836, 0.0), (1837, 0.0), (1839, 0.0), (1842, 0.0), (1844, 0.0), (1846, 0.0), (1855, 0.0), (1856, 0.0), (1868, 0.0), (1879, 0.0), (1880, 0.0), (1883, 0.0), (1889, 0.0), (1894, 0.0), (1898, 0.0), (1900, 0.0), (1901, 0.0), (1904, 0.0), (1906, 0.0), (1912, 0.0), (1917, 0.0), (1926, 0.0), (1927, 0.0), (1930, 0.0), (1933, 0.0), (1938, 0.0), (1940, 0.0), (1944, 0.0), (1955, 0.0), (1962, 0.0), (1963, 0.0), (1965, 0.0), (1966, 0.0), (1972, 0.0), (1974, 0.0), (1975, 0.0), (1976, 0.0), (1979, 0.0), (1991, 0.0), (1993, 0.0), (1996, 0.0), (1999, 0.0), (2001, 0.0), (2002, 0.0), (2006, 0.0), (2007, 0.0), (2009, 0.0), (2018, 0.0), (2021, 0.0), (2025, 0.0), (2028, 0.0), (2030, 0.0), (2033, 0.0), (2038, 0.0), (2041, 0.0), (2042, 0.0), (2044, 0.0), (2050, 0.0), (2063, 0.0), (2081, 0.0), (2085, 0.0), (2090, 0.0), (2100, 0.0), (2106, 0.0), (2107, 0.0), (2120, 0.0), (2125, 0.0), (2130, 0.0), (2135, 0.0), (2136, 0.0), (2150, 0.0), (2153, 0.0), (2164, 0.0), (2165, 0.0), (2170, 0.0), (2172, 0.0), (2179, 0.0), (2181, 0.0), (2182, 0.0), (2183, 0.0), (2186, 0.0), (2194, 0.0), (2207, 0.0), (2217, 0.0), (2220, 0.0), (2225, 0.0), (2231, 0.0), (2232, 0.0), (2238, 0.0), (2243, 0.0), (2247, 0.0), (2256, 0.0), (2258, 0.0), (2267, 0.0), (2271, 0.0), (2272, 0.0), (2273, 0.0), (2274, 0.0), (2282, 0.0), (2290, 0.0), (2297, 0.0), (2298, 0.0), (2300, 0.0), (2305, 0.0), (2307, 0.0), (2308, 0.0), (2312, 0.0), (2314, 0.0), (2315, 0.0), (2325, 0.0), (2328, 0.0), (2331, 0.0), (2332, 0.0), (2333, 0.0), (2337, 0.0), (2341, 0.0), (2342, 0.0), (2343, 0.0), (2345, 0.0), (2352, 0.0), (2353, 0.0), (2357, 0.0), (2358, 0.0), (2364, 0.0), (2365, 0.0), (2366, 0.0), (2368, 0.0), (2369, 0.0), (2371, 0.0), (2372, 0.0), (2373, 0.0), (2380, 0.0), (2381, 0.0), (2384, 0.0), (2389, 0.0), (2408, 0.0), (2413, 0.0), (2420, 0.0), (2433, 0.0), (2435, 0.0), (2442, 0.0), (2445, 0.0), (2449, 0.0), (2450, 0.0), (2451, 0.0), (2452, 0.0), (2455, 0.0), (2456, 0.0), (2460, 0.0), (2462, 0.0), (2465, 0.0), (2471, 0.0), (2479, 0.0), (2483, 0.0), (2493, 0.0), (2499, 0.0), (2500, 0.0), (2506, 0.0), (2508, 0.0), (2515, 0.0), (2516, 0.0), (2521, 0.0), (2523, 0.0), (2536, 0.0), (2539, 0.0), (2541, 0.0), (2543, 0.0), (2544, 0.0), (2548, 0.0), (2551, 0.0), (2564, 0.0), (2566, 0.0), (2567, 0.0), (2573, 0.0), (2574, 0.0), (2575, 0.0), (2576, 0.0), (2577, 0.0), (2578, 0.0), (2583, 0.0), (2586, 0.0), (2588, 0.0), (2589, 0.0), (2590, 0.0), (2594, 0.0), (2596, 0.0), (2597, 0.0), (2599, 0.0), (2604, 0.0), (2605, 0.0), (2618, 0.0), (2620, 0.0), (2626, 0.0), (2639, 0.0), (2641, 0.0), (2644, 0.0), (2646, 0.0), (2648, 0.0), (2657, 0.0), (2658, 0.0), (2659, 0.0), (2663, 0.0), (2667, 0.0), (2669, 0.0), (2676, 0.0), (2677, 0.0), (2681, 0.0), (2683, 0.0), (2684, 0.0), (2685, 0.0), (2686, 0.0), (2700, 0.0), (2703, 0.0), (2704, 0.0), (2709, 0.0), (2710, 0.0), (2711, 0.0), (2715, 0.0), (2717, 0.0), (2718, 0.0), (2733, 0.0), (2736, 0.0), (2737, 0.0), (2750, 0.0), (2754, 0.0), (2756, 0.0), (2762, 0.0), (2770, 0.0), (2773, 0.0), (2781, 0.0), (2787, 0.0), (2799, 0.0), (2806, 0.0), (2810, 0.0), (2819, 0.0), (2822, 0.0), (2823, 0.0), (2824, 0.0), (2827, 0.0), (2835, 0.0), (2836, 0.0), (2837, 0.0), (2847, 0.0), (2850, 0.0), (2851, 0.0), (2852, 0.0), (2856, 0.0), (2860, 0.0), (2864, 0.0), (2865, 0.0), (2866, 0.0), (2869, 0.0), (2875, 0.0), (2877, 0.0), (2885, 0.0), (2891, 0.0), (2896, 0.0), (2898, 0.0), (2905, 0.0), (2921, 0.0), (2922, 0.0), (2927, 0.0), (2928, 0.0), (2930, 0.0), (2941, 0.0), (2947, 0.0), (2950, 0.0), (2952, 0.0), (2955, 0.0), (2956, 0.0), (2958, 0.0), (2959, 0.0), (2960, 0.0), (2967, 0.0), (2979, 0.0), (2982, 0.0), (2983, 0.0), (2990, 0.0), (2991, 0.0), (3001, 0.0), (3002, 0.0), (3005, 0.0), (3009, 0.0), (3017, 0.0), (3021, 0.0), (3025, 0.0), (3029, 0.0), (3034, 0.0), (3038, 0.0), (3041, 0.0), (3047, 0.0), (3048, 0.0), (3049, 0.0), (3054, 0.0), (3058, 0.0), (3059, 0.0), (3060, 0.0), (3061, 0.0), (3063, 0.0), (3068, 0.0), (3077, 0.0), (3078, 0.0), (3079, 0.0), (3080, 0.0), (3082, 0.0), (3087, 0.0), (3088, 0.0), (3089, 0.0), (3092, 0.0), (3100, 0.0), (3102, 0.0), (3104, 0.0), (3105, 0.0), (3106, 0.0), (3107, 0.0), (3109, 0.0), (3115, 0.0), (3117, 0.0), (3124, 0.0), (3126, 0.0), (3130, 0.0), (3132, 0.0), (3134, 0.0), (3136, 0.0), (3138, 0.0), (3156, 0.0), (3160, 0.0), (3161, 0.0), (3162, 0.0), (3168, 0.0), (3169, 0.0), (3176, 0.0), (3179, 0.0), (3180, 0.0), (3185, 0.0), (3188, 0.0), (3189, 0.0), (3190, 0.0), (3197, 0.0), (3202, 0.0), (3203, 0.0), (3204, 0.0), (3207, 0.0), (3208, 0.0), (3209, 0.0), (3212, 0.0), (3213, 0.0), (3217, 0.0), (3223, 0.0), (3229, 0.0), (3247, 0.0), (3250, 0.0), (3255, 0.0), (3261, 0.0), (3266, 0.0), (3279, 0.0), (3281, 0.0), (3286, 0.0), (3287, 0.0), (3305, 0.0), (3319, 0.0), (3323, 0.0), (3324, 0.0), (3332, 0.0), (3338, 0.0), (3339, 0.0), (3340, 0.0), (3366, 0.0), (3367, 0.0), (3371, 0.0), (3383, 0.0), (3385, 0.0), (3394, 0.0), (3398, 0.0), (3400, 0.0), (3405, 0.0), (3415, 0.0), (3422, 0.0), (3427, 0.0), (3428, 0.0), (3432, 0.0), (3439, 0.0), (3440, 0.0), (3451, 0.0), (3462, 0.0), (3467, 0.0), (3468, 0.0), (3470, 0.0), (3472, 0.0), (3473, 0.0), (3475, 0.0), (3476, 0.0), (3480, 0.0), (3482, 0.0), (3485, 0.0), (3486, 0.0), (3489, 0.0), (3490, 0.0), (3494, 0.0), (3495, 0.0), (3505, 0.0), (3510, 0.0), (3519, 0.0), (3520, 0.0), (3522, 0.0), (3525, 0.0), (3528, 0.0), (3529, 0.0), (3530, 0.0), (3532, 0.0), (3533, 0.0), (3543, 0.0), (3545, 0.0), (3547, 0.0), (3550, 0.0), (3554, 0.0), (3555, 0.0), (3572, 0.0), (3574, 0.0), (3576, 0.0), (3580, 0.0), (3581, 0.0), (3583, 0.0), (3584, 0.0), (3585, 0.0), (3588, 0.0), (3589, 0.0), (3591, 0.0), (3592, 0.0), (3595, 0.0), (3600, 0.0), (3602, 0.0), (3603, 0.0), (3604, 0.0), (3607, 0.0), (3609, 0.0), (3617, 0.0), (3625, 0.0), (3628, 0.0), (3630, 0.0), (3631, 0.0), (3649, 0.0), (3662, 0.0), (3663, 0.0), (3664, 0.0), (3671, 0.0), (3676, 0.0), (3679, 0.0), (3682, 0.0), (3685, 0.0), (3686, 0.0), (3688, 0.0), (3693, 0.0), (3695, 0.0), (3697, 0.0), (3700, 0.0), (3702, 0.0), (3710, 0.0), (3715, 0.0), (3716, 0.0), (3717, 0.0), (3721, 0.0), (3723, 0.0), (3726, 0.0), (3732, 0.0), (3735, 0.0), (3738, 0.0), (3740, 0.0), (3750, 0.0), (3753, 0.0), (3758, 0.0), (3759, 0.0), (3760, 0.0), (3761, 0.0), (3764, 0.0), (3769, 0.0), (3773, 0.0), (3774, 0.0), (3785, 0.0), (3788, 0.0), (3789, 0.0), (3790, 0.0), (3791, 0.0), (3793, 0.0), (3796, 0.0), (3798, 0.0), (3800, 0.0), (3802, 0.0), (3805, 0.0), (3806, 0.0), (3808, 0.0), (3812, 0.0), (3815, 0.0), (3816, 0.0), (3820, 0.0), (3830, 0.0), (3833, 0.0), (3834, 0.0), (3836, 0.0), (3837, 0.0), (3838, 0.0), (3840, 0.0), (3843, 0.0), (3844, 0.0), (3846, 0.0), (3847, 0.0), (3850, 0.0), (3851, 0.0), (3853, 0.0), (3859, 0.0), (3861, 0.0), (3869, 0.0), (3871, 0.0), (3872, 0.0), (3881, 0.0), (3885, 0.0), (3887, 0.0), (3908, 0.0), (3912, 0.0), (3918, 0.0), (3923, 0.0), (3929, 0.0), (3931, 0.0), (3933, 0.0), (3934, 0.0), (3936, 0.0), (3937, 0.0), (3938, 0.0), (3942, 0.0), (3943, 0.0), (3948, 0.0), (3950, 0.0), (3958, 0.0), (3964, 0.0), (3965, 0.0), (3968, 0.0), (3971, 0.0), (3972, 0.0), (3975, 0.0), (3976, 0.0), (3977, 0.0), (3979, 0.0), (3981, 0.0), (3982, 0.0), (3988, 0.0), (3991, 0.0), (3995, 0.0), (3996, 0.0), (3997, 0.0), (4003, 0.0), (4010, 0.0), (4018, 0.0), (4021, 0.0), (4022, 0.0), (4026, 0.0), (4028, 0.0), (4029, 0.0), (4034, 0.0), (4037, 0.0), (4039, 0.0), (4040, 0.0), (4041, 0.0), (4043, 0.0), (4044, 0.0), (4047, 0.0), (4050, 0.0), (4058, 0.0), (4063, 0.0), (4065, 0.0), (4067, 0.0), (4071, 0.0), (4072, 0.0), (4078, 0.0), (4084, 0.0), (4086, 0.0), (4097, 0.0), (4100, 0.0), (4103, 0.0), (4114, 0.0), (4115, 0.0), (4125, 0.0), (4128, 0.0), (4131, 0.0), (4144, 0.0), (4146, 0.0), (4149, 0.0), (4150, 0.0), (4153, 0.0), (4159, 0.0), (4162, 0.0), (4166, 0.0), (4167, 0.0), (4168, 0.0), (4173, 0.0), (4177, 0.0), (4179, 0.0), (4180, 0.0), (4181, 0.0), (4185, 0.0), (4188, 0.0), (4190, 0.0), (4191, 0.0), (4193, 0.0), (4195, 0.0), (4198, 0.0), (4199, 0.0), (4207, 0.0), (4208, 0.0), (4211, 0.0), (4212, 0.0), (4214, 0.0), (4215, 0.0), (4219, 0.0), (4223, 0.0), (4224, 0.0), (4229, 0.0), (4237, 0.0), (4238, 0.0), (4239, 0.0), (4248, 0.0), (4250, 0.0), (4251, 0.0), (4253, 0.0), (4256, 0.0), (4258, 0.0), (4260, 0.0), (4270, 0.0), (4274, 0.0), (4275, 0.0), (4276, 0.0), (4278, 0.0), (4285, 0.0), (4291, 0.0), (4294, 0.0), (4300, 0.0), (4302, 0.0), (4305, 0.0), (4307, 0.0), (4310, 0.0), (4313, 0.0), (4314, 0.0), (4315, 0.0), (4316, 0.0), (4317, 0.0), (4319, 0.0), (4322, 0.0), (4323, 0.0), (4324, 0.0), (4327, 0.0), (4329, 0.0), (4331, 0.0), (4341, 0.0), (4346, 0.0), (4347, 0.0), (4358, 0.0), (4360, 0.0), (4364, 0.0), (4365, 0.0), (4370, 0.0), (4372, 0.0), (4377, 0.0), (4378, 0.0), (4383, 0.0), (4384, 0.0), (4389, 0.0), (4392, 0.0), (4404, 0.0), (4405, 0.0), (4408, 0.0), (4410, 0.0), (4413, 0.0), (4417, 0.0), (4421, 0.0), (4424, 0.0), (4425, 0.0), (4426, 0.0), (4434, 0.0), (4437, 0.0), (4439, 0.0), (4447, 0.0), (4451, 0.0), (4452, 0.0), (4453, 0.0), (4455, 0.0), (4456, 0.0), (4463, 0.0), (4464, 0.0), (4466, 0.0), (4468, 0.0), (4478, 0.0), (4480, 0.0), (4483, 0.0), (4485, 0.0), (4488, 0.0), (4491, 0.0), (4493, 0.0), (4496, 0.0), (4498, 0.0), (4499, 0.0), (4500, 0.0), (4506, 0.0), (4508, 0.0), (4509, 0.0), (4513, 0.0), (4518, 0.0), (4519, 0.0), (4525, 0.0), (4526, 0.0), (4527, 0.0), (4532, 0.0), (4537, 0.0), (4538, 0.0), (4539, 0.0), (4542, 0.0), (4547, 0.0), (4552, 0.0), (4556, 0.0), (4558, 0.0), (4559, 0.0), (4560, 0.0), (4561, 0.0), (4562, 0.0), (4565, 0.0), (4569, 0.0), (4570, 0.0), (4578, 0.0), (4580, 0.0), (4582, 0.0), (4583, 0.0), (4585, 0.0), (4586, 0.0), (4587, 0.0), (4588, 0.0), (4599, 0.0), (4609, 0.0), (4615, 0.0), (4618, 0.0), (4622, 0.0), (4628, 0.0), (4631, 0.0), (4639, 0.0), (4642, 0.0), (4644, 0.0), (4645, 0.0), (4648, 0.0), (4651, 0.0), (4654, 0.0), (4655, 0.0), (4662, 0.0), (4664, 0.0), (4665, 0.0), (4666, 0.0), (4667, 0.0), (4671, 0.0), (4675, 0.0), (4676, 0.0), (4678, 0.0), (4681, 0.0), (4688, 0.0), (4690, 0.0), (4691, 0.0), (4698, 0.0), (4700, 0.0), (4702, 0.0), (4703, 0.0), (4708, 0.0), (4711, 0.0), (4714, 0.0), (4716, 0.0), (4720, 0.0), (4721, 0.0), (4725, 0.0), (4728, 0.0), (4730, 0.0), (4736, 0.0), (4740, 0.0), (4741, 0.0), (4742, 0.0), (4745, 0.0), (4746, 0.0), (4750, 0.0), (4751, 0.0), (4754, 0.0), (4758, 0.0), (4759, 0.0)]\n"
          ]
        }
      ]
    },
    {
      "cell_type": "code",
      "source": [
        "print('Top 30 Movies Suggested for you : \\n')\n",
        "\n",
        "i = 1\n",
        "\n",
        "for movie in Sorted_Similar_Movies:\n",
        "  index = movie[0]\n",
        "  title_from_index = df[df.index==index]['Movie_Title'].values[0]\n",
        "  if (i<31):\n",
        "    print(i, '.' ,title_from_index)\n",
        "    i+=1\n",
        "\n",
        "\n"
      ],
      "metadata": {
        "colab": {
          "base_uri": "https://localhost:8080/"
        },
        "id": "y-xTN5swL7jD",
        "outputId": "209c4d99-c6c2-4e1b-f712-d5a5601070c0"
      },
      "execution_count": 48,
      "outputs": [
        {
          "output_type": "stream",
          "name": "stdout",
          "text": [
            "Top 30 Movies Suggested for you : \n",
            "\n",
            "1 . Monster\n",
            "2 . 15 Minutes\n",
            "3 . Losin' It\n",
            "4 . Lesbian Vampire Killers\n",
            "5 . The Devil's Advocate\n",
            "6 . Here On Earth\n",
            "7 . The Stewardesses\n",
            "8 . Love Actually\n",
            "9 . The Bridges of Madison County\n",
            "10 . Mindhunters\n",
            "11 . Sorority Row\n",
            "12 . Halloween\n",
            "13 . Perfume: The Story of a Murderer\n",
            "14 . Logan's Run\n",
            "15 . Volver\n",
            "16 . The Rage: Carrie 2\n",
            "17 . Class of 1984\n",
            "18 . Wild Things\n",
            "19 . Sleepers\n",
            "20 . Jason Goes to Hell: The Final Friday\n",
            "21 . Hackers\n",
            "22 . The Legend of Bagger Vance\n",
            "23 . The Silence of the Lambs\n",
            "24 . In the Valley of Elah\n",
            "25 . The Yards\n",
            "26 . Brooklyn's Finest\n",
            "27 . North Country\n",
            "28 . Killing Zoe\n",
            "29 . Mystic River\n",
            "30 . The Bounty\n"
          ]
        }
      ]
    },
    {
      "cell_type": "markdown",
      "source": [
        "**Top 10 Movie Recommendation System**"
      ],
      "metadata": {
        "id": "PLbe7WrROLV-"
      }
    },
    {
      "cell_type": "code",
      "source": [
        "Movie_Name = input('Enter your Favourtie movie name: ')\n",
        "\n",
        "list_of_all_titles = df['Movie_Title'].tolist()\n",
        "\n",
        "Find_Close_Match = difflib.get_close_matches(Movie_Name, list_of_all_titles)\n",
        "\n",
        "Close_Match = Find_Close_Match[0]\n",
        "\n",
        "Index_of_Movie = df[df.Movie_Title == Close_Match]['Movie_ID'].values[0]\n",
        "\n",
        "Recommendation_Score = list(enumerate(Similarity_Score[Index_of_Movie]))\n",
        "\n",
        "sorted_similar_movies = sorted(Recommendation_Score, key = lambda x:x[1], reverse = True)\n",
        "\n",
        "print('Top 10 Movies suggested for you : \\n')\n",
        "\n",
        "i = 1\n",
        "\n",
        "for movie in sorted_similar_movies:\n",
        "  index = movie[0]\n",
        "  title_from_index = df[df.Movie_ID==index]['Movie_Title'].values\n",
        "  if (i<11):\n",
        "    print(i, '.' ,title_from_index)\n",
        "    i+=1"
      ],
      "metadata": {
        "colab": {
          "base_uri": "https://localhost:8080/"
        },
        "id": "FVyxumyaOZxW",
        "outputId": "201ea6bf-3b0d-44f5-ad40-651bfd0e9553"
      },
      "execution_count": 50,
      "outputs": [
        {
          "output_type": "stream",
          "name": "stdout",
          "text": [
            "Enter your Favourtie movie name: Avengers\n",
            "Top 10 Movies suggested for you : \n",
            "\n",
            "1 . ['The Avengers']\n",
            "2 . ['Pokémon: Spell of the Unknown']\n",
            "3 . [\"Singin' in the Rain\"]\n",
            "4 . ['From Here to Eternity']\n",
            "5 . ['The Four Seasons']\n",
            "6 . ['The Business of Strangers']\n",
            "7 . ['In the Land of Women']\n",
            "8 . ['Torque']\n",
            "9 . ['Ella Enchanted']\n",
            "10 . ['Changeling']\n"
          ]
        }
      ]
    },
    {
      "cell_type": "code",
      "source": [],
      "metadata": {
        "id": "QlGp8tlnQR3X"
      },
      "execution_count": null,
      "outputs": []
    }
  ]
}